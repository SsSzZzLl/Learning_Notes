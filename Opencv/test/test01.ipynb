{
 "cells": [
  {
   "cell_type": "code",
   "execution_count": 6,
   "metadata": {},
   "outputs": [],
   "source": [
    "import os\n",
    "import cv2\n",
    "import numpy as np\n",
    "%matplotlib inline\n",
    "import matplotlib.pyplot as plt\n",
    "from IPython.display import Image"
   ]
  },
  {
   "cell_type": "code",
   "execution_count": 7,
   "metadata": {},
   "outputs": [],
   "source": [
    "import cv2\n",
    "img1=cv2.imread('./oxygen.jpg',2|4)\n",
    "cv2.namedWindow(\"imread\", cv2.WINDOW_NORMAL)\n",
    "cv2.imshow(\"imread\", img1)\n",
    "cv2.waitKey(0)\n",
    "cv2.destroyAllWindows()"
   ]
  },
  {
   "cell_type": "code",
   "execution_count": 8,
   "metadata": {},
   "outputs": [],
   "source": [
    "import cv2\n",
    "img1=cv2.imread('./oxygen.jpg', 0)\n",
    "cv2.namedWindow(\"imread\")\n",
    "cv2.imshow(\"imread\", img1)\n",
    "cv2.waitKey(0)\n",
    "cv2.destroyAllWindows()"
   ]
  },
  {
   "cell_type": "code",
   "execution_count": 9,
   "metadata": {},
   "outputs": [],
   "source": [
    "import cv2\n",
    "\n",
    "# 读取图像\n",
    "img1=cv2.imread('./oxygen.jpg',2|4)\n",
    "\n",
    "# 创建窗口，允许用户调整大小\n",
    "cv2.namedWindow(\"imread\", cv2.WINDOW_AUTOSIZE)\n",
    "\n",
    "# 显示图像\n",
    "cv2.imshow(\"imread\", img1)\n",
    "\n",
    "# 等待按键，然后关闭窗口\n",
    "cv2.waitKey(0)\n",
    "cv2.destroyAllWindows()"
   ]
  },
  {
   "cell_type": "code",
   "execution_count": 10,
   "metadata": {},
   "outputs": [],
   "source": [
    "import cv2\n",
    "\n",
    "# 读取图像\n",
    "img1=cv2.imread('./oxygen.jpg',16)\n",
    "\n",
    "# 创建窗口，允许用户调整大小\n",
    "cv2.namedWindow(\"imread\", cv2.WINDOW_AUTOSIZE)\n",
    "\n",
    "# 显示图像\n",
    "cv2.imshow(\"imread\", img1)\n",
    "\n",
    "# 等待按键，然后关闭窗口\n",
    "cv2.waitKey(0)\n",
    "cv2.destroyAllWindows()"
   ]
  },
  {
   "cell_type": "code",
   "execution_count": 12,
   "metadata": {},
   "outputs": [
    {
     "name": "stdout",
     "output_type": "stream",
     "text": [
      "width: 1920.0\n",
      "height: 1080.0\n",
      "fps: 28.44094680829375\n",
      "frame count: 186.0\n",
      "0.0\n"
     ]
    }
   ],
   "source": [
    "import cv2 \n",
    " \n",
    "# 打开视频文件\n",
    "capture = cv2.VideoCapture(\"./dota2_testbug.mp4\")  \n",
    "\n",
    "if capture.isOpened():\n",
    "  \n",
    "  # 显示参数\n",
    "  print(\"width: {}\".format(capture.get(cv2.CAP_PROP_FRAME_WIDTH)))\n",
    "  print(\"height: {}\".format(capture.get(cv2.CAP_PROP_FRAME_HEIGHT)))\n",
    "  print(\"fps: {}\".format(capture.get(cv2.CAP_PROP_FPS)))\n",
    "  print(\"frame count: {}\".format(capture.get(cv2.CAP_PROP_FRAME_COUNT))) \n",
    "else:\n",
    "  print(\"Error: Could not open video file\")\n",
    "  \n",
    "while (capture.isOpened()):\n",
    "  \n",
    "  # 视频文件被打开\n",
    "  ret, frame = capture.read()     \n",
    "  \n",
    "  cv2.namedWindow(\"Video\", cv2.WINDOW_KEEPRATIO)\n",
    "  cv2.resizeWindow(\"Video\", 700, 500)\n",
    "  \n",
    "  # 读取到视频文件\n",
    "  if ret:   \n",
    "    \n",
    "    # 在窗口显示读取到的视频文件          \n",
    "    cv2.imshow(\"Video\", frame)     \n",
    "  else:\n",
    "    break\n",
    "  \n",
    "  key = cv2.waitKey(25)\n",
    "  \n",
    "  # 如果按键为ESC\n",
    "  if key == 27:\n",
    "    break\n",
    "  \n",
    "# 关闭视频文件  \n",
    "capture.release()\n",
    "cv2.waitKey(0)\n",
    "\n",
    "cv2.destroyAllWindows()"
   ]
  },
  {
   "cell_type": "code",
   "execution_count": 11,
   "metadata": {},
   "outputs": [
    {
     "name": "stdout",
     "output_type": "stream",
     "text": [
      "width: 640.0\n",
      "height: 480.0\n",
      "fps: 30.0\n",
      "frame count: -1.0\n",
      "-1.0\n"
     ]
    }
   ],
   "source": [
    "import cv2 \n",
    " \n",
    "# 打开视频文件\n",
    "capture = cv2.VideoCapture(0)  \n",
    "\n",
    "if capture.isOpened():\n",
    "  \n",
    "  # 显示参数\n",
    "  print(\"width: {}\".format(capture.get(cv2.CAP_PROP_FRAME_WIDTH)))\n",
    "  print(\"height: {}\".format(capture.get(cv2.CAP_PROP_FRAME_HEIGHT)))\n",
    "  print(\"fps: {}\".format(capture.get(cv2.CAP_PROP_FPS)))\n",
    "  print(\"frame count: {}\".format(capture.get(cv2.CAP_PROP_FRAME_COUNT)))\n",
    "else:\n",
    "  print(\"Error: Could not open video file\")\n",
    "  \n",
    "while (capture.isOpened()):\n",
    "  \n",
    "  # 视频文件被打开\n",
    "  ret, frame = capture.read()     \n",
    "  \n",
    "  cv2.namedWindow(\"Video\", cv2.WINDOW_KEEPRATIO)\n",
    "  cv2.resizeWindow(\"Video\", 700, 500)\n",
    "  \n",
    "  # 读取到视频文件\n",
    "  if ret:   \n",
    "    \n",
    "    # 在窗口显示读取到的视频文件          \n",
    "    cv2.imshow(\"Video\", frame)     \n",
    "  else:\n",
    "    break\n",
    "  \n",
    "  key = cv2.waitKey(25)\n",
    "  \n",
    "  # 如果按键为ESC\n",
    "  if key == 27:\n",
    "    break\n",
    "  \n",
    "# 关闭视频文件  \n",
    "capture.release()\n",
    "cv2.waitKey(0)\n",
    "\n",
    "cv2.destroyAllWindows()"
   ]
  },
  {
   "cell_type": "code",
   "execution_count": 6,
   "metadata": {},
   "outputs": [
    {
     "data": {
      "text/plain": [
       "True"
      ]
     },
     "execution_count": 6,
     "metadata": {},
     "output_type": "execute_result"
    }
   ],
   "source": [
    "import cv2\n",
    "img = cv2.imread('./oxygen.jpg')\n",
    "\n",
    "cv2.imwrite('./oxygen01.jpg', img)\n",
    "\n",
    "cv2.imwrite(\"./oxygen02.jpg\",img,[cv2.IMWRITE_JPEG_QUALITY,100])\n",
    "\n",
    "cv2.imwrite(\"./oxygen03.jpg\",img,[cv2.IMWRITE_JPEG_QUALITY,2])\n",
    "\n",
    "cv2.imwrite(\"./oxygen04.jpg\",img,[cv2.IMWRITE_JPEG_QUALITY,100,cv2.IMWRITE_JPEG_LUMA_QUALITY,10])"
   ]
  },
  {
   "cell_type": "code",
   "execution_count": 9,
   "metadata": {},
   "outputs": [
    {
     "name": "stdout",
     "output_type": "stream",
     "text": [
      "视频生成完成。\n"
     ]
    }
   ],
   "source": [
    "import cv2\n",
    "\n",
    "# 图片序列文件夹\n",
    "image_dir = './picture/'\n",
    "\n",
    "# 图片数量\n",
    "image_count = 21\n",
    "\n",
    "# 尺寸\n",
    "frame_size = (675, 981)\n",
    "\n",
    "# videowriter\n",
    "fourcc = cv2.VideoWriter.fourcc('I', '4', '2', '0')\n",
    "\n",
    "# 生成视频时要注意帧率，因为是隔一帧采样，所以原本30帧的视频就要变为15帧\n",
    "writer = cv2.VideoWriter('./picture.mp4', fourcc, 15, frame_size)\n",
    "\n",
    "# 开始写入\n",
    "for i in range(image_count):\n",
    "  \n",
    "  image = cv2.imread('{0}{1}.jpg'.format(image_dir, i))\n",
    "\n",
    "  writer.write(image)\n",
    "  \n",
    "# 释放\n",
    "writer.release()\n",
    "\n",
    "# 提示消息\n",
    "print('视频生成完成。')\n"
   ]
  },
  {
   "cell_type": "code",
   "execution_count": 10,
   "metadata": {},
   "outputs": [
    {
     "name": "stdout",
     "output_type": "stream",
     "text": [
      "[[0.53575126 0.37671399]\n",
      " [0.56806879 0.52113629]]\n",
      "[[9 8]\n",
      " [6 5]]\n",
      "1.0\n",
      "2.5\n",
      "abc\n",
      "你好\n"
     ]
    }
   ],
   "source": [
    "import cv2\n",
    "import numpy as np\n",
    "\n",
    "fs = cv2.FileStorage('abc.yml', cv2.FileStorage_WRITE)\n",
    "fs.write('mat1', np.random.uniform(0, 1, [2, 2]))\n",
    "fs.write('mat2', np.random.randint(0, 10, [2, 2]))\n",
    "fs.write('num1', 1)\n",
    "fs.write('num2', 2.5)\n",
    "fs.write('str1', 'abc')\n",
    "fs.write('str2', '你好')\n",
    "# 关闭文件\n",
    "fs.release()\n",
    "\n",
    "fs2 = cv2.FileStorage('abc.yml', cv2.FileStorage_READ)\n",
    "mat1 = fs2.getNode('mat1').mat()\n",
    "mat2 = fs2.getNode('mat2').mat()\n",
    "num1 = fs2.getNode('num1').real()\n",
    "num2 = fs2.getNode('num2').real()\n",
    "str1 = fs2.getNode('str1').string()\n",
    "str2 = fs2.getNode('str2').string()\n",
    "# 关闭文件\n",
    "fs2.release()\n",
    "\n",
    "print(mat1)\n",
    "print(mat2)\n",
    "print(num1)\n",
    "print(num2)\n",
    "print(str1)\n",
    "print(str2)\n",
    "\n"
   ]
  },
  {
   "cell_type": "code",
   "execution_count": null,
   "metadata": {},
   "outputs": [],
   "source": []
  },
  {
   "cell_type": "code",
   "execution_count": null,
   "metadata": {},
   "outputs": [],
   "source": []
  }
 ],
 "metadata": {
  "kernelspec": {
   "display_name": "BigDataMiningVenvsForPython38",
   "language": "python",
   "name": "python3"
  },
  "language_info": {
   "codemirror_mode": {
    "name": "ipython",
    "version": 3
   },
   "file_extension": ".py",
   "mimetype": "text/x-python",
   "name": "python",
   "nbconvert_exporter": "python",
   "pygments_lexer": "ipython3",
   "version": "3.8.13"
  }
 },
 "nbformat": 4,
 "nbformat_minor": 2
}
