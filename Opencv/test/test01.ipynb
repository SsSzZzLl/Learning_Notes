{
 "cells": [
  {
   "cell_type": "code",
   "execution_count": 6,
   "metadata": {},
   "outputs": [],
   "source": [
    "import os\n",
    "import cv2\n",
    "import numpy as np\n",
    "%matplotlib inline\n",
    "import matplotlib.pyplot as plt\n",
    "from IPython.display import Image"
   ]
  },
  {
   "cell_type": "code",
   "execution_count": 7,
   "metadata": {},
   "outputs": [],
   "source": [
    "import cv2\n",
    "img1=cv2.imread('./oxygen.jpg',2|4)\n",
    "cv2.namedWindow(\"imread\", cv2.WINDOW_NORMAL)\n",
    "cv2.imshow(\"imread\", img1)\n",
    "cv2.waitKey(0)\n",
    "cv2.destroyAllWindows()"
   ]
  },
  {
   "cell_type": "code",
   "execution_count": 8,
   "metadata": {},
   "outputs": [],
   "source": [
    "import cv2\n",
    "img1=cv2.imread('./oxygen.jpg', 0)\n",
    "cv2.namedWindow(\"imread\")\n",
    "cv2.imshow(\"imread\", img1)\n",
    "cv2.waitKey(0)\n",
    "cv2.destroyAllWindows()"
   ]
  },
  {
   "cell_type": "code",
   "execution_count": 9,
   "metadata": {},
   "outputs": [],
   "source": [
    "import cv2\n",
    "\n",
    "# 读取图像\n",
    "img1=cv2.imread('./oxygen.jpg',2|4)\n",
    "\n",
    "# 创建窗口，允许用户调整大小\n",
    "cv2.namedWindow(\"imread\", cv2.WINDOW_AUTOSIZE)\n",
    "\n",
    "# 显示图像\n",
    "cv2.imshow(\"imread\", img1)\n",
    "\n",
    "# 等待按键，然后关闭窗口\n",
    "cv2.waitKey(0)\n",
    "cv2.destroyAllWindows()"
   ]
  },
  {
   "cell_type": "code",
   "execution_count": 10,
   "metadata": {},
   "outputs": [],
   "source": [
    "import cv2\n",
    "\n",
    "# 读取图像\n",
    "img1=cv2.imread('./oxygen.jpg',16)\n",
    "\n",
    "# 创建窗口，允许用户调整大小\n",
    "cv2.namedWindow(\"imread\", cv2.WINDOW_AUTOSIZE)\n",
    "\n",
    "# 显示图像\n",
    "cv2.imshow(\"imread\", img1)\n",
    "\n",
    "# 等待按键，然后关闭窗口\n",
    "cv2.waitKey(0)\n",
    "cv2.destroyAllWindows()"
   ]
  },
  {
   "cell_type": "code",
   "execution_count": 12,
   "metadata": {},
   "outputs": [
    {
     "name": "stdout",
     "output_type": "stream",
     "text": [
      "width: 1920.0\n",
      "height: 1080.0\n",
      "fps: 28.44094680829375\n",
      "frame count: 186.0\n",
      "0.0\n"
     ]
    }
   ],
   "source": [
    "import cv2 \n",
    " \n",
    "# 打开视频文件\n",
    "capture = cv2.VideoCapture(\"./dota2_testbug.mp4\")  \n",
    "\n",
    "if capture.isOpened():\n",
    "  \n",
    "  # 显示参数\n",
    "  print(\"width: {}\".format(capture.get(cv2.CAP_PROP_FRAME_WIDTH)))\n",
    "  print(\"height: {}\".ormat(capture.get(cv2.CAP_PROP_RAME_HEIGHT)))\n",
    "  print(\"ps: {}\".format(capture.get(cv2.CAP_PROP_FPS)))\n",
    "  print(\"frame count: {}\".format(capture.get(cv2.CAP_PROP_FRAME_COUNT))) \n",
    "else:\n",
    "  print(\"Error: Could not open video file\")\n",
    "  \n",
    "while (capture.isOpened()):\n",
    "  \n",
    "  # 视频文件被打开\n",
    "  ret, frame = capture.read()     \n",
    "  \n",
    "  cv2.namedWindow(\"Video\", cv2.WINDOW_KEEPRATIO)\n",
    "  cv2.resizeWindow(\"Video\", 700, 500)\n",
    "  \n",
    "  # 读取到视频文件\n",
    "  if ret:   \n",
    "    \n",
    "    # 在窗口显示读取到的视频文件          \n",
    "    cv2.imshow(\"Video\", frame)     \n",
    "  else:\n",
    "    break\n",
    "  \n",
    "  key = cv2.waitKey(25)\n",
    "  \n",
    "  # 如果按键为ESC\n",
    "  if key == 27:\n",
    "    break\n",
    "  \n",
    "# 关闭视频文件  \n",
    "capture.release()\n",
    "cv2.waitKey(0)\n",
    "\n",
    "cv2.destroyAllWindows()"
   ]
  },
  {
   "cell_type": "code",
   "execution_count": 11,
   "metadata": {},
   "outputs": [
    {
     "name": "stdout",
     "output_type": "stream",
     "text": [
      "width: 640.0\n",
      "height: 480.0\n",
      "fps: 30.0\n",
      "frame count: -1.0\n",
      "-1.0\n"
     ]
    }
   ],
   "source": [
    "import cv2 \n",
    " \n",
    "# 打开视频文件\n",
    "capture = cv2.VideoCapture(0)  \n",
    "\n",
    "if capture.isOpened():\n",
    "  \n",
    "  # 显示参数\n",
    "  print(\"width: {}\".format(capture.get(cv2.CAP_PROP_FRAME_WIDTH)))\n",
    "  print(\"height: {}\".format(capture.get(cv2.CAP_PROP_FRAME_HEIGHT)))\n",
    "  print(\"fps: {}\".format(capture.get(cv2.CAP_PROP_FPS)))\n",
    "  print(\"frame count: {}\".format(capture.get(cv2.CAP_PROP_FRAME_COUNT)))\n",
    "else:\n",
    "  print(\"Error: Could not open video file\")\n",
    "  \n",
    "while (capture.isOpened()):\n",
    "  \n",
    "  # 视频文件被打开\n",
    "  ret, frame = capture.read()     \n",
    "  \n",
    "  cv2.namedWindow(\"Video\", cv2.WINDOW_KEEPRATIO)\n",
    "  cv2.resizeWindow(\"Video\", 700, 500)\n",
    "  \n",
    "  # 读取到视频文件\n",
    "  if ret:   \n",
    "    \n",
    "    # 在窗口显示读取到的视频文件          \n",
    "    cv2.imshow(\"Video\", frame)     \n",
    "  else:\n",
    "    break\n",
    "  \n",
    "  key = cv2.waitKey(25)\n",
    "  \n",
    "  # 如果按键为ESC\n",
    "  if key == 27:\n",
    "    break\n",
    "  \n",
    "# 关闭视频文件  \n",
    "capture.release()\n",
    "cv2.waitKey(0)\n",
    "\n",
    "cv2.destroyAllWindows()"
   ]
  },
  {
   "cell_type": "code",
   "execution_count": 6,
   "metadata": {},
   "outputs": [
    {
     "data": {
      "text/plain": [
       "True"
      ]
     },
     "execution_count": 6,
     "metadata": {},
     "output_type": "execute_result"
    }
   ],
   "source": [
    "import cv2\n",
    "img = cv2.imread('./oxygen.jpg')\n",
    "\n",
    "cv2.imwrite('./oxygen01.jpg', img)\n",
    "\n",
    "cv2.imwrite(\"./oxygen02.jpg\",img,[cv2.IMWRITE_JPEG_QUALITY,100])\n",
    "\n",
    "cv2.imwrite(\"./oxygen03.jpg\",img,[cv2.IMWRITE_JPEG_QUALITY,2])\n",
    "\n",
    "cv2.imwrite(\"./oxygen04.jpg\",img,[cv2.IMWRITE_JPEG_QUALITY,100,cv2.IMWRITE_JPEG_LUMA_QUALITY,10])"
   ]
  },
  {
   "cell_type": "code",
   "execution_count": 9,
   "metadata": {},
   "outputs": [
    {
     "name": "stdout",
     "output_type": "stream",
     "text": [
      "视频生成完成。\n"
     ]
    }
   ],
   "source": [
    "import cv2\n",
    "\n",
    "# 图片序列文件夹\n",
    "image_dir = './picture/'\n",
    "\n",
    "# 图片数量\n",
    "image_count = 21\n",
    "\n",
    "# 尺寸\n",
    "frame_size = (675, 981)\n",
    "\n",
    "# videowriter\n",
    "fourcc = cv2.VideoWriter.fourcc('I', '4', '2', '0')\n",
    "\n",
    "# 生成视频时要注意帧率，因为是隔一帧采样，所以原本30帧的视频就要变为15帧\n",
    "writer = cv2.VideoWriter('./picture.mp4', fourcc, 15, frame_size)\n",
    "\n",
    "# 开始写入\n",
    "for i in range(image_count):\n",
    "  \n",
    "  image = cv2.imread('{0}{1}.jpg'.format(image_dir, i))\n",
    "\n",
    "  writer.write(image)\n",
    "  \n",
    "# 释放\n",
    "writer.release()\n",
    "\n",
    "# 提示消息\n",
    "print('视频生成完成。')\n"
   ]
  },
  {
   "cell_type": "code",
   "execution_count": 10,
   "metadata": {},
   "outputs": [
    {
     "name": "stdout",
     "output_type": "stream",
     "text": [
      "[[0.53575126 0.37671399]\n",
      " [0.56806879 0.52113629]]\n",
      "[[9 8]\n",
      " [6 5]]\n",
      "1.0\n",
      "2.5\n",
      "abc\n",
      "你好\n"
     ]
    }
   ],
   "source": [
    "import cv2\n",
    "import numpy as np\n",
    "\n",
    "fs = cv2.FileStorage('abc.yml', cv2.FileStorage_WRITE)\n",
    "fs.write('mat1', np.random.uniform(0, 1, [2, 2]))\n",
    "fs.write('mat2', np.random.randint(0, 10, [2, 2]))\n",
    "fs.write('num1', 1)\n",
    "fs.write('num2', 2.5)\n",
    "fs.write('str1', 'abc')\n",
    "fs.write('str2', '你好')\n",
    "# 关闭文件\n",
    "fs.release()\n",
    "\n",
    "fs2 = cv2.FileStorage('abc.yml', cv2.FileStorage_READ)\n",
    "mat1 = fs2.getNode('mat1').mat()\n",
    "mat2 = fs2.getNode('mat2').mat()\n",
    "num1 = fs2.getNode('num1').real()\n",
    "num2 = fs2.getNode('num2').real()\n",
    "str1 = fs2.getNode('str1').string()\n",
    "str2 = fs2.getNode('str2').string()\n",
    "# 关闭文件\n",
    "fs2.release()\n",
    "\n",
    "print(mat1)\n",
    "print(mat2)\n",
    "print(num1)\n",
    "print(num2)\n",
    "print(str1)\n",
    "print(str2)\n",
    "\n"
   ]
  },
  {
   "cell_type": "code",
   "execution_count": 1,
   "metadata": {},
   "outputs": [
    {
     "data": {
      "text/plain": [
       "True"
      ]
     },
     "execution_count": 1,
     "metadata": {},
     "output_type": "execute_result"
    }
   ],
   "source": [
    "import cv2\n",
    "src = cv2.imread('./oxygen.jpg')\n",
    "dst1 = cv2.cvtColor(src, cv2.COLOR_BGR2GRAY)\n",
    "cv2.imwrite(\"./oxygen05.jpg\", dst1)"
   ]
  },
  {
   "cell_type": "code",
   "execution_count": 2,
   "metadata": {},
   "outputs": [
    {
     "data": {
      "text/plain": [
       "True"
      ]
     },
     "execution_count": 2,
     "metadata": {},
     "output_type": "execute_result"
    }
   ],
   "source": [
    "dst2 = cv2.cvtColor(src, cv2.COLOR_BGR2HSV)\n",
    "cv2.imwrite('./oxygen06.jpg', dst2)"
   ]
  },
  {
   "cell_type": "code",
   "execution_count": 3,
   "metadata": {},
   "outputs": [
    {
     "data": {
      "text/plain": [
       "True"
      ]
     },
     "execution_count": 3,
     "metadata": {},
     "output_type": "execute_result"
    }
   ],
   "source": [
    "dst3 = cv2.cvtColor(src, cv2.COLOR_BGR2RGB)\n",
    "cv2.imwrite('./oxygen07.jpg', dst3)"
   ]
  },
  {
   "cell_type": "code",
   "execution_count": 4,
   "metadata": {},
   "outputs": [],
   "source": [
    "import cv2\n",
    " \n",
    "bgr_image = cv2.imread('./oxygen.jpg')\n",
    "cv2.imshow('oxygen', bgr_image)\n",
    "\n",
    "# 拆分通道\n",
    "b, g, r = cv2.split(bgr_image) \n",
    "\n",
    "# 显示B通道图像\n",
    "cv2.imshow('B', b) \n",
    "\n",
    "# 显示G通道图像\n",
    "cv2.imshow('G', g)\n",
    "\n",
    "# 显示R通道图像\n",
    "cv2.imshow('R', r)\n",
    "\n",
    "cv2.waitKey()\n",
    "cv2.destroyAllWindows()"
   ]
  },
  {
   "cell_type": "code",
   "execution_count": 6,
   "metadata": {},
   "outputs": [],
   "source": [
    "import cv2\n",
    "\n",
    "src = cv2.imread('./oxygen.jpg')\n",
    "\n",
    "# 把BGR图像转换为HSV图像\n",
    "scr2 =  cv2.cvtColor(src, cv2.COLOR_BGR2HSV)\n",
    "\n",
    "cv2.imshow('oxygen', scr2)\n",
    "\n",
    "# 拆分通道\n",
    "h ,s, v = cv2.split(scr2)\n",
    "\n",
    "# 显示H通道图像\n",
    "cv2.imshow('H', b) \n",
    "\n",
    "# 显示S通道图像\n",
    "cv2.imshow('S', s)\n",
    "\n",
    "# 显示V通道图像\n",
    "cv2.imshow('V', v)\n",
    "\n",
    "cv2.waitKey()\n",
    "cv2.destroyAllWindows()"
   ]
  },
  {
   "cell_type": "code",
   "execution_count": 8,
   "metadata": {},
   "outputs": [],
   "source": [
    "import cv2\n",
    " \n",
    "bgr_image = cv2.imread('./oxygen.jpg')\n",
    "\n",
    "# 拆分通道\n",
    "b, g, r = cv2.split(bgr_image) \n",
    "\n",
    "# 按B→G→R的顺序合并通道\n",
    "bgr = cv2.merge([b, g, r])\n",
    "\n",
    "cv2.imshow(\"BGR\", bgr)\n",
    "\n",
    "cv2.waitKey()\n",
    "cv2.destroyAllWindows()"
   ]
  },
  {
   "cell_type": "code",
   "execution_count": 9,
   "metadata": {},
   "outputs": [],
   "source": [
    "import cv2\n",
    " \n",
    "bgr_image = cv2.imread('./oxygen.jpg')\n",
    "\n",
    "# 从BGR色彩空间转换到HSV色彩空间\n",
    "hsv_image = cv2.cvtColor(bgr_image, cv2.COLOR_BGR2HSV)\n",
    "\n",
    "# 拆分HSV图像中的通道\n",
    "h, s, v = cv2.split(hsv_image) \n",
    "\n",
    "# 合并拆分后的通道图像\n",
    "hsv = cv2.merge([h, s, v]) \n",
    "\n",
    "# 合并通道后的图像从HSV色彩空间转换到BGR色彩空间\n",
    "bgr = cv2.cvtColor(hsv, cv2.COLOR_HSV2BGR)\n",
    "\n",
    "# 显示BGR图像\n",
    "cv2.imshow(\"BGR\", bgr) \n",
    "\n",
    "cv2.waitKey()\n",
    "cv2.destroyAllWindows()"
   ]
  },
  {
   "cell_type": "code",
   "execution_count": 10,
   "metadata": {},
   "outputs": [],
   "source": [
    "import cv2\n",
    " \n",
    "bgr_image = cv2.imread('./oxygen.jpg')\n",
    "cv2.imshow(\"oxygen\", bgr_image)\n",
    "\n",
    "# 从BGR色彩空间转换到HSV色彩空间\n",
    "hsv_image = cv2.cvtColor(bgr_image, cv2.COLOR_BGR2HSV)\n",
    "\n",
    "# 拆分HSV图像中的通道\n",
    "h, s, v = cv2.split(hsv_image) \n",
    "\n",
    "# 将H通道的值调整为180\n",
    "h[:, :] = 180 \n",
    "\n",
    "# 合并拆分后的通道图像\n",
    "hsv = cv2.merge([h, s, v]) \n",
    "\n",
    "\n",
    "# 合并通道后的图像从HSV色彩空间转换到BGR色彩空间\n",
    "new_Image = cv2.cvtColor(hsv, cv2.COLOR_HSV2BGR)\n",
    "cv2.imshow(\"NEW\",new_Image)\n",
    "\n",
    "cv2.waitKey()\n",
    "cv2.destroyAllWindows()"
   ]
  },
  {
   "cell_type": "code",
   "execution_count": 12,
   "metadata": {},
   "outputs": [],
   "source": [
    "import cv2\n",
    " \n",
    "bgr_image = cv2.imread('./oxygen.jpg')\n",
    "\n",
    "# 从BGR色彩空间转换到BGRA色彩空间\n",
    "bgra_image = cv2.cvtColor(bgr_image, cv2.COLOR_BGR2BGRA)\n",
    "\n",
    "# 显示BGRA图像\n",
    "cv2.imshow('BGRA', bgr_image)\n",
    "\n",
    "# 拆分BGRA图像中的通道\n",
    "b, g, r, a = cv2.split(bgra_image) \n",
    "\n",
    "# 将BGRA图像的透明度调整为172（半透明）\n",
    "a[:, :] = 172 \n",
    "\n",
    "# 合并拆分后并将透明度调整为172的通道图像\n",
    "bgra_172 = cv2.merge([b, g, r, a]) \n",
    "\n",
    "# 将BG图像的透明度调整为0（透明）\n",
    "a[:, :] = 0 \n",
    "\n",
    "# 合并拆分后并将透明度调整为0的通道图像\n",
    "bgra_0 = cv2.merge([b, g, r, a]) \n",
    "\n",
    "cv2.imwrite('./oxygen_bgra.jpg',bgra_image)\n",
    "cv2.imwrite('./oxygen_bgra172.jpg',bgra_172)\n",
    "cv2.imwrite('./oxygen_bgra0.jpg',bgra_0)\n",
    "\n",
    "# 显示透明度为172的BGRA图像\n",
    "cv2.imshow('A = 172', bgra_172)\n",
    "\n",
    "# 显示透明度为0的BGRA图像\n",
    "cv2.imshow('A = 0', bgra_0)\n",
    " \n",
    "cv2.waitKey()\n",
    "cv2.destroyAllWindows()"
   ]
  },
  {
   "cell_type": "code",
   "execution_count": 24,
   "metadata": {},
   "outputs": [
    {
     "name": "stdout",
     "output_type": "stream",
     "text": [
      "[[ 1  2  3  4]\n",
      " [ 5 10  6  7]\n",
      " [ 8  9 10  0]]\n",
      "图像img1中最小值为：0.0, 其位置为：(3, 2)\n",
      "图像img1中最大值为：10.0, 其位置为：(1, 1)\n"
     ]
    }
   ],
   "source": [
    "import cv2 as cv\n",
    "import numpy as np\n",
    "\n",
    "# 新建矩阵array\n",
    "array = np.array([1, 2, 3, 4, 5, 10, 6, 7, 8, 9, 10, 0])\n",
    "\n",
    "# 将array调整为3*4的单通道图像\n",
    "img1 = array.reshape((3, 4))\n",
    "\n",
    "print(img1)\n",
    "\n",
    "minval_1, maxval_1, minloc_1, maxloc_1 = cv.minMaxLoc(img1)\n",
    "\n",
    "temp1 = img1[2, 1]\n",
    "temp2 = img1[1, 2]\n",
    "\n",
    "print('图像img1中最小值为：{}, 其位置为：{}' .format(minval_1, minloc_1))\n",
    "print('图像img1中最大值为：{}, 其位置为：{}' .format(maxval_1, maxloc_1))\n"
   ]
  },
  {
   "cell_type": "code",
   "execution_count": 26,
   "metadata": {},
   "outputs": [
    {
     "name": "stdout",
     "output_type": "stream",
     "text": [
      "[ 1  2  3  4  5  6  7  8  9 10 11 12]\n",
      "----------\n",
      "[[ 1  2  3  4]\n",
      " [ 5  6  7  8]\n",
      " [ 9 10 11 12]]\n",
      "----------\n",
      "[[[ 1  2  3]\n",
      "  [ 4  5  6]]\n",
      "\n",
      " [[ 7  8  9]\n",
      "  [10 11 12]]]\n",
      "----------\n",
      "[[[ 1  2  3]\n",
      "  [ 4  5  6]]\n",
      "\n",
      " [[ 7  8  9]\n",
      "  [10 11 12]]]\n"
     ]
    }
   ],
   "source": [
    "import numpy as np\n",
    "\n",
    "# 新建矩阵A1\n",
    "A1 = np.array([1, 2, 3, 4, 5, 6, 7, 8, 9, 10, 11, 12])\n",
    "\n",
    "print(A1)\n",
    "print('----------')\n",
    "\n",
    "# 将A1调整为3*4的单通道图像(矩阵)\n",
    "img1 = A1.reshape((3, 4))\n",
    "\n",
    "print(img1)\n",
    "print('----------')\n",
    "\n",
    "# 将A1调整为 2*2*3的两通道图像(矩阵)\n",
    "img2 = A1.reshape((2, 2, 3))\n",
    "\n",
    "print(img2)\n",
    "print('----------')\n",
    "\n",
    "# 将某一维度的值设为-1，函数自动计算出其值\n",
    "img3 = A1.reshape((2, 2, -1))\n",
    "\n",
    "print(img3)"
   ]
  },
  {
   "cell_type": "code",
   "execution_count": 32,
   "metadata": {},
   "outputs": [
    {
     "name": "stdout",
     "output_type": "stream",
     "text": [
      "mean函数计算结果如下：{}\n",
      "图像img1的均值为：(5.416666666666666, 0.0, 0.0, 0.0)\n",
      "图像img2的均值为：(5.5, 5.333333333333333, 0.0, 0.0)\n",
      "第一个通道的均值为：5.5\n",
      "第二个通道的均值为：5.333333333333333\n",
      "----------\n",
      "meanStdDev函数计算结果如下：\n",
      "图像img1的均值为：5.416666666666666\n",
      "标准差为：[[3.32812092]]\n",
      "图像img2的均值为：(5.5, 5.333333333333333, 0.0, 0.0)\n",
      "第一个通道的均值为：5.5\n",
      "第二个通道的均值为：5.333333333333333\n",
      "均值为：[[5.5       ]\n",
      " [5.33333333]]\n",
      "标准差为：[[2.98607881]\n",
      " [3.63623737]]\n",
      "第一个通道的标准差为：2.9860788111948193\n",
      "第二个通道的标准差为：2.9860788111948193\n"
     ]
    }
   ],
   "source": [
    "import cv2\n",
    "import numpy as np\n",
    " \n",
    "# 新建矩阵array\n",
    "array = np.array([1, 2, 3, 4, 5, 10, 6, 7, 8, 9, 10, 0])\n",
    "\n",
    "# 将array调整为3*4的单通道图像img1\n",
    "img1 = array.reshape((3, 4))\n",
    "\n",
    "# 将array调整为3*2*2的多通道图像img2\n",
    "img2 = array.reshape((3, 2, 2))\n",
    " \n",
    "# 计算img1的均值\n",
    "mean_img1 = cv2.mean(img1)\n",
    "\n",
    "# 计算img2的均值\n",
    "mean_img2 = cv2.mean(img2)\n",
    "\n",
    "# 计算img1的均值和标准差\n",
    "mean_std_dev_img1 = cv2.meanStdDev(img1)\n",
    "\n",
    "# 计算img2的均值和标准差\n",
    "mean_std_dev_img2 = cv2.meanStdDev(img2)\n",
    " \n",
    "print('mean函数计算结果如下：{}')\n",
    "print('图像img1的均值为：{}'.format(mean_img1))\n",
    "print('图像img2的均值为：{}'.format(mean_img2))\n",
    "print('第一个通道的均值为：{}'.format(mean_img2[0]))\n",
    "print('第二个通道的均值为：{}'.format(mean_img2[1]))\n",
    "      \n",
    "print('----------')\n",
    "print('meanStdDev函数计算结果如下：')\n",
    "print('图像img1的均值为：{}'.format(mean_img1[0]))\n",
    "print('标准差为：{}'.format(mean_std_dev_img1[1]))\n",
    "print('图像img2的均值为：{}'.format(mean_img2))\n",
    "print('第一个通道的均值为：{}'.format(mean_img2[0]))\n",
    "\n",
    "print('第二个通道的均值为：{}'.format(mean_img2[1]))\n",
    "print('均值为：{}'.format(mean_std_dev_img2[0]))\n",
    "print('标准差为：{}'.format(mean_std_dev_img2[1]))\n",
    "print('第一个通道的标准差为：{}'.format(float(mean_std_dev_img2[1][0])))\n",
    "print('第二个通道的标准差为：{}'.format(float(mean_std_dev_img2[1][0])))"
   ]
  },
  {
   "cell_type": "code",
   "execution_count": 36,
   "metadata": {},
   "outputs": [
    {
     "name": "stdout",
     "output_type": "stream",
     "text": [
      "[[88 88 88]\n",
      " [66 66 66]\n",
      " [55 55 55]]\n",
      "----------\n",
      "[[ 1  1  1]\n",
      " [ 2  2  2]\n",
      " [55 55 55]]\n"
     ]
    }
   ],
   "source": [
    "import numpy as np\n",
    "import cv2 as cv\n",
    "\n",
    "A1 = np.array(\n",
    "  [\n",
    "    [1, 1, 1],\n",
    "    [66, 66, 66],\n",
    "    [55, 55, 55]\n",
    "  ], dtype='int8'\n",
    ")\n",
    "\n",
    "B1 = np.array(\n",
    "  [\n",
    "    [88, 88, 88],\n",
    "    [2, 2, 2],\n",
    "    [55, 55, 55]\n",
    "  ], dtype='int8'\n",
    ")\n",
    "\n",
    "C1 = cv.max(A1, B1)\n",
    "C2 = cv.min(A1, B1)\n",
    "\n",
    "print(C1)\n",
    "print('----------')\n",
    "print(C2)"
   ]
  },
  {
   "cell_type": "code",
   "execution_count": 3,
   "metadata": {},
   "outputs": [
    {
     "name": "stdout",
     "output_type": "stream",
     "text": [
      "[[ 0  0  0]\n",
      " [ 2  2  2]\n",
      " [55 55 55]]\n",
      "----------\n",
      "[[89 89 89]\n",
      " [66 66 66]\n",
      " [55 55 55]]\n",
      "----------\n",
      "[[254 254 254]\n",
      " [189 189 189]\n",
      " [200 200 200]]\n",
      "----------\n",
      "[[89 89 89]\n",
      " [64 64 64]\n",
      " [ 0  0  0]]\n"
     ]
    }
   ],
   "source": [
    "import cv2\n",
    "import numpy as np\n",
    "\n",
    "A1 = np.array(\n",
    "  [\n",
    "    [1, 1, 1],\n",
    "    [66, 66, 66],\n",
    "    [55, 55, 55]\n",
    "  ], dtype='uint8'\n",
    ")\n",
    " \n",
    "B1 = np.array(\n",
    "  [\n",
    "    [88, 88, 88],\n",
    "    [2, 2, 2],\n",
    "    [55, 55, 55]\n",
    "  ], dtype='uint8'\n",
    ")\n",
    "\n",
    "C1 = cv2.bitwise_and(A1, B1)\n",
    "print(C1)\n",
    "print('----------')\n",
    "C2 = cv2.bitwise_or(A1, B1)\n",
    "print(C2)\n",
    "print('----------')\n",
    "C3 = cv2.bitwise_not(A1)\n",
    "print(C3)\n",
    "print('----------')\n",
    "C4 = cv2.bitwise_xor(A1, B1)\n",
    "print(C4)"
   ]
  },
  {
   "cell_type": "code",
   "execution_count": 2,
   "metadata": {},
   "outputs": [],
   "source": [
    "import cv2\n",
    "src = cv2.imread('./oxygen.jpg')\n",
    "thresh, result0 = cv2.threshold(src, 80, 255, cv2.THRESH_BINARY)\n",
    "cv2.imshow('result0', result0)\n",
    "\n",
    "cv2.waitKey(0)\n",
    "cv2.destroyAllWindows()"
   ]
  },
  {
   "cell_type": "code",
   "execution_count": 4,
   "metadata": {},
   "outputs": [],
   "source": [
    "import cv2\n",
    "\n",
    "src = cv2.imread('./oxygen.jpg')\n",
    "gray = cv2.cvtColor(src, cv2.COLOR_BGR2GRAY)\n",
    "thresh, result1 = cv2.threshold(gray, 80, 255, cv2.THRESH_BINARY)\n",
    "cv2.imshow('result1', result1)\n",
    "\n",
    "cv2.waitKey(0)\n",
    "cv2.destroyAllWindows()"
   ]
  },
  {
   "cell_type": "code",
   "execution_count": 5,
   "metadata": {},
   "outputs": [],
   "source": [
    "import cv2\n",
    "\n",
    "src = cv2.imread('./oxygen.jpg')\n",
    "gray = cv2.cvtColor(src, cv2.COLOR_BGR2GRAY)\n",
    "thresh, result2 = cv2.threshold(gray, 80, 255, cv2.THRESH_BINARY_INV)\n",
    "cv2.imshow('result2', result2)\n",
    "\n",
    "cv2.waitKey(0)\n",
    "cv2.destroyAllWindows()"
   ]
  },
  {
   "cell_type": "code",
   "execution_count": 6,
   "metadata": {},
   "outputs": [],
   "source": [
    "import cv2\n",
    "\n",
    "src = cv2.imread('./oxygen.jpg')\n",
    "gray = cv2.cvtColor(src, cv2.COLOR_BGR2GRAY)\n",
    "thresh, result3 = cv2.threshold(gray, 80, 255, cv2.THRESH_TOZERO)\n",
    "cv2.imshow('result3', result3)\n",
    "\n",
    "cv2.waitKey(0)\n",
    "cv2.destroyAllWindows()"
   ]
  },
  {
   "cell_type": "code",
   "execution_count": 7,
   "metadata": {},
   "outputs": [],
   "source": [
    "import cv2\n",
    "\n",
    "src = cv2.imread('./oxygen.jpg')\n",
    "gray = cv2.cvtColor(src, cv2.COLOR_BGR2GRAY)\n",
    "thresh, result4 = cv2.threshold(gray, 80, 255, cv2.THRESH_TOZERO_INV)\n",
    "cv2.imshow('result4', result4)\n",
    "\n",
    "cv2.waitKey(0)\n",
    "cv2.destroyAllWindows()"
   ]
  },
  {
   "cell_type": "code",
   "execution_count": 8,
   "metadata": {},
   "outputs": [],
   "source": [
    "import cv2\n",
    "\n",
    "src = cv2.imread('./oxygen.jpg')\n",
    "gray = cv2.cvtColor(src, cv2.COLOR_BGR2GRAY)\n",
    "thresh, result5 = cv2.threshold(gray, 80, 255, cv2.THRESH_TRUNC)\n",
    "cv2.imshow('result5', result5)\n",
    "\n",
    "cv2.waitKey(0)\n",
    "cv2.destroyAllWindows()"
   ]
  },
  {
   "cell_type": "code",
   "execution_count": 9,
   "metadata": {},
   "outputs": [],
   "source": [
    "import cv2\n",
    " \n",
    "img = cv2.imread('./oxygen.jpg') \n",
    "img_gray=cv2.cvtColor(img,cv2.COLOR_BGR2GRAY)\n",
    "\n",
    "thresh,img_bin = cv2.threshold(img_gray,10, 255, cv2.THRESH_BINARY|cv2.THRESH_OTSU)\n",
    "cv2.imshow('threshold',img_bin)\n",
    "img_ret11 = cv2.adaptiveThreshold(img_gray,  255, cv2.ADAPTIVE_THRESH_MEAN_C,cv2.THRESH_BINARY,55,0 ) \n",
    "cv2.imshow('adaptiveThreshold',img_ret11)\n",
    "img_ret12 = cv2.adaptiveThreshold(img_gray,  255, cv2.ADAPTIVE_THRESH_GAUSSIAN_C,cv2.THRESH_BINARY,55,0 )\n",
    "\n",
    "cv2.imshow('adaptive2',img_ret12)\n",
    "cv2.waitKey(0)\n",
    "cv2.destroyAllWindows()"
   ]
  },
  {
   "cell_type": "code",
   "execution_count": 14,
   "metadata": {},
   "outputs": [
    {
     "name": "stdout",
     "output_type": "stream",
     "text": [
      "[[ 40  40  40]\n",
      " [110 110 110]\n",
      " [240 240 240]]\n",
      "----------\n",
      "[[50 50 50]\n",
      " [70 70 70]\n",
      " [80 80 80]]\n"
     ]
    }
   ],
   "source": [
    "import cv2\n",
    "import numpy as np\n",
    "\n",
    "\n",
    "A1 = np.array(\n",
    "  [\n",
    "    [40, 40, 40],\n",
    "    [110, 110, 110],\n",
    "    [240, 240, 240]\n",
    "  ], dtype='uint8'\n",
    ")\n",
    "\n",
    "print(A1)\n",
    "print('----------')\n",
    "\n",
    "LUT_1 = np.zeros(256, dtype='uint8')\n",
    "LUT_1[0: 100] = 50\n",
    "LUT_1[100: 200] = 70\n",
    "LUT_1[200:] = 80\n",
    "\n",
    "B1 = cv2.LUT(A1, LUT_1)\n",
    "\n",
    "print(B1)"
   ]
  },
  {
   "cell_type": "code",
   "execution_count": 17,
   "metadata": {},
   "outputs": [],
   "source": [
    "import cv2\n",
    "\n",
    "src1 = cv2.imread('./oxygen.jpg')\n",
    "scr2 = cv2.imread('./oxygen06.jpg')\n",
    "\n",
    "src1 = cv2.resize(src1, dsize=(500, 500))\n",
    "scr2 = cv2.resize(scr2, dsize=(500, 500))\n",
    "\n",
    "# 水平拼接图像\n",
    "hconcat_img = cv2.hconcat([src1, scr2])\n",
    "\n",
    "# 垂直拼接图像\n",
    "vconcat_img = cv2.vconcat([src1, scr2])\n",
    "\n",
    "cv2.imshow('hconcat_img', hconcat_img)\n",
    "cv2.imshow('vconcat_img', vconcat_img)\n",
    "\n",
    "cv2.waitKey(0)\n",
    "cv2.destroyAllWindows()"
   ]
  },
  {
   "cell_type": "code",
   "execution_count": 4,
   "metadata": {},
   "outputs": [],
   "source": [
    "import cv2\n",
    "\n",
    "img = cv2.imread('./oxygen.jpg')\n",
    "\n",
    "# cv2.imshow('img_src', img)\n",
    "\n",
    "# 将图像缩小（利用参数dsize设定输出图像的大小）\n",
    "small_img = cv2.resize(img, (150, 100), fx=0, fy=0, interpolation=cv2.INTER_AREA)\n",
    "cv2.imshow('small_img', small_img)\n",
    "\n",
    "# 最近邻插值（利用参数fx和fy设定输出图像的缩放比例）\n",
    "big_img1 = cv2.resize(small_img, (0, 0), fx=2, fy=2, interpolation=cv2.INTER_NEAREST)\n",
    "cv2.imshow('big_img1', big_img1)\n",
    "\n",
    "# 双线性插值（利用参数dsize设定输出图像的大小）\n",
    "big_img2 = cv2.resize(small_img, (300, 200), fx=0, fy=0, interpolation=cv2.INTER_LINEAR)\n",
    "cv2.imshow('big_img2', big_img2)\n",
    "\n",
    "# 双三次插值（利用参数fx和fy设定输出图像的缩放比例）\n",
    "big_img3 = cv2.resize(small_img, (0, 0), fx=2, fy=2, interpolation=cv2.INTER_CUBIC)\n",
    "cv2.imshow('big_img3', big_img3)\n",
    "\n",
    "cv2.waitKey(0)\n",
    "cv2.destroyAllWindows()"
   ]
  },
  {
   "cell_type": "code",
   "execution_count": 6,
   "metadata": {},
   "outputs": [],
   "source": [
    "import cv2\n",
    "\n",
    "img = cv2.imread(\"./oxygen.jpg\")\n",
    "cv2.imshow(\"oxygen\", img)\n",
    "\n",
    "# 水平翻转\n",
    "horizontally_img = cv2.flip(img, 0)\n",
    "cv2.imshow(\"horizontally_img\", horizontally_img)\n",
    "\n",
    "# 垂直翻转\n",
    "vertically_img = cv2.flip(img, 1)\n",
    "cv2.imshow(\"vertically_img\", vertically_img)\n",
    "\n",
    "# 对角线翻转\n",
    "horizontally_vertically_img = cv2.flip(img, -1)\n",
    "cv2.imshow(\"horizontally_vertically_img\", horizontally_vertically_img)\n",
    "\n",
    "cv2.waitKey(0)\n",
    "cv2.destroyAllWindows()"
   ]
  },
  {
   "cell_type": "code",
   "execution_count": 2,
   "metadata": {},
   "outputs": [
    {
     "name": "stdout",
     "output_type": "stream",
     "text": [
      "(1080, 1728, 3)\n"
     ]
    }
   ],
   "source": [
    "import cv2\n",
    "import numpy as np\n",
    "\n",
    "img = cv2.imread('./oxygen.jpg')\n",
    "\n",
    "print(img.shape)\n",
    "\n",
    "# 设置图像旋转角度、尺寸、旋转中心参数\n",
    "angle = 30\n",
    "h, w = img.shape[0:2]  # 这句话也可用三帽号规则的高级写法写成 h, w = img.shape[:-1]，相当于用索引-1代替索引2，注意左闭右开规则。\n",
    "size = (w, h)\n",
    "center = (w / 2.0, h / 2.0)\n",
    "\n",
    "# 计算仿射变换矩阵\n",
    "rotation0 = cv2.getRotationMatrix2D(center, angle, 1)\n",
    "\n",
    "# 进行仿射变换\n",
    "img_warp0 = cv2.warpAffine(img, rotation0, size)\n",
    "\n",
    "# 根据定义的三个点进行仿射变换\n",
    "src_points = np.array([[0, 0], [0, h - 1], [w - 1, h - 1]], dtype='float32')\n",
    "dst_points = np.array([[w * 0.11, h * 0.2], [w * 0.15, h * 0.7], [w * 0.81, h * 0.85]], dtype='float32')\n",
    "\n",
    "rotation1 = cv2.getAffineTransform(src_points, dst_points)\n",
    "img_warp1 = cv2.warpAffine(img, rotation1, size)\n",
    "\n",
    "# 展示结果\n",
    "cv2.imshow('img_src', img)\n",
    "cv2.imshow('img_warp0', img_warp0)\n",
    "cv2.imshow('img_warp1', img_warp1)\n",
    "\n",
    "cv2.waitKey(0)\n",
    "cv2.destroyAllWindows()"
   ]
  },
  {
   "cell_type": "code",
   "execution_count": 3,
   "metadata": {},
   "outputs": [],
   "source": [
    "import cv2\n",
    "import numpy as np\n",
    "\n",
    "img = cv2.imread('./oxygen.jpg')\n",
    "\n",
    "h, w = img.shape[:-1]\n",
    "size = (w, h)\n",
    "\n",
    "# 透视变换前的四个角点坐标\n",
    "src_points = np.array([[65, 70], [198, 67], [50, 164], [205, 163]], dtype='float32')\n",
    "\n",
    "# 设置透视变换后四个角点坐标\n",
    "max_pt = np.max(src_points)\n",
    "dst_points = np.array([[50, 50], [180, 50], [50, 180], [180, 180]], dtype='float32')\n",
    "\n",
    "# 计算透视变换矩阵\n",
    "rotation = cv2.getPerspectiveTransform(src_points, dst_points)\n",
    "\n",
    "# 透视变换投影\n",
    "img_warp = cv2.warpPerspective(img, rotation, size)\n",
    "\n",
    "# 展示结果\n",
    "cv2.imshow('src_img', img)\n",
    "cv2.imshow('perspective_img', img_warp)\n",
    "\n",
    "cv2.waitKey(0)\n",
    "cv2.destroyAllWindows()"
   ]
  },
  {
   "cell_type": "code",
   "execution_count": 10,
   "metadata": {},
   "outputs": [],
   "source": [
    "import numpy as np\n",
    "import cv2 \n",
    " \n",
    "Src_size = 101\n",
    "Dst_size = Src_size\n",
    " \n",
    "A = np.zeros((Src_size, Src_size), dtype='uint8')\n",
    " \n",
    "cv2.circle(A, (Src_size//2, Src_size//2), Src_size//2, 255, 1)\n",
    " \n",
    "cv2.imshow('A', A)\n",
    " \n",
    "C = cv2.warpPolar(A, (Dst_size, 360), (Src_size//2, Src_size//2), Src_size//2, cv2.INTER_LINEAR + cv2.WARP_POLAR_LINEAR)\n",
    " \n",
    "cv2.waitKey(0)\n",
    "cv2.destroyAllWindows()"
   ]
  },
  {
   "cell_type": "code",
   "execution_count": 11,
   "metadata": {},
   "outputs": [],
   "source": [
    "import numpy as np\n",
    "import cv2\n",
    " \n",
    "img_src = cv2.imread('./circle.jpg')\n",
    "\n",
    "cv2.imshow('img_src', img_src)\n",
    "\n",
    "img_polar = cv2.warpPolar(img_src, (338, 360), (338//2, 338//2), 338//2, cv2.INTER_LINEAR + cv2.WARP_POLAR_LINEAR)\n",
    "cv2.imshow('img_polar', img_polar)\n",
    " \n",
    "cv2.waitKey(0)\n",
    "cv2.destroyAllWindows()"
   ]
  },
  {
   "cell_type": "code",
   "execution_count": 13,
   "metadata": {},
   "outputs": [],
   "source": [
    "import cv2\n",
    "import numpy as np\n",
    "\n",
    "#创建黑色图像\n",
    "img = np.zeros((256,256,3), dtype = 'uint8')\n",
    "\n",
    "#绘制圆形\n",
    "cv2.circle(img, (100,100), 50, (255,255,0), 4)\n",
    "\n",
    "#显示图像\n",
    "cv2.imshow(\"circle\", img)\n",
    "\n",
    "#等待显示\n",
    "cv2.waitKey(0)\n",
    "cv2.destroyAllWindows()"
   ]
  },
  {
   "cell_type": "code",
   "execution_count": 14,
   "metadata": {},
   "outputs": [],
   "source": [
    "#创建黑色图像\n",
    "img = np.zeros((256,256,3), dtype = 'uint8')\n",
    "\n",
    "#绘制直线\n",
    "cv2.line(img, (0,0), (255,255), (55,255,155), 5)\n",
    "\n",
    "#显示图像\n",
    "cv2.imshow(\"line\", img)\n",
    "\n",
    "#等待显示\n",
    "cv2.waitKey(0)\n",
    "cv2.destroyAllWindows()"
   ]
  },
  {
   "cell_type": "code",
   "execution_count": 16,
   "metadata": {},
   "outputs": [],
   "source": [
    "#创建黑色图像\n",
    "img = np.zeros((256,256,3), dtype = 'uint8')\n",
    "\n",
    "#绘制椭圆\n",
    "#椭圆中心(120,100) 长轴和短轴为(100,50)\n",
    "#偏转角度为20\n",
    "#圆弧起始角的角度0 圆弧终结角的角度360\n",
    "#颜色(255,0,255) 线条粗细2\n",
    "cv2.ellipse(img, (120, 100), (100, 50), 20, 0, 360, (255, 0, 255), 2)\n",
    "\n",
    "#显示图像\n",
    "cv2.imshow(\"ellipse\", img)\n",
    "\n",
    "#等待显示\n",
    "cv2.waitKey(0)\n",
    "cv2.destroyAllWindows()"
   ]
  },
  {
   "cell_type": "code",
   "execution_count": 21,
   "metadata": {},
   "outputs": [],
   "source": [
    "import cv2\n",
    "import numpy as np\n",
    "\n",
    "img = np.zeros((400, 400, 3), dtype = 'uint8')\n",
    "\n",
    "# points = cv2.ellipse2Poly((200, 200), (100, 70), 0, 0, 360, 3)  # 参数delta=3\n",
    "points = cv2.ellipse2Poly((200, 200), (100, 70), 0, 0, 360, 30)  # 参数delta=30\n",
    "\n",
    "for i in range(len(points) - 1):\n",
    "  img = cv2.line(img, (points[i][0], points[i][1]), (points[i + 1][0], points[i + 1][1]),(255, 0, 0), 2, cv2.LINE_4, 0)\n",
    "\n",
    "cv2.imshow('Image', img)\n",
    "cv2.waitKey(0)\n",
    "cv2.destroyAllWindows()"
   ]
  },
  {
   "cell_type": "code",
   "execution_count": 22,
   "metadata": {},
   "outputs": [],
   "source": [
    "import cv2\n",
    "import numpy as np\n",
    "\n",
    "#创建黑色图像\n",
    "img = np.zeros((256,256,3), dtype = 'uint8')\n",
    "\n",
    "#绘制矩形\n",
    "cv2.rectangle(img, (20,20), (150,250), (255,0,0), 2)\n",
    "\n",
    "#显示图像\n",
    "cv2.imshow(\"rectangle\", img)\n",
    "\n",
    "#等待显示\n",
    "cv2.waitKey(0)\n",
    "cv2.destroyAllWindows()"
   ]
  },
  {
   "cell_type": "code",
   "execution_count": 27,
   "metadata": {},
   "outputs": [],
   "source": [
    "img = np.zeros((1080, 1920, 3), dtype = 'uint8')\n",
    "area1 = np.array([[250, 200], [300, 100], [750, 800], [100, 1000]])\n",
    " \n",
    "cv2.fillPoly(img, [area1], (255, 255, 255))\n",
    " \n",
    "cv2.imshow('image', img)\n",
    "cv2.waitKey(0)\n",
    "cv2.destroyAllWindows()"
   ]
  },
  {
   "cell_type": "code",
   "execution_count": 31,
   "metadata": {},
   "outputs": [],
   "source": [
    "import cv2\n",
    "import numpy as np\n",
    "\n",
    "#创建黑色图像\n",
    "img = np.zeros((256,256,3), dtype = 'uint8')\n",
    "\n",
    "#绘制文字\n",
    "font = cv2.FONT_HERSHEY_SIMPLEX\n",
    "cv2.putText(img, 'SSSSssZZzZZzzLLllLLlL',(10, 100), font, 0.5, (255, 255, 0), 2)\n",
    "\n",
    "#显示图像\n",
    "cv2.imshow(\"polylines\", img)\n",
    "\n",
    "#等待显示\n",
    "cv2.waitKey(0)\n",
    "cv2.destroyAllWindows()"
   ]
  },
  {
   "cell_type": "code",
   "execution_count": 34,
   "metadata": {},
   "outputs": [
    {
     "name": "stdout",
     "output_type": "stream",
     "text": [
      "[[0 0 0 0 0 0 0]\n",
      " [0 0 0 0 0 0 0]\n",
      " [0 0 0 0 0 0 0]\n",
      " [0 0 0 0 0 0 0]\n",
      " [0 0 0 0 0 0 0]\n",
      " [0 0 0 0 0 0 0]\n",
      " [0 0 0 0 0 0 0]]\n",
      "----------\n",
      "[[0 0 0]\n",
      " [0 1 0]\n",
      " [0 0 0]\n",
      " [0 0 0]]\n",
      "----------\n",
      "[[0 0 0 0 0 0 0]\n",
      " [0 1 0 0 0 0 0]\n",
      " [0 0 0 0 0 0 0]\n",
      " [0 0 0 0 0 0 0]\n",
      " [0 0 0 0 0 0 0]\n",
      " [0 0 0 0 0 0 0]\n",
      " [0 0 0 0 0 0 0]]\n"
     ]
    }
   ],
   "source": [
    "import numpy as np\n",
    "\n",
    "A1 = np.zeros((7, 7), dtype = 'uint8')\n",
    "\n",
    "print(A1)\n",
    "print('----------')\n",
    "\n",
    "# 通过“=”和索引实现ROI区域的浅拷贝\n",
    "B2 = A1[0:4, 0:3]\n",
    "B2[1, 1] = 1\n",
    "\n",
    "print(B2)\n",
    "print('----------')\n",
    "\n",
    "print(A1)"
   ]
  },
  {
   "cell_type": "code",
   "execution_count": 45,
   "metadata": {},
   "outputs": [
    {
     "name": "stdout",
     "output_type": "stream",
     "text": [
      "A1:\n",
      "[[0 0 0 0 0 0 0]\n",
      " [0 0 0 0 0 0 0]\n",
      " [0 0 0 0 0 0 0]\n",
      " [0 0 0 0 0 0 0]\n",
      " [0 0 0 0 0 0 0]\n",
      " [0 0 0 0 0 0 0]\n",
      " [0 0 0 0 0 0 0]]\n",
      "----------\n",
      "B1:\n",
      "[[0 0 0]\n",
      " [0 0 0]\n",
      " [0 0 0]\n",
      " [0 0 0]]\n",
      "----------\n",
      "C1:\n",
      "[[0 0 0]\n",
      " [0 1 0]\n",
      " [0 0 0]\n",
      " [0 0 0]]\n"
     ]
    }
   ],
   "source": [
    "import numpy as np\n",
    "\n",
    "A1 = np.zeros((7, 7), dtype = 'uint8')\n",
    "\n",
    "print('A1:')\n",
    "print(A1)\n",
    "print('----------')\n",
    "\n",
    "# 通过“=”和索引实现ROI区域的浅拷贝\n",
    "B1 = A1[0:4, 0:3]\n",
    "\n",
    "print('B1:')\n",
    "print(B1)\n",
    "print('----------')\n",
    "\n",
    "# 通过函数copy()实现ROI区域的深拷贝\n",
    "C1 = B1.copy()\n",
    "\n",
    "C1[1, 1] = 1\n",
    "\n",
    "print('C1:')\n",
    "print(C1)\n"
   ]
  },
  {
   "cell_type": "code",
   "execution_count": 46,
   "metadata": {},
   "outputs": [
    {
     "name": "stdout",
     "output_type": "stream",
     "text": [
      "A1:\n",
      "[[0 0 0 0 0 0 0]\n",
      " [0 1 1 1 0 0 0]\n",
      " [0 1 1 1 0 0 0]\n",
      " [0 1 1 1 0 0 0]\n",
      " [0 0 0 0 0 0 0]\n",
      " [0 0 0 0 0 0 0]\n",
      " [0 0 0 0 0 0 0]]\n",
      "----------\n",
      "B1:\n",
      "[[1 1 1]\n",
      " [1 0 1]\n",
      " [1 1 1]]\n"
     ]
    }
   ],
   "source": [
    "import numpy as np\n",
    "\n",
    "A1 = np.zeros((7, 7), dtype = 'uint8')\n",
    "B1 = np.ones((3, 3), dtype = 'uint8')\n",
    "\n",
    "A1[1:4, 1:4] = B1\n",
    "\n",
    "B1[1, 1] = 0\n",
    "\n",
    "print('A1:')\n",
    "print(A1)\n",
    "print('----------')\n",
    "\n",
    "print('B1:')\n",
    "print(B1)"
   ]
  },
  {
   "cell_type": "code",
   "execution_count": 47,
   "metadata": {},
   "outputs": [
    {
     "name": "stdout",
     "output_type": "stream",
     "text": [
      "第0层高斯金字塔图像的尺寸：(1080, 1728)\n",
      "第1层高斯金字塔图像的尺寸：(540, 864)\n",
      "第1层高斯金字塔进行上采样+高斯卷积模糊滤波后的尺寸：(1080, 1728)\n",
      "第0层拉普拉斯金字塔的尺寸：(1080, 1728)\n",
      "重构的第0层高斯金字塔图像的尺寸：(1080, 1728)\n"
     ]
    }
   ],
   "source": [
    "import cv2 \n",
    " \n",
    "src = cv2.imread('./oxygen.jpg')\n",
    "\n",
    "# 第0层高斯金字塔实际上就是原图像\n",
    "G_0 = src  \n",
    "print('第0层高斯金字塔图像的尺寸：{}'.format(src.shape[:2]))\n",
    "cv2.imshow(\"G_0\", src)\n",
    " \n",
    "# 生成第1层高斯金字塔G_1\n",
    "G_1 = cv2.pyrDown(G_0)\n",
    "print('第1层高斯金字塔图像的尺寸：{}'.format(G_1.shape[:2]))\n",
    "cv2.imshow(\"G_1 \", G_1)\n",
    " \n",
    "# 为了计算第0层拉普拉斯金字塔，我们需要先计算出Pyrup(G_1)\n",
    "Pyrup_G_1 = cv2.pyrUp(G_1)\n",
    "print('第1层高斯金字塔进行上采样+高斯卷积模糊滤波后的尺寸：{}'.format(Pyrup_G_1.shape[:2]))\n",
    "cv2.imshow(\"Pyrup_G_1\", Pyrup_G_1)\n",
    " \n",
    "# 计算第0层拉普拉斯金字塔图像，L_0=G_0-Pyrup(Pyrdown(G_0))\n",
    "L_0 = cv2.subtract(G_0, Pyrup_G_1, dst = None, mask = None, dtype = cv2.CV_16S)\n",
    "print('第0层拉普拉斯金字塔的尺寸：{}'.format(L_0.shape[:2]))\n",
    " \n",
    "# 以下几行代码是显示出第0层拉普拉斯金字塔的图像\n",
    "L_0_norm = L_0\n",
    "cv2.normalize(L_0, L_0_norm, 0, 255, cv2.NORM_MINMAX)\n",
    "L_0_norm = L_0_norm.astype('uint8')\n",
    "L_0_norm_gray = cv2.cvtColor(L_0_norm, cv2.COLOR_BGR2GRAY)\n",
    "cv2.imshow(\"L_0_norm_gray\", L_0_norm_gray)\n",
    " \n",
    "# 利用第1层高斯金字塔图像和第0层拉普拉斯金字塔图像重构第0层高斯金字塔\n",
    "# 第0层高斯金字塔实际上就是原图\n",
    "G_0_reconstruction = cv2.add(Pyrup_G_1, L_0, dst = None, mask = None, dtype = cv2.CV_16S)\n",
    "cv2.normalize(G_0_reconstruction, G_0_reconstruction, 0, 255, cv2.NORM_MINMAX)\n",
    "G_0_reconstruction = G_0_reconstruction.astype('uint8')\n",
    "print('重构的第0层高斯金字塔图像的尺寸：{}'.format(G_0_reconstruction.shape[:2]))\n",
    "cv2.imshow(\"G_0_reconstruction\", G_0_reconstruction)\n",
    " \n",
    "cv2.waitKey(0)\n",
    "cv2.destroyAllWindows()"
   ]
  },
  {
   "cell_type": "code",
   "execution_count": 53,
   "metadata": {},
   "outputs": [],
   "source": [
    "import cv2 \n",
    "import numpy as np\n",
    " \n",
    " \n",
    "def on_change_trackbar(x):\n",
    "  global A1_copy, value\n",
    "\n",
    "  A1_copy[:, :] = 0\n",
    "  value = cv2.getTrackbarPos('pos', 'dyn_gray_value')\n",
    "  A1_copy = A1_copy + value\n",
    "\n",
    "  cv2.imshow(\"dyn_gray_value\", A1_copy)\n",
    "\n",
    " \n",
    "A1 =  np.zeros((200, 300), dtype = 'uint8')\n",
    "cv2.namedWindow('dyn_gray_value')\n",
    "cv2.imshow(\"dyn_gray_value\", A1)\n",
    " \n",
    "value = 20\n",
    " \n",
    "A1_copy = A1.copy()\n",
    " \n",
    "cv2.createTrackbar('pos', 'dyn_gray_value', value, 255, on_change_trackbar)\n",
    " \n",
    "cv2.waitKey(0)\n",
    "cv2.destroyAllWindows()"
   ]
  },
  {
   "cell_type": "code",
   "execution_count": 59,
   "metadata": {},
   "outputs": [
    {
     "name": "stdout",
     "output_type": "stream",
     "text": [
      "轨迹起始坐标为：835, 702\n"
     ]
    }
   ],
   "source": [
    "import cv2\n",
    "\n",
    "def draw(event, x, y, flags, param):\n",
    "    global img, pre_pts\n",
    " \n",
    "    # 鼠标右键按下\n",
    "    if event == cv2.EVENT_RBUTTONDOWN:\n",
    "        print('请点击鼠标左键进行轨迹的绘制。')\n",
    " \n",
    "    # 鼠标左键按下\n",
    "    if event == cv2.EVENT_LBUTTONDOWN:\n",
    "        pre_pts = (x, y)\n",
    "        print('轨迹起始坐标为：{}, {}'.format(x, y))\n",
    " \n",
    "    # 鼠标移动\n",
    "    if event == cv2.EVENT_MOUSEMOVE and flags == cv2.EVENT_FLAG_LBUTTON:\n",
    "        pts = (x, y)\n",
    "        img = cv2.line(img, pre_pts, pts, (0, 0, 255), 2, 5,0)\n",
    "        pre_pts = pts\n",
    "        cv2.imshow('image', img)\n",
    "\n",
    "# 读取图像并判断是否读取成功\n",
    "img = cv2.imread('./oxygen.jpg')\n",
    "img1 = img.copy()\n",
    "\n",
    "pre_pts = 0, 0\n",
    "cv2.imshow('image', img)\n",
    "cv2.setMouseCallback('image', draw)\n",
    "\n",
    "cv2.waitKey(0)\n",
    "cv2.destroyAllWindows()"
   ]
  },
  {
   "cell_type": "code",
   "execution_count": null,
   "metadata": {},
   "outputs": [],
   "source": []
  }
 ],
 "metadata": {
  "kernelspec": {
   "display_name": "BigDataMiningVenvsForPython38",
   "language": "python",
   "name": "python3"
  },
  "language_info": {
   "codemirror_mode": {
    "name": "ipython",
    "version": 3
   },
   "file_extension": ".py",
   "mimetype": "text/x-python",
   "name": "python",
   "nbconvert_exporter": "python",
   "pygments_lexer": "ipython3",
   "version": "3.8.13"
  }
 },
 "nbformat": 4,
 "nbformat_minor": 2
}
