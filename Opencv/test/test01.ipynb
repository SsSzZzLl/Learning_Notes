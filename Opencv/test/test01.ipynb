{
 "cells": [
  {
   "cell_type": "code",
   "execution_count": 6,
   "metadata": {},
   "outputs": [],
   "source": [
    "import os\n",
    "import cv2\n",
    "import numpy as np\n",
    "%matplotlib inline\n",
    "import matplotlib.pyplot as plt\n",
    "from IPython.display import Image"
   ]
  },
  {
   "cell_type": "code",
   "execution_count": 7,
   "metadata": {},
   "outputs": [],
   "source": [
    "import cv2\n",
    "img1=cv2.imread('./oxygen.jpg',2|4)\n",
    "cv2.namedWindow(\"imread\", cv2.WINDOW_NORMAL)\n",
    "cv2.imshow(\"imread\", img1)\n",
    "cv2.waitKey(0)\n",
    "cv2.destroyAllWindows()"
   ]
  },
  {
   "cell_type": "code",
   "execution_count": 8,
   "metadata": {},
   "outputs": [],
   "source": [
    "import cv2\n",
    "img1=cv2.imread('./oxygen.jpg', 0)\n",
    "cv2.namedWindow(\"imread\")\n",
    "cv2.imshow(\"imread\", img1)\n",
    "cv2.waitKey(0)\n",
    "cv2.destroyAllWindows()"
   ]
  },
  {
   "cell_type": "code",
   "execution_count": 9,
   "metadata": {},
   "outputs": [],
   "source": [
    "import cv2\n",
    "\n",
    "# 读取图像\n",
    "img1=cv2.imread('./oxygen.jpg',2|4)\n",
    "\n",
    "# 创建窗口，允许用户调整大小\n",
    "cv2.namedWindow(\"imread\", cv2.WINDOW_AUTOSIZE)\n",
    "\n",
    "# 显示图像\n",
    "cv2.imshow(\"imread\", img1)\n",
    "\n",
    "# 等待按键，然后关闭窗口\n",
    "cv2.waitKey(0)\n",
    "cv2.destroyAllWindows()"
   ]
  },
  {
   "cell_type": "code",
   "execution_count": 10,
   "metadata": {},
   "outputs": [],
   "source": [
    "import cv2\n",
    "\n",
    "# 读取图像\n",
    "img1=cv2.imread('./oxygen.jpg',16)\n",
    "\n",
    "# 创建窗口，允许用户调整大小\n",
    "cv2.namedWindow(\"imread\", cv2.WINDOW_AUTOSIZE)\n",
    "\n",
    "# 显示图像\n",
    "cv2.imshow(\"imread\", img1)\n",
    "\n",
    "# 等待按键，然后关闭窗口\n",
    "cv2.waitKey(0)\n",
    "cv2.destroyAllWindows()"
   ]
  },
  {
   "cell_type": "code",
   "execution_count": 12,
   "metadata": {},
   "outputs": [
    {
     "name": "stdout",
     "output_type": "stream",
     "text": [
      "width: 1920.0\n",
      "height: 1080.0\n",
      "fps: 28.44094680829375\n",
      "frame count: 186.0\n",
      "0.0\n"
     ]
    }
   ],
   "source": [
    "import cv2 \n",
    " \n",
    "# 打开视频文件\n",
    "capture = cv2.VideoCapture(\"./dota2_testbug.mp4\")  \n",
    "\n",
    "if capture.isOpened():\n",
    "  \n",
    "  # 显示参数\n",
    "  print(\"width: {}\".format(capture.get(cv2.CAP_PROP_FRAME_WIDTH)))\n",
    "  print(\"height: {}\".ormat(capture.get(cv2.CAP_PROP_RAME_HEIGHT)))\n",
    "  print(\"ps: {}\".format(capture.get(cv2.CAP_PROP_FPS)))\n",
    "  print(\"frame count: {}\".format(capture.get(cv2.CAP_PROP_FRAME_COUNT))) \n",
    "else:\n",
    "  print(\"Error: Could not open video file\")\n",
    "  \n",
    "while (capture.isOpened()):\n",
    "  \n",
    "  # 视频文件被打开\n",
    "  ret, frame = capture.read()     \n",
    "  \n",
    "  cv2.namedWindow(\"Video\", cv2.WINDOW_KEEPRATIO)\n",
    "  cv2.resizeWindow(\"Video\", 700, 500)\n",
    "  \n",
    "  # 读取到视频文件\n",
    "  if ret:   \n",
    "    \n",
    "    # 在窗口显示读取到的视频文件          \n",
    "    cv2.imshow(\"Video\", frame)     \n",
    "  else:\n",
    "    break\n",
    "  \n",
    "  key = cv2.waitKey(25)\n",
    "  \n",
    "  # 如果按键为ESC\n",
    "  if key == 27:\n",
    "    break\n",
    "  \n",
    "# 关闭视频文件  \n",
    "capture.release()\n",
    "cv2.waitKey(0)\n",
    "\n",
    "cv2.destroyAllWindows()"
   ]
  },
  {
   "cell_type": "code",
   "execution_count": 11,
   "metadata": {},
   "outputs": [
    {
     "name": "stdout",
     "output_type": "stream",
     "text": [
      "width: 640.0\n",
      "height: 480.0\n",
      "fps: 30.0\n",
      "frame count: -1.0\n",
      "-1.0\n"
     ]
    }
   ],
   "source": [
    "import cv2 \n",
    " \n",
    "# 打开视频文件\n",
    "capture = cv2.VideoCapture(0)  \n",
    "\n",
    "if capture.isOpened():\n",
    "  \n",
    "  # 显示参数\n",
    "  print(\"width: {}\".format(capture.get(cv2.CAP_PROP_FRAME_WIDTH)))\n",
    "  print(\"height: {}\".format(capture.get(cv2.CAP_PROP_FRAME_HEIGHT)))\n",
    "  print(\"fps: {}\".format(capture.get(cv2.CAP_PROP_FPS)))\n",
    "  print(\"frame count: {}\".format(capture.get(cv2.CAP_PROP_FRAME_COUNT)))\n",
    "else:\n",
    "  print(\"Error: Could not open video file\")\n",
    "  \n",
    "while (capture.isOpened()):\n",
    "  \n",
    "  # 视频文件被打开\n",
    "  ret, frame = capture.read()     \n",
    "  \n",
    "  cv2.namedWindow(\"Video\", cv2.WINDOW_KEEPRATIO)\n",
    "  cv2.resizeWindow(\"Video\", 700, 500)\n",
    "  \n",
    "  # 读取到视频文件\n",
    "  if ret:   \n",
    "    \n",
    "    # 在窗口显示读取到的视频文件          \n",
    "    cv2.imshow(\"Video\", frame)     \n",
    "  else:\n",
    "    break\n",
    "  \n",
    "  key = cv2.waitKey(25)\n",
    "  \n",
    "  # 如果按键为ESC\n",
    "  if key == 27:\n",
    "    break\n",
    "  \n",
    "# 关闭视频文件  \n",
    "capture.release()\n",
    "cv2.waitKey(0)\n",
    "\n",
    "cv2.destroyAllWindows()"
   ]
  },
  {
   "cell_type": "code",
   "execution_count": 6,
   "metadata": {},
   "outputs": [
    {
     "data": {
      "text/plain": [
       "True"
      ]
     },
     "execution_count": 6,
     "metadata": {},
     "output_type": "execute_result"
    }
   ],
   "source": [
    "import cv2\n",
    "img = cv2.imread('./oxygen.jpg')\n",
    "\n",
    "cv2.imwrite('./oxygen01.jpg', img)\n",
    "\n",
    "cv2.imwrite(\"./oxygen02.jpg\",img,[cv2.IMWRITE_JPEG_QUALITY,100])\n",
    "\n",
    "cv2.imwrite(\"./oxygen03.jpg\",img,[cv2.IMWRITE_JPEG_QUALITY,2])\n",
    "\n",
    "cv2.imwrite(\"./oxygen04.jpg\",img,[cv2.IMWRITE_JPEG_QUALITY,100,cv2.IMWRITE_JPEG_LUMA_QUALITY,10])"
   ]
  },
  {
   "cell_type": "code",
   "execution_count": 9,
   "metadata": {},
   "outputs": [
    {
     "name": "stdout",
     "output_type": "stream",
     "text": [
      "视频生成完成。\n"
     ]
    }
   ],
   "source": [
    "import cv2\n",
    "\n",
    "# 图片序列文件夹\n",
    "image_dir = './picture/'\n",
    "\n",
    "# 图片数量\n",
    "image_count = 21\n",
    "\n",
    "# 尺寸\n",
    "frame_size = (675, 981)\n",
    "\n",
    "# videowriter\n",
    "fourcc = cv2.VideoWriter.fourcc('I', '4', '2', '0')\n",
    "\n",
    "# 生成视频时要注意帧率，因为是隔一帧采样，所以原本30帧的视频就要变为15帧\n",
    "writer = cv2.VideoWriter('./picture.mp4', fourcc, 15, frame_size)\n",
    "\n",
    "# 开始写入\n",
    "for i in range(image_count):\n",
    "  \n",
    "  image = cv2.imread('{0}{1}.jpg'.format(image_dir, i))\n",
    "\n",
    "  writer.write(image)\n",
    "  \n",
    "# 释放\n",
    "writer.release()\n",
    "\n",
    "# 提示消息\n",
    "print('视频生成完成。')\n"
   ]
  },
  {
   "cell_type": "code",
   "execution_count": 10,
   "metadata": {},
   "outputs": [
    {
     "name": "stdout",
     "output_type": "stream",
     "text": [
      "[[0.53575126 0.37671399]\n",
      " [0.56806879 0.52113629]]\n",
      "[[9 8]\n",
      " [6 5]]\n",
      "1.0\n",
      "2.5\n",
      "abc\n",
      "你好\n"
     ]
    }
   ],
   "source": [
    "import cv2\n",
    "import numpy as np\n",
    "\n",
    "fs = cv2.FileStorage('abc.yml', cv2.FileStorage_WRITE)\n",
    "fs.write('mat1', np.random.uniform(0, 1, [2, 2]))\n",
    "fs.write('mat2', np.random.randint(0, 10, [2, 2]))\n",
    "fs.write('num1', 1)\n",
    "fs.write('num2', 2.5)\n",
    "fs.write('str1', 'abc')\n",
    "fs.write('str2', '你好')\n",
    "# 关闭文件\n",
    "fs.release()\n",
    "\n",
    "fs2 = cv2.FileStorage('abc.yml', cv2.FileStorage_READ)\n",
    "mat1 = fs2.getNode('mat1').mat()\n",
    "mat2 = fs2.getNode('mat2').mat()\n",
    "num1 = fs2.getNode('num1').real()\n",
    "num2 = fs2.getNode('num2').real()\n",
    "str1 = fs2.getNode('str1').string()\n",
    "str2 = fs2.getNode('str2').string()\n",
    "# 关闭文件\n",
    "fs2.release()\n",
    "\n",
    "print(mat1)\n",
    "print(mat2)\n",
    "print(num1)\n",
    "print(num2)\n",
    "print(str1)\n",
    "print(str2)\n",
    "\n"
   ]
  },
  {
   "cell_type": "code",
   "execution_count": 1,
   "metadata": {},
   "outputs": [
    {
     "data": {
      "text/plain": [
       "True"
      ]
     },
     "execution_count": 1,
     "metadata": {},
     "output_type": "execute_result"
    }
   ],
   "source": [
    "import cv2\n",
    "src = cv2.imread('./oxygen.jpg')\n",
    "dst1 = cv2.cvtColor(src, cv2.COLOR_BGR2GRAY)\n",
    "cv2.imwrite(\"./oxygen05.jpg\", dst1)"
   ]
  },
  {
   "cell_type": "code",
   "execution_count": 2,
   "metadata": {},
   "outputs": [
    {
     "data": {
      "text/plain": [
       "True"
      ]
     },
     "execution_count": 2,
     "metadata": {},
     "output_type": "execute_result"
    }
   ],
   "source": [
    "dst2 = cv2.cvtColor(src, cv2.COLOR_BGR2HSV)\n",
    "cv2.imwrite('./oxygen06.jpg', dst2)"
   ]
  },
  {
   "cell_type": "code",
   "execution_count": 3,
   "metadata": {},
   "outputs": [
    {
     "data": {
      "text/plain": [
       "True"
      ]
     },
     "execution_count": 3,
     "metadata": {},
     "output_type": "execute_result"
    }
   ],
   "source": [
    "dst3 = cv2.cvtColor(src, cv2.COLOR_BGR2RGB)\n",
    "cv2.imwrite('./oxygen07.jpg', dst3)"
   ]
  },
  {
   "cell_type": "code",
   "execution_count": 4,
   "metadata": {},
   "outputs": [],
   "source": [
    "import cv2\n",
    " \n",
    "bgr_image = cv2.imread('./oxygen.jpg')\n",
    "cv2.imshow('oxygen', bgr_image)\n",
    "\n",
    "# 拆分通道\n",
    "b, g, r = cv2.split(bgr_image) \n",
    "\n",
    "# 显示B通道图像\n",
    "cv2.imshow('B', b) \n",
    "\n",
    "# 显示G通道图像\n",
    "cv2.imshow('G', g)\n",
    "\n",
    "# 显示R通道图像\n",
    "cv2.imshow('R', r)\n",
    "\n",
    "cv2.waitKey()\n",
    "cv2.destroyAllWindows()"
   ]
  },
  {
   "cell_type": "code",
   "execution_count": 6,
   "metadata": {},
   "outputs": [],
   "source": [
    "import cv2\n",
    "\n",
    "src = cv2.imread('./oxygen.jpg')\n",
    "\n",
    "# 把BGR图像转换为HSV图像\n",
    "scr2 =  cv2.cvtColor(src, cv2.COLOR_BGR2HSV)\n",
    "\n",
    "cv2.imshow('oxygen', scr2)\n",
    "\n",
    "# 拆分通道\n",
    "h ,s, v = cv2.split(scr2)\n",
    "\n",
    "# 显示H通道图像\n",
    "cv2.imshow('H', b) \n",
    "\n",
    "# 显示S通道图像\n",
    "cv2.imshow('S', s)\n",
    "\n",
    "# 显示V通道图像\n",
    "cv2.imshow('V', v)\n",
    "\n",
    "cv2.waitKey()\n",
    "cv2.destroyAllWindows()"
   ]
  },
  {
   "cell_type": "code",
   "execution_count": 8,
   "metadata": {},
   "outputs": [],
   "source": [
    "import cv2\n",
    " \n",
    "bgr_image = cv2.imread('./oxygen.jpg')\n",
    "\n",
    "# 拆分通道\n",
    "b, g, r = cv2.split(bgr_image) \n",
    "\n",
    "# 按B→G→R的顺序合并通道\n",
    "bgr = cv2.merge([b, g, r])\n",
    "\n",
    "cv2.imshow(\"BGR\", bgr)\n",
    "\n",
    "cv2.waitKey()\n",
    "cv2.destroyAllWindows()"
   ]
  },
  {
   "cell_type": "code",
   "execution_count": 9,
   "metadata": {},
   "outputs": [],
   "source": [
    "import cv2\n",
    " \n",
    "bgr_image = cv2.imread('./oxygen.jpg')\n",
    "\n",
    "# 从BGR色彩空间转换到HSV色彩空间\n",
    "hsv_image = cv2.cvtColor(bgr_image, cv2.COLOR_BGR2HSV)\n",
    "\n",
    "# 拆分HSV图像中的通道\n",
    "h, s, v = cv2.split(hsv_image) \n",
    "\n",
    "# 合并拆分后的通道图像\n",
    "hsv = cv2.merge([h, s, v]) \n",
    "\n",
    "# 合并通道后的图像从HSV色彩空间转换到BGR色彩空间\n",
    "bgr = cv2.cvtColor(hsv, cv2.COLOR_HSV2BGR)\n",
    "\n",
    "# 显示BGR图像\n",
    "cv2.imshow(\"BGR\", bgr) \n",
    "\n",
    "cv2.waitKey()\n",
    "cv2.destroyAllWindows()"
   ]
  },
  {
   "cell_type": "code",
   "execution_count": 10,
   "metadata": {},
   "outputs": [],
   "source": [
    "import cv2\n",
    " \n",
    "bgr_image = cv2.imread('./oxygen.jpg')\n",
    "cv2.imshow(\"oxygen\", bgr_image)\n",
    "\n",
    "# 从BGR色彩空间转换到HSV色彩空间\n",
    "hsv_image = cv2.cvtColor(bgr_image, cv2.COLOR_BGR2HSV)\n",
    "\n",
    "# 拆分HSV图像中的通道\n",
    "h, s, v = cv2.split(hsv_image) \n",
    "\n",
    "# 将H通道的值调整为180\n",
    "h[:, :] = 180 \n",
    "\n",
    "# 合并拆分后的通道图像\n",
    "hsv = cv2.merge([h, s, v]) \n",
    "\n",
    "\n",
    "# 合并通道后的图像从HSV色彩空间转换到BGR色彩空间\n",
    "new_Image = cv2.cvtColor(hsv, cv2.COLOR_HSV2BGR)\n",
    "cv2.imshow(\"NEW\",new_Image)\n",
    "\n",
    "cv2.waitKey()\n",
    "cv2.destroyAllWindows()"
   ]
  },
  {
   "cell_type": "code",
   "execution_count": 12,
   "metadata": {},
   "outputs": [],
   "source": [
    "import cv2\n",
    " \n",
    "bgr_image = cv2.imread('./oxygen.jpg')\n",
    "\n",
    "# 从BGR色彩空间转换到BGRA色彩空间\n",
    "bgra_image = cv2.cvtColor(bgr_image, cv2.COLOR_BGR2BGRA)\n",
    "\n",
    "# 显示BGRA图像\n",
    "cv2.imshow('BGRA', bgr_image)\n",
    "\n",
    "# 拆分BGRA图像中的通道\n",
    "b, g, r, a = cv2.split(bgra_image) \n",
    "\n",
    "# 将BGRA图像的透明度调整为172（半透明）\n",
    "a[:, :] = 172 \n",
    "\n",
    "# 合并拆分后并将透明度调整为172的通道图像\n",
    "bgra_172 = cv2.merge([b, g, r, a]) \n",
    "\n",
    "# 将BG图像的透明度调整为0（透明）\n",
    "a[:, :] = 0 \n",
    "\n",
    "# 合并拆分后并将透明度调整为0的通道图像\n",
    "bgra_0 = cv2.merge([b, g, r, a]) \n",
    "\n",
    "cv2.imwrite('./oxygen_bgra.jpg',bgra_image)\n",
    "cv2.imwrite('./oxygen_bgra172.jpg',bgra_172)\n",
    "cv2.imwrite('./oxygen_bgra0.jpg',bgra_0)\n",
    "\n",
    "# 显示透明度为172的BGRA图像\n",
    "cv2.imshow('A = 172', bgra_172)\n",
    "\n",
    "# 显示透明度为0的BGRA图像\n",
    "cv2.imshow('A = 0', bgra_0)\n",
    " \n",
    "cv2.waitKey()\n",
    "cv2.destroyAllWindows()"
   ]
  },
  {
   "cell_type": "code",
   "execution_count": 24,
   "metadata": {},
   "outputs": [
    {
     "name": "stdout",
     "output_type": "stream",
     "text": [
      "[[ 1  2  3  4]\n",
      " [ 5 10  6  7]\n",
      " [ 8  9 10  0]]\n",
      "图像img1中最小值为：0.0, 其位置为：(3, 2)\n",
      "图像img1中最大值为：10.0, 其位置为：(1, 1)\n"
     ]
    }
   ],
   "source": [
    "import cv2 as cv\n",
    "import numpy as np\n",
    "\n",
    "# 新建矩阵array\n",
    "array = np.array([1, 2, 3, 4, 5, 10, 6, 7, 8, 9, 10, 0])\n",
    "\n",
    "# 将array调整为3*4的单通道图像\n",
    "img1 = array.reshape((3, 4))\n",
    "\n",
    "print(img1)\n",
    "\n",
    "minval_1, maxval_1, minloc_1, maxloc_1 = cv.minMaxLoc(img1)\n",
    "\n",
    "temp1 = img1[2, 1]\n",
    "temp2 = img1[1, 2]\n",
    "\n",
    "print('图像img1中最小值为：{}, 其位置为：{}' .format(minval_1, minloc_1))\n",
    "print('图像img1中最大值为：{}, 其位置为：{}' .format(maxval_1, maxloc_1))\n"
   ]
  },
  {
   "cell_type": "code",
   "execution_count": 26,
   "metadata": {},
   "outputs": [
    {
     "name": "stdout",
     "output_type": "stream",
     "text": [
      "[ 1  2  3  4  5  6  7  8  9 10 11 12]\n",
      "----------\n",
      "[[ 1  2  3  4]\n",
      " [ 5  6  7  8]\n",
      " [ 9 10 11 12]]\n",
      "----------\n",
      "[[[ 1  2  3]\n",
      "  [ 4  5  6]]\n",
      "\n",
      " [[ 7  8  9]\n",
      "  [10 11 12]]]\n",
      "----------\n",
      "[[[ 1  2  3]\n",
      "  [ 4  5  6]]\n",
      "\n",
      " [[ 7  8  9]\n",
      "  [10 11 12]]]\n"
     ]
    }
   ],
   "source": [
    "import numpy as np\n",
    "\n",
    "# 新建矩阵A1\n",
    "A1 = np.array([1, 2, 3, 4, 5, 6, 7, 8, 9, 10, 11, 12])\n",
    "\n",
    "print(A1)\n",
    "print('----------')\n",
    "\n",
    "# 将A1调整为3*4的单通道图像(矩阵)\n",
    "img1 = A1.reshape((3, 4))\n",
    "\n",
    "print(img1)\n",
    "print('----------')\n",
    "\n",
    "# 将A1调整为 2*2*3的两通道图像(矩阵)\n",
    "img2 = A1.reshape((2, 2, 3))\n",
    "\n",
    "print(img2)\n",
    "print('----------')\n",
    "\n",
    "# 将某一维度的值设为-1，函数自动计算出其值\n",
    "img3 = A1.reshape((2, 2, -1))\n",
    "\n",
    "print(img3)"
   ]
  },
  {
   "cell_type": "code",
   "execution_count": 32,
   "metadata": {},
   "outputs": [
    {
     "name": "stdout",
     "output_type": "stream",
     "text": [
      "mean函数计算结果如下：{}\n",
      "图像img1的均值为：(5.416666666666666, 0.0, 0.0, 0.0)\n",
      "图像img2的均值为：(5.5, 5.333333333333333, 0.0, 0.0)\n",
      "第一个通道的均值为：5.5\n",
      "第二个通道的均值为：5.333333333333333\n",
      "----------\n",
      "meanStdDev函数计算结果如下：\n",
      "图像img1的均值为：5.416666666666666\n",
      "标准差为：[[3.32812092]]\n",
      "图像img2的均值为：(5.5, 5.333333333333333, 0.0, 0.0)\n",
      "第一个通道的均值为：5.5\n",
      "第二个通道的均值为：5.333333333333333\n",
      "均值为：[[5.5       ]\n",
      " [5.33333333]]\n",
      "标准差为：[[2.98607881]\n",
      " [3.63623737]]\n",
      "第一个通道的标准差为：2.9860788111948193\n",
      "第二个通道的标准差为：2.9860788111948193\n"
     ]
    }
   ],
   "source": [
    "import cv2\n",
    "import numpy as np\n",
    " \n",
    "# 新建矩阵array\n",
    "array = np.array([1, 2, 3, 4, 5, 10, 6, 7, 8, 9, 10, 0])\n",
    "\n",
    "# 将array调整为3*4的单通道图像img1\n",
    "img1 = array.reshape((3, 4))\n",
    "\n",
    "# 将array调整为3*2*2的多通道图像img2\n",
    "img2 = array.reshape((3, 2, 2))\n",
    " \n",
    "# 计算img1的均值\n",
    "mean_img1 = cv2.mean(img1)\n",
    "\n",
    "# 计算img2的均值\n",
    "mean_img2 = cv2.mean(img2)\n",
    "\n",
    "# 计算img1的均值和标准差\n",
    "mean_std_dev_img1 = cv2.meanStdDev(img1)\n",
    "\n",
    "# 计算img2的均值和标准差\n",
    "mean_std_dev_img2 = cv2.meanStdDev(img2)\n",
    " \n",
    "print('mean函数计算结果如下：{}')\n",
    "print('图像img1的均值为：{}'.format(mean_img1))\n",
    "print('图像img2的均值为：{}'.format(mean_img2))\n",
    "print('第一个通道的均值为：{}'.format(mean_img2[0]))\n",
    "print('第二个通道的均值为：{}'.format(mean_img2[1]))\n",
    "      \n",
    "print('----------')\n",
    "print('meanStdDev函数计算结果如下：')\n",
    "print('图像img1的均值为：{}'.format(mean_img1[0]))\n",
    "print('标准差为：{}'.format(mean_std_dev_img1[1]))\n",
    "print('图像img2的均值为：{}'.format(mean_img2))\n",
    "print('第一个通道的均值为：{}'.format(mean_img2[0]))\n",
    "\n",
    "print('第二个通道的均值为：{}'.format(mean_img2[1]))\n",
    "print('均值为：{}'.format(mean_std_dev_img2[0]))\n",
    "print('标准差为：{}'.format(mean_std_dev_img2[1]))\n",
    "print('第一个通道的标准差为：{}'.format(float(mean_std_dev_img2[1][0])))\n",
    "print('第二个通道的标准差为：{}'.format(float(mean_std_dev_img2[1][0])))"
   ]
  },
  {
   "cell_type": "code",
   "execution_count": 36,
   "metadata": {},
   "outputs": [
    {
     "name": "stdout",
     "output_type": "stream",
     "text": [
      "[[88 88 88]\n",
      " [66 66 66]\n",
      " [55 55 55]]\n",
      "----------\n",
      "[[ 1  1  1]\n",
      " [ 2  2  2]\n",
      " [55 55 55]]\n"
     ]
    }
   ],
   "source": [
    "import numpy as np\n",
    "import cv2 as cv\n",
    "\n",
    "A1 = np.array(\n",
    "  [\n",
    "    [1, 1, 1],\n",
    "    [66, 66, 66],\n",
    "    [55, 55, 55]\n",
    "  ], dtype='int8'\n",
    ")\n",
    "\n",
    "B1 = np.array(\n",
    "  [\n",
    "    [88, 88, 88],\n",
    "    [2, 2, 2],\n",
    "    [55, 55, 55]\n",
    "  ], dtype='int8'\n",
    ")\n",
    "\n",
    "C1 = cv.max(A1, B1)\n",
    "C2 = cv.min(A1, B1)\n",
    "\n",
    "print(C1)\n",
    "print('----------')\n",
    "print(C2)"
   ]
  },
  {
   "cell_type": "code",
   "execution_count": null,
   "metadata": {},
   "outputs": [],
   "source": []
  }
 ],
 "metadata": {
  "kernelspec": {
   "display_name": "BigDataMiningVenvsForPython38",
   "language": "python",
   "name": "python3"
  },
  "language_info": {
   "codemirror_mode": {
    "name": "ipython",
    "version": 3
   },
   "file_extension": ".py",
   "mimetype": "text/x-python",
   "name": "python",
   "nbconvert_exporter": "python",
   "pygments_lexer": "ipython3",
   "version": "3.8.13"
  }
 },
 "nbformat": 4,
 "nbformat_minor": 2
}
