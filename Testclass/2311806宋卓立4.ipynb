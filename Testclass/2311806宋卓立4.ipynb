{
 "cells": [
  {
   "cell_type": "code",
   "execution_count": 1,
   "metadata": {},
   "outputs": [
    {
     "name": "stdout",
     "output_type": "stream",
     "text": [
      "前20项分数数列之和为: 177.72138514522078\n"
     ]
    }
   ],
   "source": [
    "# 函数1: 生成斐波那契数列\n",
    "def fibonacci(n):\n",
    "    fib_sequence = [0, 1]  # 前两项\n",
    "    for i in range(2, n):\n",
    "        fib_sequence.append(fib_sequence[-1] + fib_sequence[-2])\n",
    "    return fib_sequence\n",
    "\n",
    "# 函数2: 判断是否为素数\n",
    "def is_prime(num):\n",
    "    if num <= 1:\n",
    "        return False\n",
    "    elif num <= 3:\n",
    "        return True\n",
    "    elif num % 2 == 0 or num % 3 == 0:\n",
    "        return False\n",
    "    i = 5\n",
    "    while i * i <= num:\n",
    "        if num % i == 0 or num % (i + 2) == 0:\n",
    "            return False\n",
    "        i += 6\n",
    "    return True\n",
    "\n",
    "# 主函数: 生成分数数列并计算前20项之和\n",
    "def sum_fraction_series(n):\n",
    "    fib_sequence = fibonacci(n)  # 生成斐波那契数列\n",
    "    primes = []\n",
    "    i = 2\n",
    "    while len(primes) < n:\n",
    "        if is_prime(i):\n",
    "            primes.append(i)\n",
    "        i += 1\n",
    "    \n",
    "    fraction_series = []\n",
    "    for i in range(n):\n",
    "        numerator = fib_sequence[i]  # 分子为斐波那契数列中的值\n",
    "        denominator = primes[i]  # 分母为素数序列中的值\n",
    "        fraction_series.append(numerator / denominator)\n",
    "    \n",
    "    sum_series = sum(fraction_series)  # 计算分数数列的和\n",
    "    return sum_series\n",
    "\n",
    "# 计算前20项之和并输出结果\n",
    "result = sum_fraction_series(20)\n",
    "print(\"前20项分数数列之和为:\", result)\n"
   ]
  },
  {
   "cell_type": "code",
   "execution_count": 2,
   "metadata": {},
   "outputs": [
    {
     "name": "stdout",
     "output_type": "stream",
     "text": [
      "最高的GC-Ratio为: 1.0\n",
      "对应的子序列长度为: 1\n"
     ]
    }
   ],
   "source": [
    "def calculate_gc_ratio(sequence):\n",
    "    gc_count = sequence.count('G') + sequence.count('C')  # 统计GC出现次数\n",
    "    total_bases = len(sequence)  # 总碱基数\n",
    "    gc_ratio = gc_count / total_bases\n",
    "    return gc_ratio\n",
    "\n",
    "def find_highest_gc_ratio(sequence):\n",
    "    max_gc_ratio = 0\n",
    "    max_gc_ratio_length = 0\n",
    "    sequence_length = len(sequence)\n",
    "\n",
    "    # 迭代不同长度的子序列\n",
    "    for length in range(1, sequence_length + 1):\n",
    "        for start_index in range(sequence_length - length + 1):\n",
    "            sub_sequence = sequence[start_index:start_index + length]\n",
    "            gc_ratio = calculate_gc_ratio(sub_sequence)\n",
    "            if gc_ratio > max_gc_ratio:\n",
    "                max_gc_ratio = gc_ratio\n",
    "                max_gc_ratio_length = length\n",
    "\n",
    "    return max_gc_ratio, max_gc_ratio_length\n",
    "\n",
    "# 示例DNA序列\n",
    "dna_sequence = \"ATGCGCTAAGCTAGCTAGCTGATCGATCGATCGATCGATCGATCGATCGATCGATCGATCGATCGATCGATCGATCGATCGATCGATCGATCGATCGATCGATCGATCGATCGATCGATCGATCGATCGATCGATCGATCGATCGATCGATCGATCGATCGATCGATCGATCGATCGATCGATCGATCGATCGATCGATCGATCGATCGATCGATCGATCGATCGATCGATCGATCGATCGATCGATCGATCGATCGATCGATCGATCGATCGATCGATCGATCGATCGATCGATCGATCGATCGATCGATCGATCGATCGATCGATCGATCGATCGATCGATCGATCGATCGATCGATCGATCGATCGATCGATCGATCGATCGATCGATCGATCGATCGATCGATCGATCG\"\n",
    "max_gc_ratio, max_gc_ratio_length = find_highest_gc_ratio(dna_sequence)\n",
    "print(\"最高的GC-Ratio为:\", max_gc_ratio)\n",
    "print(\"对应的子序列长度为:\", max_gc_ratio_length)\n"
   ]
  },
  {
   "cell_type": "code",
   "execution_count": 3,
   "metadata": {},
   "outputs": [
    {
     "name": "stdout",
     "output_type": "stream",
     "text": [
      "最大公共子串的长度为: 5\n"
     ]
    }
   ],
   "source": [
    "def longest_common_substring_length(s1, s2):\n",
    "    # 将两个字符串转换为小写，以便字符不区分大小写\n",
    "    s1 = s1.lower()\n",
    "    s2 = s2.lower()\n",
    "\n",
    "    # 初始化动态规划数组\n",
    "    dp = [[0] * (len(s2) + 1) for _ in range(len(s1) + 1)]\n",
    "\n",
    "    max_length = 0  # 记录最大公共子串的长度\n",
    "\n",
    "    # 动态规划计算公共子串长度\n",
    "    for i in range(1, len(s1) + 1):\n",
    "        for j in range(1, len(s2) + 1):\n",
    "            if s1[i - 1] == s2[j - 1]:\n",
    "                dp[i][j] = dp[i - 1][j - 1] + 1\n",
    "                max_length = max(max_length, dp[i][j])\n",
    "\n",
    "    return max_length\n",
    "\n",
    "# 示例字符串\n",
    "string1 = \"HelloWorld\"\n",
    "string2 = \"WelcomedToTheWorld\"\n",
    "result = longest_common_substring_length(string1, string2)\n",
    "print(\"最大公共子串的长度为:\", result)\n"
   ]
  }
 ],
 "metadata": {
  "kernelspec": {
   "display_name": "BigDataMiningVenvsForPython38",
   "language": "python",
   "name": "python3"
  },
  "language_info": {
   "codemirror_mode": {
    "name": "ipython",
    "version": 3
   },
   "file_extension": ".py",
   "mimetype": "text/x-python",
   "name": "python",
   "nbconvert_exporter": "python",
   "pygments_lexer": "ipython3",
   "version": "3.8.13"
  }
 },
 "nbformat": 4,
 "nbformat_minor": 2
}
