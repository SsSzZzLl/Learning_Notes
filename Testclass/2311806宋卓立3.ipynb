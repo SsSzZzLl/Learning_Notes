{
 "cells": [
  {
   "cell_type": "code",
   "execution_count": 1,
   "metadata": {},
   "outputs": [
    {
     "name": "stdout",
     "output_type": "stream",
     "text": [
      "第三个元素的数值: 92\n",
      "第1~6个元素的数值: [68, 87, 92, 108, 76, 88]\n",
      "成绩是76的同学数: 2\n",
      "成绩是满分的同学的学号: [1980104]\n",
      "最高分: 108\n",
      "最低分: 54\n",
      "颠倒后的score: [61, 76, 89, 54, 88, 76, 108, 92, 59, 87, 68]\n",
      "合并后的列表: [8, 61, 71, 95, 82]\n",
      "复制后的score2: [88, 61, 88, 61, 88, 61, 88, 61, 88, 61]\n"
     ]
    }
   ],
   "source": [
    "# 创建一个空列表score\n",
    "score = []\n",
    "\n",
    "# 1) 在score列表中依次追加10个数值\n",
    "score.extend([68, 87, 92, 108, 76, 88, 54, 89, 76, 61])\n",
    "\n",
    "# 2) 输出score中第三个元素的数值 和 第1~6个元素的数值\n",
    "print(\"第三个元素的数值:\", score[2])\n",
    "print(\"第1~6个元素的数值:\", score[:6])\n",
    "\n",
    "# 3) 在score第3个元素前添加数值59\n",
    "score.insert(2, 59)\n",
    "\n",
    "# 4) 查询有多少个同学的成绩是76\n",
    "count_76 = score.count(76)\n",
    "print(\"成绩是76的同学数:\", count_76)\n",
    "\n",
    "# 5) 查询score中成绩是满分的同学的学号(假设第一个同学的学号是1980100，而同学的学号是连续的)\n",
    "perfect_score_index = score.index(108)\n",
    "first_student_number = 1980100\n",
    "perfect_score_students = [first_student_number + perfect_score_index]\n",
    "print(\"成绩是满分的同学的学号:\", perfect_score_students)\n",
    "\n",
    "# 6) 对score进行排序，输出最高分和最低分\n",
    "sorted_score = sorted(score)\n",
    "highest_score = sorted_score[-1]\n",
    "lowest_score = sorted_score[0]\n",
    "print(\"最高分:\", highest_score)\n",
    "print(\"最低分:\", lowest_score)\n",
    "\n",
    "# 7) 颠倒score中元素的顺序后打印输出，但score本身不变\n",
    "reversed_score = score[::-1]\n",
    "print(\"颠倒后的score:\", reversed_score)\n",
    "\n",
    "# 8) 在score中追加数据88，然后删除score中的第一个值为88的元素\n",
    "score.append(88)\n",
    "score.remove(88)\n",
    "\n",
    "# 9) 创建两个列表score1和score2\n",
    "score1 = [8, 61]\n",
    "score2 = [71, 95, 82]\n",
    "# 合并这两个列表，并输出全部元素\n",
    "combined_score = score1 + score2\n",
    "print(\"合并后的列表:\", combined_score)\n",
    "\n",
    "# 10) 创建列表score1，将score1中的元素复制5遍保存到score2中\n",
    "score1 = [88, 61]\n",
    "score2 = score1 * 5\n",
    "print(\"复制后的score2:\", score2)\n"
   ]
  },
  {
   "cell_type": "code",
   "execution_count": 2,
   "metadata": {},
   "outputs": [
    {
     "name": "stdout",
     "output_type": "stream",
     "text": [
      "01 02 03 04\n",
      "12 13 14 05\n",
      "11 16 15 06\n",
      "10 09 08 07\n",
      "01 02 03 04 05\n",
      "16 17 18 19 06\n",
      "15 24 25 20 07\n",
      "14 23 22 21 08\n",
      "13 12 11 10 09\n"
     ]
    }
   ],
   "source": [
    "def generate_pattern(n):\n",
    "    # 创建一个 n x n 的二维数组，初始化为0\n",
    "    matrix = [[0] * n for _ in range(n)]\n",
    "\n",
    "    num = 1  # 起始数字\n",
    "    row, col = 0, 0  # 起始填充位置\n",
    "    direction = 1  # 初始填充方向\n",
    "\n",
    "    # 填充数字\n",
    "    for i in range(1, n * n + 1):\n",
    "        matrix[row][col] = i  # 填充数字\n",
    "        if direction == 1:  # 向右填充\n",
    "            if col + 1 < n and matrix[row][col + 1] == 0:\n",
    "                col += 1\n",
    "            else:  # 改变方向\n",
    "                direction = 2\n",
    "                row += 1\n",
    "        elif direction == 2:  # 向下填充\n",
    "            if row + 1 < n and matrix[row + 1][col] == 0:\n",
    "                row += 1\n",
    "            else:  # 改变方向\n",
    "                direction = 3\n",
    "                col -= 1\n",
    "        elif direction == 3:  # 向左填充\n",
    "            if col - 1 >= 0 and matrix[row][col - 1] == 0:\n",
    "                col -= 1\n",
    "            else:  # 改变方向\n",
    "                direction = 4\n",
    "                row -= 1\n",
    "        elif direction == 4:  # 向上填充\n",
    "            if row - 1 >= 0 and matrix[row - 1][col] == 0:\n",
    "                row -= 1\n",
    "            else:  # 改变方向\n",
    "                direction = 1\n",
    "                col += 1\n",
    "\n",
    "    # 输出矩阵\n",
    "    for row in matrix:\n",
    "        print(\" \".join([str(num).zfill(2) for num in row]))\n",
    "\n",
    "# 测试\n",
    "generate_pattern(4)  # 输出 4 的情况\n",
    "generate_pattern(5)  # 输出 5 的情况\n"
   ]
  }
 ],
 "metadata": {
  "kernelspec": {
   "display_name": "BigDataMiningVenvsForPython38",
   "language": "python",
   "name": "python3"
  },
  "language_info": {
   "codemirror_mode": {
    "name": "ipython",
    "version": 3
   },
   "file_extension": ".py",
   "mimetype": "text/x-python",
   "name": "python",
   "nbconvert_exporter": "python",
   "pygments_lexer": "ipython3",
   "version": "3.8.13"
  },
  "orig_nbformat": 4
 },
 "nbformat": 4,
 "nbformat_minor": 2
}
