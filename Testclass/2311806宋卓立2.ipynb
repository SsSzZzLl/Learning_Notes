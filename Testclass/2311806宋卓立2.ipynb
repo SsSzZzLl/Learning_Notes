{
 "cells": [
  {
   "cell_type": "code",
   "execution_count": 2,
   "metadata": {},
   "outputs": [
    {
     "name": "stdout",
     "output_type": "stream",
     "text": [
      "275天 06小时 17分钟 01秒"
     ]
    },
    {
     "ename": "KeyboardInterrupt",
     "evalue": "",
     "output_type": "error",
     "traceback": [
      "\u001b[1;31m---------------------------------------------------------------------------\u001b[0m",
      "\u001b[1;31mKeyboardInterrupt\u001b[0m                         Traceback (most recent call last)",
      "Cell \u001b[1;32mIn[2], line 28\u001b[0m\n\u001b[0;32m     23\u001b[0m             \u001b[39mbreak\u001b[39;00m\n\u001b[0;32m     25\u001b[0m         time\u001b[39m.\u001b[39msleep(\u001b[39m1\u001b[39m)\n\u001b[1;32m---> 28\u001b[0m remaining_time()\n",
      "Cell \u001b[1;32mIn[2], line 25\u001b[0m, in \u001b[0;36mremaining_time\u001b[1;34m()\u001b[0m\n\u001b[0;32m     22\u001b[0m \u001b[39mif\u001b[39;00m current_time \u001b[39m>\u001b[39m\u001b[39m=\u001b[39m end_date:\n\u001b[0;32m     23\u001b[0m     \u001b[39mbreak\u001b[39;00m\n\u001b[1;32m---> 25\u001b[0m time\u001b[39m.\u001b[39;49msleep(\u001b[39m1\u001b[39;49m)\n",
      "\u001b[1;31mKeyboardInterrupt\u001b[0m: "
     ]
    }
   ],
   "source": [
    "import datetime\n",
    "import time\n",
    "import sys\n",
    "\n",
    "def remaining_time():\n",
    "    end_date = datetime.datetime(2025, 1, 1)\n",
    "    while True:\n",
    "        current_time = datetime.datetime.now()\n",
    "        time_difference = end_date - current_time\n",
    "        remaining_days = time_difference.days\n",
    "        remaining_hours, remainder = divmod(time_difference.seconds, 3600)\n",
    "        remaining_minutes, remaining_seconds = divmod(remainder, 60)\n",
    "        \n",
    "        time_str = \"{:02d}天 {:02d}小时 {:02d}分钟 {:02d}秒\".format(remaining_days, remaining_hours, remaining_minutes, remaining_seconds)\n",
    "        \n",
    "        # Move cursor to the beginning of the line\n",
    "        sys.stdout.write('\\r')\n",
    "        sys.stdout.flush()\n",
    "        sys.stdout.write(time_str)\n",
    "        sys.stdout.flush()\n",
    "        \n",
    "        if current_time >= end_date:\n",
    "            break\n",
    "        \n",
    "        time.sleep(1)\n",
    "\n",
    "\n",
    "remaining_time()\n"
   ]
  },
  {
   "cell_type": "code",
   "execution_count": null,
   "metadata": {},
   "outputs": [
    {
     "name": "stdout",
     "output_type": "stream",
     "text": [
      "该字符串所有的子字符共有 6 个。\n"
     ]
    }
   ],
   "source": [
    "def count_substrings(s):\n",
    "    n = len(s)\n",
    "    substrings = set()\n",
    "    \n",
    "    for i in range(n):\n",
    "        for j in range(i+1, n+1):\n",
    "            substrings.add(s[i:j])\n",
    "    \n",
    "    return len(substrings)\n",
    "\n",
    "\n",
    "string = input(\"请输入一个字符串：\")\n",
    "count = count_substrings(string)\n",
    "print(\"该字符串所有的子字符共有\", count, \"个。\")\n"
   ]
  },
  {
   "cell_type": "code",
   "execution_count": null,
   "metadata": {},
   "outputs": [
    {
     "name": "stdout",
     "output_type": "stream",
     "text": [
      "生成的列表为: [5, 3, 5, 9, 3, 8, 2, 8, 6, 2, 2, 6, 1, 2, 1]\n",
      "列表中6的所有索引为: [8, 11]\n"
     ]
    }
   ],
   "source": [
    "import random\n",
    "\n",
    "def generate_list(length):\n",
    "    return [random.randint(1, 9) for _ in range(length)]\n",
    "\n",
    "def find_indices(lst, num):\n",
    "    indices = []\n",
    "    for i, element in enumerate(lst):\n",
    "        if element == num:\n",
    "            indices.append(i)\n",
    "    return indices\n",
    "\n",
    "\n",
    "num = int(input(\"请输入一个[1,9]的正整数num：\"))\n",
    "lst = generate_list(15)\n",
    "print(\"生成的列表为:\", lst)\n",
    "indices = find_indices(lst, num)\n",
    "print(f\"列表中{num}的所有索引为:\", indices)\n"
   ]
  }
 ],
 "metadata": {
  "kernelspec": {
   "display_name": "BigDataMiningVenvsForPython38",
   "language": "python",
   "name": "python3"
  },
  "language_info": {
   "codemirror_mode": {
    "name": "ipython",
    "version": 3
   },
   "file_extension": ".py",
   "mimetype": "text/x-python",
   "name": "python",
   "nbconvert_exporter": "python",
   "pygments_lexer": "ipython3",
   "version": "3.8.13"
  },
  "orig_nbformat": 4
 },
 "nbformat": 4,
 "nbformat_minor": 2
}
