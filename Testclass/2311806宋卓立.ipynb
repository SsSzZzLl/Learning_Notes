{
 "cells": [
  {
   "cell_type": "code",
   "execution_count": 2,
   "metadata": {},
   "outputs": [
    {
     "name": "stdout",
     "output_type": "stream",
     "text": [
      "结果为： 24\n"
     ]
    }
   ],
   "source": [
    "def get_valid_input(prompt, valid_range):\n",
    "    while True:\n",
    "        try:\n",
    "            value = int(input(prompt))\n",
    "            if value in valid_range:\n",
    "                return value\n",
    "            else:\n",
    "                print(\"输入不合法，请重新输入。\")\n",
    "        except ValueError:\n",
    "            print(\"输入不合法，请重新输入一个整数。\")\n",
    "\n",
    "def calculate_sum(a, num):\n",
    "    total = 0\n",
    "    current = a\n",
    "    for i in range(num):\n",
    "        total += current\n",
    "        current = current * 10 + a\n",
    "    return total\n",
    "\n",
    "# 获取合法的输入\n",
    "a = get_valid_input(\"请输入一个整数（1-9）：\", range(1, 10))\n",
    "num = get_valid_input(\"请输入要相加的整数个数（2-10）：\", range(2, 11))\n",
    "\n",
    "# 计算总和并输出结果\n",
    "result = calculate_sum(a, num)\n",
    "print(\"结果为：\", result)\n"
   ]
  },
  {
   "cell_type": "code",
   "execution_count": 3,
   "metadata": {},
   "outputs": [
    {
     "name": "stdout",
     "output_type": "stream",
     "text": [
      "5 和 10 的最大公约数为：5\n",
      "5 和 10 的最小公倍数为：10\n"
     ]
    }
   ],
   "source": [
    "def gcd(a, b):\n",
    "    while b != 0:\n",
    "        c = a % b\n",
    "        a = b\n",
    "        b = c\n",
    "    return a\n",
    "\n",
    "def lcm(a, b):\n",
    "    return a * b // gcd(a, b)\n",
    "\n",
    "def get_valid_input(prompt):\n",
    "    while True:\n",
    "        try:\n",
    "            value = int(input(prompt))\n",
    "            if value > 0:\n",
    "                return value\n",
    "            else:\n",
    "                print(\"输入不合法，请重新输入。\")\n",
    "        except ValueError:\n",
    "            print(\"输入不合法，请重新输入一个整数。\")\n",
    "\n",
    "# 获取合法的输入\n",
    "a = get_valid_input(\"请输入第一个正整数：\")\n",
    "b = get_valid_input(\"请输入第二个正整数：\")\n",
    "\n",
    "# 计算最大公约数和最小公倍数并输出结果\n",
    "gcd_result = gcd(a, b)\n",
    "lcm_result = lcm(a, b)\n",
    "print(f\"{a} 和 {b} 的最大公约数为：{gcd_result}\")\n",
    "print(f\"{a} 和 {b} 的最小公倍数为：{lcm_result}\")\n"
   ]
  },
  {
   "cell_type": "code",
   "execution_count": 4,
   "metadata": {},
   "outputs": [
    {
     "name": "stdout",
     "output_type": "stream",
     "text": [
      "请选择你的出拳：\n",
      "1--剪刀\n",
      "2--石头\n",
      "3--布\n",
      "你选择了石头。\n"
     ]
    }
   ],
   "source": [
    "def display_menu():\n",
    "    print(\"请选择你的出拳：\")\n",
    "    print(\"1--剪刀\")\n",
    "    print(\"2--石头\")\n",
    "    print(\"3--布\")\n",
    "\n",
    "def get_user_choice():\n",
    "    while True:\n",
    "        try:\n",
    "            choice = int(input(\"你的选择是：\"))\n",
    "            if choice in [1, 2, 3]:\n",
    "                return choice\n",
    "            else:\n",
    "                print(\"选择无效，请重新输入。\")\n",
    "        except ValueError:\n",
    "            print(\"选择无效，请输入一个数字。\")\n",
    "\n",
    "# 显示选择菜单\n",
    "display_menu()\n",
    "\n",
    "# 获取用户选择\n",
    "user_choice = get_user_choice()\n",
    "\n",
    "# 根据用户选择进行操作\n",
    "if user_choice == 1:\n",
    "    print(\"你选择了剪刀。\")\n",
    "elif user_choice == 2:\n",
    "    print(\"你选择了石头。\")\n",
    "else:\n",
    "    print(\"你选择了布。\")\n"
   ]
  },
  {
   "cell_type": "code",
   "execution_count": null,
   "metadata": {},
   "outputs": [],
   "source": []
  }
 ],
 "metadata": {
  "kernelspec": {
   "display_name": "BigDataMiningVenvsForPython38",
   "language": "python",
   "name": "python3"
  },
  "language_info": {
   "codemirror_mode": {
    "name": "ipython",
    "version": 3
   },
   "file_extension": ".py",
   "mimetype": "text/x-python",
   "name": "python",
   "nbconvert_exporter": "python",
   "pygments_lexer": "ipython3",
   "version": "3.8.13"
  },
  "orig_nbformat": 4
 },
 "nbformat": 4,
 "nbformat_minor": 2
}
