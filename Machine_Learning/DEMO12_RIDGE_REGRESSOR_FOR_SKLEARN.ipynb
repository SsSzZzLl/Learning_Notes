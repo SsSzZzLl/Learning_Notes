{
 "cells": [
  {
   "cell_type": "code",
   "execution_count": 14,
   "metadata": {},
   "outputs": [],
   "source": [
    "import numpy as np\n",
    "import pandas as pd\n",
    "import matplotlib.pyplot as plt\n",
    "\n",
    "# 导入线性回归模型\n",
    "from sklearn.linear_model import Ridge\n",
    "\n",
    "# 导入数据集划分对象\n",
    "from sklearn.model_selection import train_test_split\n",
    "\n",
    "# 导入波士顿房价数据集\n",
    "data_url = \"http://lib.stat.cmu.edu/datasets/boston\"\n",
    "raw_df = pd.read_csv(data_url, sep=\"\\s+\", skiprows=22, header=None)\n",
    "data = np.hstack([raw_df.values[::2, :], raw_df.values[1::2, :2]])\n",
    "target = raw_df.values[1::2, 2]\n",
    "\n",
    "# 导入回归模型的评估指标\n",
    "from sklearn.metrics import mean_squared_error, r2_score  \n",
    "\n",
    "from IPython.core.interactiveshell import InteractiveShell # 这个对象设置所有行全部输出\n",
    "  \n",
    "# 设置该对象ast_node_interactivity的属性值为all，表示notebook下每一行有输出的代码全部输出运算结果\n",
    "InteractiveShell.ast_node_interactivity = \"all\"\n",
    "\n",
    "# 解决坐标轴刻度负号乱码\n",
    "plt.rcParams['axes.unicode_minus'] = False\n",
    "\n",
    "# 解决中文乱码问题\n",
    "plt.rcParams['font.sans-serif'] = ['Simhei']\n",
    "plt.style.use('ggplot')\n"
   ]
  },
  {
   "cell_type": "code",
   "execution_count": 15,
   "metadata": {},
   "outputs": [
    {
     "data": {
      "text/plain": [
       "(506, 13)"
      ]
     },
     "execution_count": 15,
     "metadata": {},
     "output_type": "execute_result"
    }
   ],
   "source": [
    "# 加载数据\n",
    "x = data\n",
    "y = target\n",
    "x.shape"
   ]
  },
  {
   "cell_type": "code",
   "execution_count": 16,
   "metadata": {},
   "outputs": [],
   "source": [
    "# 数据集划分\n",
    "Xtrain, Xtest, Ytrain, Ytest = train_test_split(x, y, test_size=0.3, random_state=123)"
   ]
  },
  {
   "cell_type": "code",
   "execution_count": 17,
   "metadata": {},
   "outputs": [
    {
     "data": {
      "text/html": [
       "<style>#sk-container-id-4 {color: black;}#sk-container-id-4 pre{padding: 0;}#sk-container-id-4 div.sk-toggleable {background-color: white;}#sk-container-id-4 label.sk-toggleable__label {cursor: pointer;display: block;width: 100%;margin-bottom: 0;padding: 0.3em;box-sizing: border-box;text-align: center;}#sk-container-id-4 label.sk-toggleable__label-arrow:before {content: \"▸\";float: left;margin-right: 0.25em;color: #696969;}#sk-container-id-4 label.sk-toggleable__label-arrow:hover:before {color: black;}#sk-container-id-4 div.sk-estimator:hover label.sk-toggleable__label-arrow:before {color: black;}#sk-container-id-4 div.sk-toggleable__content {max-height: 0;max-width: 0;overflow: hidden;text-align: left;background-color: #f0f8ff;}#sk-container-id-4 div.sk-toggleable__content pre {margin: 0.2em;color: black;border-radius: 0.25em;background-color: #f0f8ff;}#sk-container-id-4 input.sk-toggleable__control:checked~div.sk-toggleable__content {max-height: 200px;max-width: 100%;overflow: auto;}#sk-container-id-4 input.sk-toggleable__control:checked~label.sk-toggleable__label-arrow:before {content: \"▾\";}#sk-container-id-4 div.sk-estimator input.sk-toggleable__control:checked~label.sk-toggleable__label {background-color: #d4ebff;}#sk-container-id-4 div.sk-label input.sk-toggleable__control:checked~label.sk-toggleable__label {background-color: #d4ebff;}#sk-container-id-4 input.sk-hidden--visually {border: 0;clip: rect(1px 1px 1px 1px);clip: rect(1px, 1px, 1px, 1px);height: 1px;margin: -1px;overflow: hidden;padding: 0;position: absolute;width: 1px;}#sk-container-id-4 div.sk-estimator {font-family: monospace;background-color: #f0f8ff;border: 1px dotted black;border-radius: 0.25em;box-sizing: border-box;margin-bottom: 0.5em;}#sk-container-id-4 div.sk-estimator:hover {background-color: #d4ebff;}#sk-container-id-4 div.sk-parallel-item::after {content: \"\";width: 100%;border-bottom: 1px solid gray;flex-grow: 1;}#sk-container-id-4 div.sk-label:hover label.sk-toggleable__label {background-color: #d4ebff;}#sk-container-id-4 div.sk-serial::before {content: \"\";position: absolute;border-left: 1px solid gray;box-sizing: border-box;top: 0;bottom: 0;left: 50%;z-index: 0;}#sk-container-id-4 div.sk-serial {display: flex;flex-direction: column;align-items: center;background-color: white;padding-right: 0.2em;padding-left: 0.2em;position: relative;}#sk-container-id-4 div.sk-item {position: relative;z-index: 1;}#sk-container-id-4 div.sk-parallel {display: flex;align-items: stretch;justify-content: center;background-color: white;position: relative;}#sk-container-id-4 div.sk-item::before, #sk-container-id-4 div.sk-parallel-item::before {content: \"\";position: absolute;border-left: 1px solid gray;box-sizing: border-box;top: 0;bottom: 0;left: 50%;z-index: -1;}#sk-container-id-4 div.sk-parallel-item {display: flex;flex-direction: column;z-index: 1;position: relative;background-color: white;}#sk-container-id-4 div.sk-parallel-item:first-child::after {align-self: flex-end;width: 50%;}#sk-container-id-4 div.sk-parallel-item:last-child::after {align-self: flex-start;width: 50%;}#sk-container-id-4 div.sk-parallel-item:only-child::after {width: 0;}#sk-container-id-4 div.sk-dashed-wrapped {border: 1px dashed gray;margin: 0 0.4em 0.5em 0.4em;box-sizing: border-box;padding-bottom: 0.4em;background-color: white;}#sk-container-id-4 div.sk-label label {font-family: monospace;font-weight: bold;display: inline-block;line-height: 1.2em;}#sk-container-id-4 div.sk-label-container {text-align: center;}#sk-container-id-4 div.sk-container {/* jupyter's `normalize.less` sets `[hidden] { display: none; }` but bootstrap.min.css set `[hidden] { display: none !important; }` so we also need the `!important` here to be able to override the default hidden behavior on the sphinx rendered scikit-learn.org. See: https://github.com/scikit-learn/scikit-learn/issues/21755 */display: inline-block !important;position: relative;}#sk-container-id-4 div.sk-text-repr-fallback {display: none;}</style><div id=\"sk-container-id-4\" class=\"sk-top-container\"><div class=\"sk-text-repr-fallback\"><pre>Ridge(alpha=0.001)</pre><b>In a Jupyter environment, please rerun this cell to show the HTML representation or trust the notebook. <br />On GitHub, the HTML representation is unable to render, please try loading this page with nbviewer.org.</b></div><div class=\"sk-container\" hidden><div class=\"sk-item\"><div class=\"sk-estimator sk-toggleable\"><input class=\"sk-toggleable__control sk-hidden--visually\" id=\"sk-estimator-id-4\" type=\"checkbox\" checked><label for=\"sk-estimator-id-4\" class=\"sk-toggleable__label sk-toggleable__label-arrow\">Ridge</label><div class=\"sk-toggleable__content\"><pre>Ridge(alpha=0.001)</pre></div></div></div></div></div>"
      ],
      "text/plain": [
       "Ridge(alpha=0.001)"
      ]
     },
     "execution_count": 17,
     "metadata": {},
     "output_type": "execute_result"
    },
    {
     "data": {
      "text/plain": [
       "array([-1.00986844e-01,  3.99587698e-02,  7.53224577e-02,  2.64323828e-01,\n",
       "       -1.43265524e+01,  4.83332493e+00, -7.45349656e-03, -1.32652166e+00,\n",
       "        2.73450190e-01, -1.30449264e-02, -9.56483191e-01,  6.42522869e-03,\n",
       "       -4.86585271e-01])"
      ]
     },
     "execution_count": 17,
     "metadata": {},
     "output_type": "execute_result"
    },
    {
     "data": {
      "text/plain": [
       "28.97118331987133"
      ]
     },
     "execution_count": 17,
     "metadata": {},
     "output_type": "execute_result"
    }
   ],
   "source": [
    "reg_1 = Ridge(alpha = 0.001)\n",
    "\n",
    "reg_1.fit(Xtrain, Ytrain)\n",
    "\n",
    "# 查看回归系数\n",
    "reg_1.coef_\n",
    "\n",
    "# 查看截距\n",
    "reg_1.intercept_"
   ]
  },
  {
   "cell_type": "code",
   "execution_count": 20,
   "metadata": {},
   "outputs": [],
   "source": [
    "# 导入带有k折交叉验证得岭回归模型\n",
    "from sklearn.linear_model import RidgeCV"
   ]
  },
  {
   "cell_type": "code",
   "execution_count": 31,
   "metadata": {},
   "outputs": [
    {
     "data": {
      "text/plain": [
       "0.6485496162842532"
      ]
     },
     "execution_count": 31,
     "metadata": {},
     "output_type": "execute_result"
    },
    {
     "data": {
      "text/plain": [
       "0.6392633434527886"
      ]
     },
     "execution_count": 31,
     "metadata": {},
     "output_type": "execute_result"
    },
    {
     "data": {
      "text/html": [
       "<div>\n",
       "<style scoped>\n",
       "    .dataframe tbody tr th:only-of-type {\n",
       "        vertical-align: middle;\n",
       "    }\n",
       "\n",
       "    .dataframe tbody tr th {\n",
       "        vertical-align: top;\n",
       "    }\n",
       "\n",
       "    .dataframe thead th {\n",
       "        text-align: right;\n",
       "    }\n",
       "</style>\n",
       "<table border=\"1\" class=\"dataframe\">\n",
       "  <thead>\n",
       "    <tr style=\"text-align: right;\">\n",
       "      <th></th>\n",
       "      <th>0</th>\n",
       "      <th>1</th>\n",
       "      <th>2</th>\n",
       "      <th>3</th>\n",
       "      <th>4</th>\n",
       "      <th>5</th>\n",
       "      <th>6</th>\n",
       "      <th>7</th>\n",
       "      <th>8</th>\n",
       "      <th>9</th>\n",
       "    </tr>\n",
       "  </thead>\n",
       "  <tbody>\n",
       "    <tr>\n",
       "      <th>0</th>\n",
       "      <td>11.361649</td>\n",
       "      <td>8.702176</td>\n",
       "      <td>7.864217</td>\n",
       "      <td>7.445245</td>\n",
       "      <td>7.191854</td>\n",
       "      <td>7.020763</td>\n",
       "      <td>6.896396</td>\n",
       "      <td>6.800993</td>\n",
       "      <td>6.724714</td>\n",
       "      <td>6.661686</td>\n",
       "    </tr>\n",
       "    <tr>\n",
       "      <th>1</th>\n",
       "      <td>5.448356</td>\n",
       "      <td>5.779545</td>\n",
       "      <td>5.883131</td>\n",
       "      <td>5.936753</td>\n",
       "      <td>5.964398</td>\n",
       "      <td>5.976889</td>\n",
       "      <td>5.980011</td>\n",
       "      <td>5.977148</td>\n",
       "      <td>5.970395</td>\n",
       "      <td>5.961098</td>\n",
       "    </tr>\n",
       "    <tr>\n",
       "      <th>2</th>\n",
       "      <td>4.072377</td>\n",
       "      <td>4.994944</td>\n",
       "      <td>5.165460</td>\n",
       "      <td>5.176272</td>\n",
       "      <td>5.143813</td>\n",
       "      <td>5.099367</td>\n",
       "      <td>5.053205</td>\n",
       "      <td>5.008940</td>\n",
       "      <td>4.967765</td>\n",
       "      <td>4.929930</td>\n",
       "    </tr>\n",
       "    <tr>\n",
       "      <th>3</th>\n",
       "      <td>-3.549215</td>\n",
       "      <td>-3.906073</td>\n",
       "      <td>-4.117534</td>\n",
       "      <td>-4.228332</td>\n",
       "      <td>-4.300640</td>\n",
       "      <td>-4.354168</td>\n",
       "      <td>-4.397027</td>\n",
       "      <td>-4.433151</td>\n",
       "      <td>-4.464676</td>\n",
       "      <td>-4.492869</td>\n",
       "    </tr>\n",
       "    <tr>\n",
       "      <th>4</th>\n",
       "      <td>-3.833538</td>\n",
       "      <td>-5.756266</td>\n",
       "      <td>-6.370299</td>\n",
       "      <td>-6.688030</td>\n",
       "      <td>-6.885720</td>\n",
       "      <td>-7.021699</td>\n",
       "      <td>-7.121236</td>\n",
       "      <td>-7.197209</td>\n",
       "      <td>-7.256940</td>\n",
       "      <td>-7.304932</td>\n",
       "    </tr>\n",
       "    <tr>\n",
       "      <th>...</th>\n",
       "      <td>...</td>\n",
       "      <td>...</td>\n",
       "      <td>...</td>\n",
       "      <td>...</td>\n",
       "      <td>...</td>\n",
       "      <td>...</td>\n",
       "      <td>...</td>\n",
       "      <td>...</td>\n",
       "      <td>...</td>\n",
       "      <td>...</td>\n",
       "    </tr>\n",
       "    <tr>\n",
       "      <th>349</th>\n",
       "      <td>13.117191</td>\n",
       "      <td>10.183197</td>\n",
       "      <td>9.118045</td>\n",
       "      <td>8.524292</td>\n",
       "      <td>8.130228</td>\n",
       "      <td>7.842630</td>\n",
       "      <td>7.619718</td>\n",
       "      <td>7.439566</td>\n",
       "      <td>7.289400</td>\n",
       "      <td>7.161206</td>\n",
       "    </tr>\n",
       "    <tr>\n",
       "      <th>350</th>\n",
       "      <td>-2.450364</td>\n",
       "      <td>-4.253522</td>\n",
       "      <td>-4.699788</td>\n",
       "      <td>-4.922445</td>\n",
       "      <td>-5.058629</td>\n",
       "      <td>-5.152089</td>\n",
       "      <td>-5.221135</td>\n",
       "      <td>-5.274798</td>\n",
       "      <td>-5.318065</td>\n",
       "      <td>-5.353928</td>\n",
       "    </tr>\n",
       "    <tr>\n",
       "      <th>351</th>\n",
       "      <td>0.088068</td>\n",
       "      <td>1.292173</td>\n",
       "      <td>1.704154</td>\n",
       "      <td>1.946298</td>\n",
       "      <td>2.114743</td>\n",
       "      <td>2.242192</td>\n",
       "      <td>2.343410</td>\n",
       "      <td>2.426312</td>\n",
       "      <td>2.495659</td>\n",
       "      <td>2.554560</td>\n",
       "    </tr>\n",
       "    <tr>\n",
       "      <th>352</th>\n",
       "      <td>-9.803939</td>\n",
       "      <td>-9.505144</td>\n",
       "      <td>-9.440008</td>\n",
       "      <td>-9.418071</td>\n",
       "      <td>-9.407268</td>\n",
       "      <td>-9.398968</td>\n",
       "      <td>-9.390396</td>\n",
       "      <td>-9.380650</td>\n",
       "      <td>-9.369510</td>\n",
       "      <td>-9.357012</td>\n",
       "    </tr>\n",
       "    <tr>\n",
       "      <th>353</th>\n",
       "      <td>-13.762273</td>\n",
       "      <td>-3.865743</td>\n",
       "      <td>-1.135675</td>\n",
       "      <td>0.103226</td>\n",
       "      <td>0.784470</td>\n",
       "      <td>1.197518</td>\n",
       "      <td>1.461438</td>\n",
       "      <td>1.634191</td>\n",
       "      <td>1.747379</td>\n",
       "      <td>1.819698</td>\n",
       "    </tr>\n",
       "  </tbody>\n",
       "</table>\n",
       "<p>354 rows × 10 columns</p>\n",
       "</div>"
      ],
      "text/plain": [
       "             0          1         2         3         4         5         6  \\\n",
       "0    11.361649   8.702176  7.864217  7.445245  7.191854  7.020763  6.896396   \n",
       "1     5.448356   5.779545  5.883131  5.936753  5.964398  5.976889  5.980011   \n",
       "2     4.072377   4.994944  5.165460  5.176272  5.143813  5.099367  5.053205   \n",
       "3    -3.549215  -3.906073 -4.117534 -4.228332 -4.300640 -4.354168 -4.397027   \n",
       "4    -3.833538  -5.756266 -6.370299 -6.688030 -6.885720 -7.021699 -7.121236   \n",
       "..         ...        ...       ...       ...       ...       ...       ...   \n",
       "349  13.117191  10.183197  9.118045  8.524292  8.130228  7.842630  7.619718   \n",
       "350  -2.450364  -4.253522 -4.699788 -4.922445 -5.058629 -5.152089 -5.221135   \n",
       "351   0.088068   1.292173  1.704154  1.946298  2.114743  2.242192  2.343410   \n",
       "352  -9.803939  -9.505144 -9.440008 -9.418071 -9.407268 -9.398968 -9.390396   \n",
       "353 -13.762273  -3.865743 -1.135675  0.103226  0.784470  1.197518  1.461438   \n",
       "\n",
       "            7         8         9  \n",
       "0    6.800993  6.724714  6.661686  \n",
       "1    5.977148  5.970395  5.961098  \n",
       "2    5.008940  4.967765  4.929930  \n",
       "3   -4.433151 -4.464676 -4.492869  \n",
       "4   -7.197209 -7.256940 -7.304932  \n",
       "..        ...       ...       ...  \n",
       "349  7.439566  7.289400  7.161206  \n",
       "350 -5.274798 -5.318065 -5.353928  \n",
       "351  2.426312  2.495659  2.554560  \n",
       "352 -9.380650 -9.369510 -9.357012  \n",
       "353  1.634191  1.747379  1.819698  \n",
       "\n",
       "[354 rows x 10 columns]"
      ]
     },
     "execution_count": 31,
     "metadata": {},
     "output_type": "execute_result"
    },
    {
     "data": {
      "text/plain": [
       "array([-0.02835224, -0.02077202, -0.01865564, -0.01739125, -0.01647812,\n",
       "       -0.01575738, -0.015158  , -0.01464199, -0.0141867 , -0.01377757])"
      ]
     },
     "execution_count": 31,
     "metadata": {},
     "output_type": "execute_result"
    },
    {
     "data": {
      "text/plain": [
       "1"
      ]
     },
     "execution_count": 31,
     "metadata": {},
     "output_type": "execute_result"
    }
   ],
   "source": [
    "reg_2 = RidgeCV(\n",
    "  alphas = np.arange(1, 1001, 100),\n",
    "  scoring = 'r2',\n",
    "  store_cv_values = True # 是否保存每次验证结果\n",
    ").fit(Xtrain, Ytrain)\n",
    "\n",
    "# 没有交叉验证的岭回归模型的参数w的结果\n",
    "reg_1.score(Xtest, Ytest)\n",
    "\n",
    "# 带有10折交叉验证的岭回归模型的参数w的结果\n",
    "reg_2.score(Xtest, Ytest)\n",
    "\n",
    "# 查看所有10折交叉验证的结果 - 误差值\n",
    "pd.DataFrame(reg_2.cv_values_)\n",
    "\n",
    "# 10折交叉验证的测试误差的结果可以进一步求其均值\n",
    "reg_2.cv_values_.mean(axis = 0)\n",
    "\n",
    "# 可以选出经过k折交叉验证后所得的最佳正则化系数\n",
    "reg_2.alpha_"
   ]
  }
 ],
 "metadata": {
  "kernelspec": {
   "display_name": "BigDataMiningVenvsForPython38",
   "language": "python",
   "name": "python3"
  },
  "language_info": {
   "codemirror_mode": {
    "name": "ipython",
    "version": 3
   },
   "file_extension": ".py",
   "mimetype": "text/x-python",
   "name": "python",
   "nbconvert_exporter": "python",
   "pygments_lexer": "ipython3",
   "version": "3.8.13"
  },
  "orig_nbformat": 4
 },
 "nbformat": 4,
 "nbformat_minor": 2
}
