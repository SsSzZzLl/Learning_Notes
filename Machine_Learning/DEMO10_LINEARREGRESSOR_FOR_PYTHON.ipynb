{
 "cells": [
  {
   "cell_type": "code",
   "execution_count": 15,
   "metadata": {},
   "outputs": [],
   "source": [
    "# 导入依赖项\n",
    "import numpy as np\n",
    "import pandas as pd\n",
    "import matplotlib.pyplot as plt"
   ]
  },
  {
   "cell_type": "code",
   "execution_count": 16,
   "metadata": {},
   "outputs": [
    {
     "data": {
      "text/plain": [
       "array([[1, 2],\n",
       "       [3, 4]])"
      ]
     },
     "execution_count": 16,
     "metadata": {},
     "output_type": "execute_result"
    }
   ],
   "source": [
    "# 创建一个ndarray数组\n",
    "arr = np.array([[1, 2], [3, 4]])\n",
    "arr"
   ]
  },
  {
   "cell_type": "code",
   "execution_count": 17,
   "metadata": {},
   "outputs": [
    {
     "data": {
      "text/plain": [
       "matrix([[1, 2],\n",
       "        [3, 4]])"
      ]
     },
     "execution_count": 17,
     "metadata": {},
     "output_type": "execute_result"
    }
   ],
   "source": [
    "# 创建一个矩阵 - 在numpy中创建矩阵需要使用mat函数，该函数需要输入一个二维的ndarray数组\n",
    "m = np.mat(arr)\n",
    "m"
   ]
  },
  {
   "cell_type": "code",
   "execution_count": 18,
   "metadata": {},
   "outputs": [
    {
     "data": {
      "text/plain": [
       "matrix([[1, 3],\n",
       "        [2, 4]])"
      ]
     },
     "execution_count": 18,
     "metadata": {},
     "output_type": "execute_result"
    }
   ],
   "source": [
    "# 矩阵的转置\n",
    "m.T"
   ]
  },
  {
   "cell_type": "code",
   "execution_count": 19,
   "metadata": {},
   "outputs": [
    {
     "data": {
      "text/plain": [
       "matrix([[ 7, 10],\n",
       "        [15, 22]])"
      ]
     },
     "execution_count": 19,
     "metadata": {},
     "output_type": "execute_result"
    }
   ],
   "source": [
    "# 矩阵的乘法\n",
    "m * m"
   ]
  },
  {
   "cell_type": "code",
   "execution_count": 20,
   "metadata": {},
   "outputs": [
    {
     "data": {
      "text/plain": [
       "-2.0000000000000004"
      ]
     },
     "execution_count": 20,
     "metadata": {},
     "output_type": "execute_result"
    }
   ],
   "source": [
    "# 获取当前方阵的行列式\n",
    "np.linalg.det(m)"
   ]
  },
  {
   "cell_type": "code",
   "execution_count": 21,
   "metadata": {},
   "outputs": [
    {
     "data": {
      "text/plain": [
       "matrix([[-2. ,  1. ],\n",
       "        [ 1.5, -0.5]])"
      ]
     },
     "execution_count": 21,
     "metadata": {},
     "output_type": "execute_result"
    }
   ],
   "source": [
    "# 求解方阵的逆矩阵\n",
    "m.I"
   ]
  },
  {
   "cell_type": "code",
   "execution_count": 22,
   "metadata": {},
   "outputs": [],
   "source": [
    "# 手撕线性回归算法第一步：实现线性回归模型\n",
    "def linearRegressorModels(dataset):\n",
    "  \n",
    "  '''\n",
    "    构建线性回归模型\n",
    "  '''\n",
    "  \n",
    "  # 1.从数据集中提取特征，构建为一个二维的矩阵\n",
    "  xMat = np.mat(dataset.iloc[:, : -1].values)\n",
    "  \n",
    "  # 2.从数据集中提取标签 - 注意：在取标签的时候，是一个行向量，为了方便后续使用，需要转置为一个列向量\n",
    "  yMat = np.mat(dataset.iloc[:, -1  ].values).T\n",
    "  \n",
    "  # 3.先计算xTx这个n阶方阵\n",
    "  xTx = xMat.T * xMat\n",
    "  \n",
    "  # 对于n阶方阵而言，其方阵的逆矩阵是否存在的充分必要条件是方阵的行列式是否为0\n",
    "  if np.linalg.det(xTx) == 0:\n",
    "    print(\"矩阵的行列式为0，无法求逆，请检查数据集\")\n",
    "    return\n",
    "  \n",
    "  return xTx.I * (xMat.T * yMat)\n"
   ]
  },
  {
   "cell_type": "code",
   "execution_count": 23,
   "metadata": {},
   "outputs": [
    {
     "data": {
      "text/html": [
       "<div>\n",
       "<style scoped>\n",
       "    .dataframe tbody tr th:only-of-type {\n",
       "        vertical-align: middle;\n",
       "    }\n",
       "\n",
       "    .dataframe tbody tr th {\n",
       "        vertical-align: top;\n",
       "    }\n",
       "\n",
       "    .dataframe thead th {\n",
       "        text-align: right;\n",
       "    }\n",
       "</style>\n",
       "<table border=\"1\" class=\"dataframe\">\n",
       "  <thead>\n",
       "    <tr style=\"text-align: right;\">\n",
       "      <th></th>\n",
       "      <th>inercept</th>\n",
       "      <th>features_1</th>\n",
       "      <th>target</th>\n",
       "    </tr>\n",
       "  </thead>\n",
       "  <tbody>\n",
       "    <tr>\n",
       "      <th>0</th>\n",
       "      <td>1.0</td>\n",
       "      <td>3.482346</td>\n",
       "      <td>4.051805</td>\n",
       "    </tr>\n",
       "    <tr>\n",
       "      <th>1</th>\n",
       "      <td>1.0</td>\n",
       "      <td>1.430697</td>\n",
       "      <td>-1.974165</td>\n",
       "    </tr>\n",
       "    <tr>\n",
       "      <th>2</th>\n",
       "      <td>1.0</td>\n",
       "      <td>1.134257</td>\n",
       "      <td>-1.581280</td>\n",
       "    </tr>\n",
       "    <tr>\n",
       "      <th>3</th>\n",
       "      <td>1.0</td>\n",
       "      <td>2.756574</td>\n",
       "      <td>-0.754204</td>\n",
       "    </tr>\n",
       "    <tr>\n",
       "      <th>4</th>\n",
       "      <td>1.0</td>\n",
       "      <td>3.597345</td>\n",
       "      <td>2.375725</td>\n",
       "    </tr>\n",
       "    <tr>\n",
       "      <th>...</th>\n",
       "      <td>...</td>\n",
       "      <td>...</td>\n",
       "      <td>...</td>\n",
       "    </tr>\n",
       "    <tr>\n",
       "      <th>95</th>\n",
       "      <td>1.0</td>\n",
       "      <td>3.458509</td>\n",
       "      <td>1.558082</td>\n",
       "    </tr>\n",
       "    <tr>\n",
       "      <th>96</th>\n",
       "      <td>1.0</td>\n",
       "      <td>0.755637</td>\n",
       "      <td>-4.037368</td>\n",
       "    </tr>\n",
       "    <tr>\n",
       "      <th>97</th>\n",
       "      <td>1.0</td>\n",
       "      <td>1.994381</td>\n",
       "      <td>-3.568292</td>\n",
       "    </tr>\n",
       "    <tr>\n",
       "      <th>98</th>\n",
       "      <td>1.0</td>\n",
       "      <td>1.204279</td>\n",
       "      <td>-3.140361</td>\n",
       "    </tr>\n",
       "    <tr>\n",
       "      <th>99</th>\n",
       "      <td>1.0</td>\n",
       "      <td>1.717280</td>\n",
       "      <td>-2.543498</td>\n",
       "    </tr>\n",
       "  </tbody>\n",
       "</table>\n",
       "<p>100 rows × 3 columns</p>\n",
       "</div>"
      ],
      "text/plain": [
       "    inercept  features_1    target\n",
       "0        1.0    3.482346  4.051805\n",
       "1        1.0    1.430697 -1.974165\n",
       "2        1.0    1.134257 -1.581280\n",
       "3        1.0    2.756574 -0.754204\n",
       "4        1.0    3.597345  2.375725\n",
       "..       ...         ...       ...\n",
       "95       1.0    3.458509  1.558082\n",
       "96       1.0    0.755637 -4.037368\n",
       "97       1.0    1.994381 -3.568292\n",
       "98       1.0    1.204279 -3.140361\n",
       "99       1.0    1.717280 -2.543498\n",
       "\n",
       "[100 rows x 3 columns]"
      ]
     },
     "execution_count": 23,
     "metadata": {},
     "output_type": "execute_result"
    }
   ],
   "source": [
    "# 测试\n",
    "\n",
    "# 设置随机种子\n",
    "randoms = np.random.RandomState(123)\n",
    "\n",
    "#生成100个0-5之间的随机数\n",
    "x = 5 * randoms.rand(100)\n",
    "\n",
    "# 生成真实规律的标签值\n",
    "y = 2 * x - 5 + randoms.randn(100)\n",
    "\n",
    "# 构造一个dataframe\n",
    "x = pd.DataFrame(x)\n",
    "y = pd.DataFrame(y)\n",
    "\n",
    "# x还需要添加一个全为1的列，表示截距\n",
    "col_1 = pd.DataFrame(np.ones([100, 1]))\n",
    "\n",
    "# 最终按轴一方向，拼接得到最终的数据集\n",
    "data = pd.concat([col_1, x, y], axis=1)\n",
    "data.columns = ['inercept', 'features_1', 'target']\n",
    "data"
   ]
  },
  {
   "cell_type": "code",
   "execution_count": 24,
   "metadata": {},
   "outputs": [
    {
     "data": {
      "text/plain": [
       "matrix([[-4.83005255],\n",
       "        [ 1.9461907 ]])"
      ]
     },
     "execution_count": 24,
     "metadata": {},
     "output_type": "execute_result"
    }
   ],
   "source": [
    "# 输入数据集，完成线性回归模型的训练\n",
    "w_result = linearRegressorModels(data)\n",
    "w_result"
   ]
  },
  {
   "cell_type": "code",
   "execution_count": 28,
   "metadata": {},
   "outputs": [
    {
     "data": {
      "text/plain": [
       "[<matplotlib.lines.Line2D at 0x1f77d7682b0>]"
      ]
     },
     "execution_count": 28,
     "metadata": {},
     "output_type": "execute_result"
    },
    {
     "data": {
      "image/png": "[encoded data removed]",
      "text/plain": [
       "<Figure size 640x480 with 1 Axes>"
      ]
     },
     "metadata": {},
     "output_type": "display_data"
    }
   ],
   "source": [
    "# 可视化\n",
    "\n",
    "# 先获取预测结果\n",
    "y_pred = data.iloc[:, :-1].values * w_result # 决策函数的推理\n",
    "\n",
    "plt.plot(data.iloc[:, 1], data.iloc[:, 2], 'o') # 绘制原始数据样本的散点图\n",
    "plt.plot(data.iloc[:, 1], y_pred) # 绘制一元线性回归的拟合直线"
   ]
  },
  {
   "cell_type": "code",
   "execution_count": 36,
   "metadata": {},
   "outputs": [],
   "source": [
    "# 实现SSE残差平方和模型评估指标\n",
    "def SSE_cal(dataset, regres):\n",
    "  \n",
    "  '''\n",
    "    计算SSE残差平方和模型评估指标\n",
    "  '''\n",
    "  \n",
    "  # 1.先获取标签的观察值\n",
    "  y = dataset.iloc[:, -1].values\n",
    "  \n",
    "  # 2.算出参数列向量w\n",
    "  w = regres(dataset)\n",
    "  \n",
    "  # 3.获取标签的预测结果 - 结果整体转置\n",
    "  y_pred = (dataset.iloc[:, :-1].values * w).flatten()\n",
    "  \n",
    "  return np.power(y_pred - y, 2).sum()  "
   ]
  },
  {
   "cell_type": "code",
   "execution_count": 37,
   "metadata": {},
   "outputs": [],
   "source": [
    "# 实现判定系数R^2模型评估指标\n",
    "def r2_Square(dataset, regres):\n",
    "  \n",
    "  '''\n",
    "    计算R^2判断系数\n",
    "  '''\n",
    "  \n",
    "  # 1.先计算SSE残差平方和\n",
    "  sse = SSE_cal(dataset, regres)\n",
    "  \n",
    "  # 2.获取标签的观察值\n",
    "  y = dataset.iloc[:, -1].values\n",
    "\n",
    "  # 3.计算观测均值差总平方和\n",
    "  sst = np.power(y - y.mean(), 2).sum()\n",
    "  \n",
    "  return 1 - sse / sst\n",
    "  \n",
    "  "
   ]
  },
  {
   "cell_type": "code",
   "execution_count": 38,
   "metadata": {},
   "outputs": [
    {
     "data": {
      "text/plain": [
       "0.8562539554691503"
      ]
     },
     "execution_count": 38,
     "metadata": {},
     "output_type": "execute_result"
    }
   ],
   "source": [
    "r2_Square(data, linearRegressorModels)"
   ]
  },
  {
   "cell_type": "code",
   "execution_count": null,
   "metadata": {},
   "outputs": [],
   "source": []
  },
  {
   "cell_type": "code",
   "execution_count": null,
   "metadata": {},
   "outputs": [],
   "source": []
  },
  {
   "cell_type": "code",
   "execution_count": null,
   "metadata": {},
   "outputs": [],
   "source": []
  }
 ],
 "metadata": {
  "kernelspec": {
   "display_name": "BigDataMiningVenvsForPython38",
   "language": "python",
   "name": "python3"
  },
  "language_info": {
   "codemirror_mode": {
    "name": "ipython",
    "version": 3
   },
   "file_extension": ".py",
   "mimetype": "text/x-python",
   "name": "python",
   "nbconvert_exporter": "python",
   "pygments_lexer": "ipython3",
   "version": "3.8.13"
  },
  "orig_nbformat": 4
 },
 "nbformat": 4,
 "nbformat_minor": 2
}
