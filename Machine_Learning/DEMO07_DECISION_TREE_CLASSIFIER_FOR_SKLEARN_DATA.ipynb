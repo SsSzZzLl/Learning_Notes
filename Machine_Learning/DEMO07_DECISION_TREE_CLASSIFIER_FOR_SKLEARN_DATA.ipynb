{
 "cells": [
  {
   "cell_type": "code",
   "execution_count": 8,
   "metadata": {},
   "outputs": [],
   "source": [
    "# 导包\n",
    "import numpy as np\n",
    "import pandas as pd\n",
    "import matplotlib.pyplot as plt\n",
    "\n",
    "# 导入CART分类树模型对象\n",
    "from sklearn.tree import DecisionTreeClassifier, export_graphviz\n",
    "\n",
    "# 导入红酒数据集\n",
    "from sklearn.datasets import load_wine\n",
    "\n",
    "# 导入数据集划分对象\n",
    "from sklearn.model_selection import train_test_split\n",
    "\n",
    "# 导入分类模型的评估指标accuracy_score\n",
    "from sklearn.metrics import accuracy_score\n",
    "\n",
    "# 导入graphviz工具依赖项\n",
    "import graphviz\n",
    "\n",
    "from IPython.core.interactiveshell import InteractiveShell # 这个对象设置所有行全部输出\n",
    "  \n",
    "# 设置该对象ast_node_interactivity的属性值为all，表示notebook下每一行有输出的代码全部输出运算结果\n",
    "InteractiveShell.ast_node_interactivity = \"all\"\n",
    "\n",
    "# 解决坐标轴刻度负号乱码\n",
    "plt.rcParams['axes.unicode_minus'] = False\n",
    "\n",
    "# 解决中文乱码问题\n",
    "plt.rcParams['font.sans-serif'] = ['Simhei']\n",
    "plt.style.use('ggplot')\n",
    "\n"
   ]
  },
  {
   "cell_type": "code",
   "execution_count": 9,
   "metadata": {},
   "outputs": [
    {
     "data": {
      "text/html": [
       "<div>\n",
       "<style scoped>\n",
       "    .dataframe tbody tr th:only-of-type {\n",
       "        vertical-align: middle;\n",
       "    }\n",
       "\n",
       "    .dataframe tbody tr th {\n",
       "        vertical-align: top;\n",
       "    }\n",
       "\n",
       "    .dataframe thead th {\n",
       "        text-align: right;\n",
       "    }\n",
       "</style>\n",
       "<table border=\"1\" class=\"dataframe\">\n",
       "  <thead>\n",
       "    <tr style=\"text-align: right;\">\n",
       "      <th></th>\n",
       "      <th>alcohol</th>\n",
       "      <th>malic_acid</th>\n",
       "      <th>ash</th>\n",
       "      <th>alcalinity_of_ash</th>\n",
       "      <th>magnesium</th>\n",
       "      <th>total_phenols</th>\n",
       "      <th>flavanoids</th>\n",
       "      <th>nonflavanoid_phenols</th>\n",
       "      <th>proanthocyanins</th>\n",
       "      <th>color_intensity</th>\n",
       "      <th>hue</th>\n",
       "      <th>od280/od315_of_diluted_wines</th>\n",
       "      <th>proline</th>\n",
       "    </tr>\n",
       "  </thead>\n",
       "  <tbody>\n",
       "    <tr>\n",
       "      <th>0</th>\n",
       "      <td>14.23</td>\n",
       "      <td>1.71</td>\n",
       "      <td>2.43</td>\n",
       "      <td>15.6</td>\n",
       "      <td>127.0</td>\n",
       "      <td>2.80</td>\n",
       "      <td>3.06</td>\n",
       "      <td>0.28</td>\n",
       "      <td>2.29</td>\n",
       "      <td>5.64</td>\n",
       "      <td>1.04</td>\n",
       "      <td>3.92</td>\n",
       "      <td>1065.0</td>\n",
       "    </tr>\n",
       "    <tr>\n",
       "      <th>1</th>\n",
       "      <td>13.20</td>\n",
       "      <td>1.78</td>\n",
       "      <td>2.14</td>\n",
       "      <td>11.2</td>\n",
       "      <td>100.0</td>\n",
       "      <td>2.65</td>\n",
       "      <td>2.76</td>\n",
       "      <td>0.26</td>\n",
       "      <td>1.28</td>\n",
       "      <td>4.38</td>\n",
       "      <td>1.05</td>\n",
       "      <td>3.40</td>\n",
       "      <td>1050.0</td>\n",
       "    </tr>\n",
       "    <tr>\n",
       "      <th>2</th>\n",
       "      <td>13.16</td>\n",
       "      <td>2.36</td>\n",
       "      <td>2.67</td>\n",
       "      <td>18.6</td>\n",
       "      <td>101.0</td>\n",
       "      <td>2.80</td>\n",
       "      <td>3.24</td>\n",
       "      <td>0.30</td>\n",
       "      <td>2.81</td>\n",
       "      <td>5.68</td>\n",
       "      <td>1.03</td>\n",
       "      <td>3.17</td>\n",
       "      <td>1185.0</td>\n",
       "    </tr>\n",
       "    <tr>\n",
       "      <th>3</th>\n",
       "      <td>14.37</td>\n",
       "      <td>1.95</td>\n",
       "      <td>2.50</td>\n",
       "      <td>16.8</td>\n",
       "      <td>113.0</td>\n",
       "      <td>3.85</td>\n",
       "      <td>3.49</td>\n",
       "      <td>0.24</td>\n",
       "      <td>2.18</td>\n",
       "      <td>7.80</td>\n",
       "      <td>0.86</td>\n",
       "      <td>3.45</td>\n",
       "      <td>1480.0</td>\n",
       "    </tr>\n",
       "    <tr>\n",
       "      <th>4</th>\n",
       "      <td>13.24</td>\n",
       "      <td>2.59</td>\n",
       "      <td>2.87</td>\n",
       "      <td>21.0</td>\n",
       "      <td>118.0</td>\n",
       "      <td>2.80</td>\n",
       "      <td>2.69</td>\n",
       "      <td>0.39</td>\n",
       "      <td>1.82</td>\n",
       "      <td>4.32</td>\n",
       "      <td>1.04</td>\n",
       "      <td>2.93</td>\n",
       "      <td>735.0</td>\n",
       "    </tr>\n",
       "    <tr>\n",
       "      <th>...</th>\n",
       "      <td>...</td>\n",
       "      <td>...</td>\n",
       "      <td>...</td>\n",
       "      <td>...</td>\n",
       "      <td>...</td>\n",
       "      <td>...</td>\n",
       "      <td>...</td>\n",
       "      <td>...</td>\n",
       "      <td>...</td>\n",
       "      <td>...</td>\n",
       "      <td>...</td>\n",
       "      <td>...</td>\n",
       "      <td>...</td>\n",
       "    </tr>\n",
       "    <tr>\n",
       "      <th>173</th>\n",
       "      <td>13.71</td>\n",
       "      <td>5.65</td>\n",
       "      <td>2.45</td>\n",
       "      <td>20.5</td>\n",
       "      <td>95.0</td>\n",
       "      <td>1.68</td>\n",
       "      <td>0.61</td>\n",
       "      <td>0.52</td>\n",
       "      <td>1.06</td>\n",
       "      <td>7.70</td>\n",
       "      <td>0.64</td>\n",
       "      <td>1.74</td>\n",
       "      <td>740.0</td>\n",
       "    </tr>\n",
       "    <tr>\n",
       "      <th>174</th>\n",
       "      <td>13.40</td>\n",
       "      <td>3.91</td>\n",
       "      <td>2.48</td>\n",
       "      <td>23.0</td>\n",
       "      <td>102.0</td>\n",
       "      <td>1.80</td>\n",
       "      <td>0.75</td>\n",
       "      <td>0.43</td>\n",
       "      <td>1.41</td>\n",
       "      <td>7.30</td>\n",
       "      <td>0.70</td>\n",
       "      <td>1.56</td>\n",
       "      <td>750.0</td>\n",
       "    </tr>\n",
       "    <tr>\n",
       "      <th>175</th>\n",
       "      <td>13.27</td>\n",
       "      <td>4.28</td>\n",
       "      <td>2.26</td>\n",
       "      <td>20.0</td>\n",
       "      <td>120.0</td>\n",
       "      <td>1.59</td>\n",
       "      <td>0.69</td>\n",
       "      <td>0.43</td>\n",
       "      <td>1.35</td>\n",
       "      <td>10.20</td>\n",
       "      <td>0.59</td>\n",
       "      <td>1.56</td>\n",
       "      <td>835.0</td>\n",
       "    </tr>\n",
       "    <tr>\n",
       "      <th>176</th>\n",
       "      <td>13.17</td>\n",
       "      <td>2.59</td>\n",
       "      <td>2.37</td>\n",
       "      <td>20.0</td>\n",
       "      <td>120.0</td>\n",
       "      <td>1.65</td>\n",
       "      <td>0.68</td>\n",
       "      <td>0.53</td>\n",
       "      <td>1.46</td>\n",
       "      <td>9.30</td>\n",
       "      <td>0.60</td>\n",
       "      <td>1.62</td>\n",
       "      <td>840.0</td>\n",
       "    </tr>\n",
       "    <tr>\n",
       "      <th>177</th>\n",
       "      <td>14.13</td>\n",
       "      <td>4.10</td>\n",
       "      <td>2.74</td>\n",
       "      <td>24.5</td>\n",
       "      <td>96.0</td>\n",
       "      <td>2.05</td>\n",
       "      <td>0.76</td>\n",
       "      <td>0.56</td>\n",
       "      <td>1.35</td>\n",
       "      <td>9.20</td>\n",
       "      <td>0.61</td>\n",
       "      <td>1.60</td>\n",
       "      <td>560.0</td>\n",
       "    </tr>\n",
       "  </tbody>\n",
       "</table>\n",
       "<p>178 rows × 13 columns</p>\n",
       "</div>"
      ],
      "text/plain": [
       "     alcohol  malic_acid   ash  alcalinity_of_ash  magnesium  total_phenols  \\\n",
       "0      14.23        1.71  2.43               15.6      127.0           2.80   \n",
       "1      13.20        1.78  2.14               11.2      100.0           2.65   \n",
       "2      13.16        2.36  2.67               18.6      101.0           2.80   \n",
       "3      14.37        1.95  2.50               16.8      113.0           3.85   \n",
       "4      13.24        2.59  2.87               21.0      118.0           2.80   \n",
       "..       ...         ...   ...                ...        ...            ...   \n",
       "173    13.71        5.65  2.45               20.5       95.0           1.68   \n",
       "174    13.40        3.91  2.48               23.0      102.0           1.80   \n",
       "175    13.27        4.28  2.26               20.0      120.0           1.59   \n",
       "176    13.17        2.59  2.37               20.0      120.0           1.65   \n",
       "177    14.13        4.10  2.74               24.5       96.0           2.05   \n",
       "\n",
       "     flavanoids  nonflavanoid_phenols  proanthocyanins  color_intensity   hue  \\\n",
       "0          3.06                  0.28             2.29             5.64  1.04   \n",
       "1          2.76                  0.26             1.28             4.38  1.05   \n",
       "2          3.24                  0.30             2.81             5.68  1.03   \n",
       "3          3.49                  0.24             2.18             7.80  0.86   \n",
       "4          2.69                  0.39             1.82             4.32  1.04   \n",
       "..          ...                   ...              ...              ...   ...   \n",
       "173        0.61                  0.52             1.06             7.70  0.64   \n",
       "174        0.75                  0.43             1.41             7.30  0.70   \n",
       "175        0.69                  0.43             1.35            10.20  0.59   \n",
       "176        0.68                  0.53             1.46             9.30  0.60   \n",
       "177        0.76                  0.56             1.35             9.20  0.61   \n",
       "\n",
       "     od280/od315_of_diluted_wines  proline  \n",
       "0                            3.92   1065.0  \n",
       "1                            3.40   1050.0  \n",
       "2                            3.17   1185.0  \n",
       "3                            3.45   1480.0  \n",
       "4                            2.93    735.0  \n",
       "..                            ...      ...  \n",
       "173                          1.74    740.0  \n",
       "174                          1.56    750.0  \n",
       "175                          1.56    835.0  \n",
       "176                          1.62    840.0  \n",
       "177                          1.60    560.0  \n",
       "\n",
       "[178 rows x 13 columns]"
      ]
     },
     "execution_count": 9,
     "metadata": {},
     "output_type": "execute_result"
    },
    {
     "data": {
      "text/plain": [
       "1    71\n",
       "0    59\n",
       "2    48\n",
       "Name: count, dtype: int64"
      ]
     },
     "execution_count": 9,
     "metadata": {},
     "output_type": "execute_result"
    },
    {
     "data": {
      "text/plain": [
       "(178, 13)"
      ]
     },
     "execution_count": 9,
     "metadata": {},
     "output_type": "execute_result"
    }
   ],
   "source": [
    "# 加载数据\n",
    "dataset = load_wine()\n",
    "x = dataset.data\n",
    "y = dataset.target\n",
    "\n",
    "pd.DataFrame(x, columns = dataset.feature_names)\n",
    "\n",
    "pd.DataFrame(y).value_counts()\n",
    "\n",
    "x.shape"
   ]
  },
  {
   "cell_type": "code",
   "execution_count": 10,
   "metadata": {},
   "outputs": [],
   "source": [
    "# 划分数据集\n",
    "Xtrain, Xtest, Ytrain, Ytest = train_test_split(x, y, test_size=0.3, random_state=123)"
   ]
  },
  {
   "cell_type": "code",
   "execution_count": 20,
   "metadata": {},
   "outputs": [
    {
     "data": {
      "text/plain": [
       "0.8888888888888888"
      ]
     },
     "execution_count": 20,
     "metadata": {},
     "output_type": "execute_result"
    }
   ],
   "source": [
    "# 构建CART分类器模型对象\n",
    "clf = DecisionTreeClassifier(\n",
    "  criterion = 'gini',\n",
    "  random_state = 123,\n",
    "  # splitter = 'beat'\n",
    "  max_depth = 2,\n",
    "  min_samples_leaf = 2,\n",
    "  min_samples_split = 10\n",
    "  \n",
    ")\n",
    "\n",
    "# 完成模型训练\n",
    "clf = clf.fit(Xtrain, Ytrain)\n",
    "\n",
    "# 测试集预测结果\n",
    "y_pred = clf.predict(Xtest)\n",
    "\n",
    "# 使用accuracy_score评估预测的准确率\n",
    "accuracy_score(y_pred, Ytest)\n"
   ]
  },
  {
   "cell_type": "code",
   "execution_count": 12,
   "metadata": {},
   "outputs": [
    {
     "data": {
      "image/svg+xml": "<?xml version=\"1.0\" encoding=\"UTF-8\" standalone=\"no\"?>\n<!DOCTYPE svg PUBLIC \"-//W3C//DTD SVG 1.1//EN\"\n \"http://www.w3.org/Graphics/SVG/1.1/DTD/svg11.dtd\">\n<!-- Generated by graphviz version 2.50.0 (0)\n -->\n<!-- Title: Tree Pages: 1 -->\n<svg width=\"834pt\" height=\"433pt\"\n viewBox=\"0.00 0.00 834.00 433.00\" xmlns=\"http://www.w3.org/2000/svg\" xmlns:xlink=\"http://www.w3.org/1999/xlink\">\n<g id=\"graph0\" class=\"graph\" transform=\"scale(1 1) rotate(0) translate(4 429)\">\n<title>Tree</title>\n<polygon fill=\"white\" stroke=\"transparent\" points=\"-4,4 -4,-429 830,-429 830,4 -4,4\"/>\n<!-- 0 -->\n<g id=\"node1\" class=\"node\">\n<title>0</title>\n<path fill=\"#ebfcf2\" stroke=\"black\" d=\"M484,-425C484,-425 376,-425 376,-425 370,-425 364,-419 364,-413 364,-413 364,-354 364,-354 364,-348 370,-342 376,-342 376,-342 484,-342 484,-342 490,-342 496,-348 496,-354 496,-354 496,-413 496,-413 496,-419 490,-425 484,-425\"/>\n<text text-anchor=\"middle\" x=\"430\" y=\"-409.8\" font-family=\"Helvetica,sans-Serif\" font-size=\"14.00\">proline &lt;= 755.0</text>\n<text text-anchor=\"middle\" x=\"430\" y=\"-394.8\" font-family=\"Helvetica,sans-Serif\" font-size=\"14.00\">gini = 0.642</text>\n<text text-anchor=\"middle\" x=\"430\" y=\"-379.8\" font-family=\"Helvetica,sans-Serif\" font-size=\"14.00\">samples = 124</text>\n<text text-anchor=\"middle\" x=\"430\" y=\"-364.8\" font-family=\"Helvetica,sans-Serif\" font-size=\"14.00\">value = [45, 53, 26]</text>\n<text text-anchor=\"middle\" x=\"430\" y=\"-349.8\" font-family=\"Helvetica,sans-Serif\" font-size=\"14.00\">class = 0</text>\n</g>\n<!-- 1 -->\n<g id=\"node2\" class=\"node\">\n<title>1</title>\n<path fill=\"#98f2be\" stroke=\"black\" d=\"M440.5,-306C440.5,-306 203.5,-306 203.5,-306 197.5,-306 191.5,-300 191.5,-294 191.5,-294 191.5,-235 191.5,-235 191.5,-229 197.5,-223 203.5,-223 203.5,-223 440.5,-223 440.5,-223 446.5,-223 452.5,-229 452.5,-235 452.5,-235 452.5,-294 452.5,-294 452.5,-300 446.5,-306 440.5,-306\"/>\n<text text-anchor=\"middle\" x=\"322\" y=\"-290.8\" font-family=\"Helvetica,sans-Serif\" font-size=\"14.00\">od280/od315_of_diluted_wines &lt;= 1.985</text>\n<text text-anchor=\"middle\" x=\"322\" y=\"-275.8\" font-family=\"Helvetica,sans-Serif\" font-size=\"14.00\">gini = 0.461</text>\n<text text-anchor=\"middle\" x=\"322\" y=\"-260.8\" font-family=\"Helvetica,sans-Serif\" font-size=\"14.00\">samples = 75</text>\n<text text-anchor=\"middle\" x=\"322\" y=\"-245.8\" font-family=\"Helvetica,sans-Serif\" font-size=\"14.00\">value = [2, 50, 23]</text>\n<text text-anchor=\"middle\" x=\"322\" y=\"-230.8\" font-family=\"Helvetica,sans-Serif\" font-size=\"14.00\">class = 0</text>\n</g>\n<!-- 0&#45;&gt;1 -->\n<g id=\"edge1\" class=\"edge\">\n<title>0&#45;&gt;1</title>\n<path fill=\"none\" stroke=\"black\" d=\"M392.53,-341.91C384.07,-332.74 375.01,-322.93 366.3,-313.49\"/>\n<polygon fill=\"black\" stroke=\"black\" points=\"368.76,-310.99 359.4,-306.02 363.61,-315.74 368.76,-310.99\"/>\n<text text-anchor=\"middle\" x=\"358.4\" y=\"-327.3\" font-family=\"Helvetica,sans-Serif\" font-size=\"14.00\">True</text>\n</g>\n<!-- 8 -->\n<g id=\"node9\" class=\"node\">\n<title>8</title>\n<path fill=\"#e89153\" stroke=\"black\" d=\"M593.5,-306C593.5,-306 482.5,-306 482.5,-306 476.5,-306 470.5,-300 470.5,-294 470.5,-294 470.5,-235 470.5,-235 470.5,-229 476.5,-223 482.5,-223 482.5,-223 593.5,-223 593.5,-223 599.5,-223 605.5,-229 605.5,-235 605.5,-235 605.5,-294 605.5,-294 605.5,-300 599.5,-306 593.5,-306\"/>\n<text text-anchor=\"middle\" x=\"538\" y=\"-290.8\" font-family=\"Helvetica,sans-Serif\" font-size=\"14.00\">flavanoids &lt;= 2.165</text>\n<text text-anchor=\"middle\" x=\"538\" y=\"-275.8\" font-family=\"Helvetica,sans-Serif\" font-size=\"14.00\">gini = 0.222</text>\n<text text-anchor=\"middle\" x=\"538\" y=\"-260.8\" font-family=\"Helvetica,sans-Serif\" font-size=\"14.00\">samples = 49</text>\n<text text-anchor=\"middle\" x=\"538\" y=\"-245.8\" font-family=\"Helvetica,sans-Serif\" font-size=\"14.00\">value = [43, 3, 3]</text>\n<text text-anchor=\"middle\" x=\"538\" y=\"-230.8\" font-family=\"Helvetica,sans-Serif\" font-size=\"14.00\">class = 1</text>\n</g>\n<!-- 0&#45;&gt;8 -->\n<g id=\"edge8\" class=\"edge\">\n<title>0&#45;&gt;8</title>\n<path fill=\"none\" stroke=\"black\" d=\"M467.47,-341.91C475.93,-332.74 484.99,-322.93 493.7,-313.49\"/>\n<polygon fill=\"black\" stroke=\"black\" points=\"496.39,-315.74 500.6,-306.02 491.24,-310.99 496.39,-315.74\"/>\n<text text-anchor=\"middle\" x=\"501.6\" y=\"-327.3\" font-family=\"Helvetica,sans-Serif\" font-size=\"14.00\">False</text>\n</g>\n<!-- 2 -->\n<g id=\"node3\" class=\"node\">\n<title>2</title>\n<path fill=\"#9254e9\" stroke=\"black\" d=\"M254.5,-187C254.5,-187 105.5,-187 105.5,-187 99.5,-187 93.5,-181 93.5,-175 93.5,-175 93.5,-116 93.5,-116 93.5,-110 99.5,-104 105.5,-104 105.5,-104 254.5,-104 254.5,-104 260.5,-104 266.5,-110 266.5,-116 266.5,-116 266.5,-175 266.5,-175 266.5,-181 260.5,-187 254.5,-187\"/>\n<text text-anchor=\"middle\" x=\"180\" y=\"-171.8\" font-family=\"Helvetica,sans-Serif\" font-size=\"14.00\">proanthocyanins &lt;= 0.705</text>\n<text text-anchor=\"middle\" x=\"180\" y=\"-156.8\" font-family=\"Helvetica,sans-Serif\" font-size=\"14.00\">gini = 0.211</text>\n<text text-anchor=\"middle\" x=\"180\" y=\"-141.8\" font-family=\"Helvetica,sans-Serif\" font-size=\"14.00\">samples = 25</text>\n<text text-anchor=\"middle\" x=\"180\" y=\"-126.8\" font-family=\"Helvetica,sans-Serif\" font-size=\"14.00\">value = [0, 3, 22]</text>\n<text text-anchor=\"middle\" x=\"180\" y=\"-111.8\" font-family=\"Helvetica,sans-Serif\" font-size=\"14.00\">class = 2</text>\n</g>\n<!-- 1&#45;&gt;2 -->\n<g id=\"edge2\" class=\"edge\">\n<title>1&#45;&gt;2</title>\n<path fill=\"none\" stroke=\"black\" d=\"M272.73,-222.91C261.28,-213.47 248.99,-203.34 237.22,-193.65\"/>\n<polygon fill=\"black\" stroke=\"black\" points=\"239.12,-190.68 229.18,-187.02 234.67,-196.08 239.12,-190.68\"/>\n</g>\n<!-- 5 -->\n<g id=\"node6\" class=\"node\">\n<title>5</title>\n<path fill=\"#45e789\" stroke=\"black\" d=\"M389.5,-187C389.5,-187 296.5,-187 296.5,-187 290.5,-187 284.5,-181 284.5,-175 284.5,-175 284.5,-116 284.5,-116 284.5,-110 290.5,-104 296.5,-104 296.5,-104 389.5,-104 389.5,-104 395.5,-104 401.5,-110 401.5,-116 401.5,-116 401.5,-175 401.5,-175 401.5,-181 395.5,-187 389.5,-187\"/>\n<text text-anchor=\"middle\" x=\"343\" y=\"-171.8\" font-family=\"Helvetica,sans-Serif\" font-size=\"14.00\">alcohol &lt;= 13.08</text>\n<text text-anchor=\"middle\" x=\"343\" y=\"-156.8\" font-family=\"Helvetica,sans-Serif\" font-size=\"14.00\">gini = 0.114</text>\n<text text-anchor=\"middle\" x=\"343\" y=\"-141.8\" font-family=\"Helvetica,sans-Serif\" font-size=\"14.00\">samples = 50</text>\n<text text-anchor=\"middle\" x=\"343\" y=\"-126.8\" font-family=\"Helvetica,sans-Serif\" font-size=\"14.00\">value = [2, 47, 1]</text>\n<text text-anchor=\"middle\" x=\"343\" y=\"-111.8\" font-family=\"Helvetica,sans-Serif\" font-size=\"14.00\">class = 0</text>\n</g>\n<!-- 1&#45;&gt;5 -->\n<g id=\"edge5\" class=\"edge\">\n<title>1&#45;&gt;5</title>\n<path fill=\"none\" stroke=\"black\" d=\"M329.29,-222.91C330.78,-214.56 332.38,-205.67 333.93,-197.02\"/>\n<polygon fill=\"black\" stroke=\"black\" points=\"337.41,-197.48 335.73,-187.02 330.52,-196.25 337.41,-197.48\"/>\n</g>\n<!-- 3 -->\n<g id=\"node4\" class=\"node\">\n<title>3</title>\n<path fill=\"#bdf6d5\" stroke=\"black\" d=\"M98,-68C98,-68 12,-68 12,-68 6,-68 0,-62 0,-56 0,-56 0,-12 0,-12 0,-6 6,0 12,0 12,0 98,0 98,0 104,0 110,-6 110,-12 110,-12 110,-56 110,-56 110,-62 104,-68 98,-68\"/>\n<text text-anchor=\"middle\" x=\"55\" y=\"-52.8\" font-family=\"Helvetica,sans-Serif\" font-size=\"14.00\">gini = 0.48</text>\n<text text-anchor=\"middle\" x=\"55\" y=\"-37.8\" font-family=\"Helvetica,sans-Serif\" font-size=\"14.00\">samples = 5</text>\n<text text-anchor=\"middle\" x=\"55\" y=\"-22.8\" font-family=\"Helvetica,sans-Serif\" font-size=\"14.00\">value = [0, 3, 2]</text>\n<text text-anchor=\"middle\" x=\"55\" y=\"-7.8\" font-family=\"Helvetica,sans-Serif\" font-size=\"14.00\">class = 0</text>\n</g>\n<!-- 2&#45;&gt;3 -->\n<g id=\"edge3\" class=\"edge\">\n<title>2&#45;&gt;3</title>\n<path fill=\"none\" stroke=\"black\" d=\"M133.45,-103.73C122.73,-94.33 111.33,-84.35 100.65,-74.99\"/>\n<polygon fill=\"black\" stroke=\"black\" points=\"102.84,-72.26 93.01,-68.3 98.23,-77.52 102.84,-72.26\"/>\n</g>\n<!-- 4 -->\n<g id=\"node5\" class=\"node\">\n<title>4</title>\n<path fill=\"#8139e5\" stroke=\"black\" d=\"M233.5,-68C233.5,-68 140.5,-68 140.5,-68 134.5,-68 128.5,-62 128.5,-56 128.5,-56 128.5,-12 128.5,-12 128.5,-6 134.5,0 140.5,0 140.5,0 233.5,0 233.5,0 239.5,0 245.5,-6 245.5,-12 245.5,-12 245.5,-56 245.5,-56 245.5,-62 239.5,-68 233.5,-68\"/>\n<text text-anchor=\"middle\" x=\"187\" y=\"-52.8\" font-family=\"Helvetica,sans-Serif\" font-size=\"14.00\">gini = 0.0</text>\n<text text-anchor=\"middle\" x=\"187\" y=\"-37.8\" font-family=\"Helvetica,sans-Serif\" font-size=\"14.00\">samples = 20</text>\n<text text-anchor=\"middle\" x=\"187\" y=\"-22.8\" font-family=\"Helvetica,sans-Serif\" font-size=\"14.00\">value = [0, 0, 20]</text>\n<text text-anchor=\"middle\" x=\"187\" y=\"-7.8\" font-family=\"Helvetica,sans-Serif\" font-size=\"14.00\">class = 2</text>\n</g>\n<!-- 2&#45;&gt;4 -->\n<g id=\"edge4\" class=\"edge\">\n<title>2&#45;&gt;4</title>\n<path fill=\"none\" stroke=\"black\" d=\"M182.61,-103.73C183.14,-95.43 183.7,-86.67 184.23,-78.28\"/>\n<polygon fill=\"black\" stroke=\"black\" points=\"187.73,-78.5 184.87,-68.3 180.74,-78.06 187.73,-78.5\"/>\n</g>\n<!-- 6 -->\n<g id=\"node7\" class=\"node\">\n<title>6</title>\n<path fill=\"#3de684\" stroke=\"black\" d=\"M382.5,-68C382.5,-68 289.5,-68 289.5,-68 283.5,-68 277.5,-62 277.5,-56 277.5,-56 277.5,-12 277.5,-12 277.5,-6 283.5,0 289.5,0 289.5,0 382.5,0 382.5,0 388.5,0 394.5,-6 394.5,-12 394.5,-12 394.5,-56 394.5,-56 394.5,-62 388.5,-68 382.5,-68\"/>\n<text text-anchor=\"middle\" x=\"336\" y=\"-52.8\" font-family=\"Helvetica,sans-Serif\" font-size=\"14.00\">gini = 0.043</text>\n<text text-anchor=\"middle\" x=\"336\" y=\"-37.8\" font-family=\"Helvetica,sans-Serif\" font-size=\"14.00\">samples = 45</text>\n<text text-anchor=\"middle\" x=\"336\" y=\"-22.8\" font-family=\"Helvetica,sans-Serif\" font-size=\"14.00\">value = [0, 44, 1]</text>\n<text text-anchor=\"middle\" x=\"336\" y=\"-7.8\" font-family=\"Helvetica,sans-Serif\" font-size=\"14.00\">class = 0</text>\n</g>\n<!-- 5&#45;&gt;6 -->\n<g id=\"edge6\" class=\"edge\">\n<title>5&#45;&gt;6</title>\n<path fill=\"none\" stroke=\"black\" d=\"M340.39,-103.73C339.86,-95.43 339.3,-86.67 338.77,-78.28\"/>\n<polygon fill=\"black\" stroke=\"black\" points=\"342.26,-78.06 338.13,-68.3 335.27,-78.5 342.26,-78.06\"/>\n</g>\n<!-- 7 -->\n<g id=\"node8\" class=\"node\">\n<title>7</title>\n<path fill=\"#bdf6d5\" stroke=\"black\" d=\"M511,-68C511,-68 425,-68 425,-68 419,-68 413,-62 413,-56 413,-56 413,-12 413,-12 413,-6 419,0 425,0 425,0 511,0 511,0 517,0 523,-6 523,-12 523,-12 523,-56 523,-56 523,-62 517,-68 511,-68\"/>\n<text text-anchor=\"middle\" x=\"468\" y=\"-52.8\" font-family=\"Helvetica,sans-Serif\" font-size=\"14.00\">gini = 0.48</text>\n<text text-anchor=\"middle\" x=\"468\" y=\"-37.8\" font-family=\"Helvetica,sans-Serif\" font-size=\"14.00\">samples = 5</text>\n<text text-anchor=\"middle\" x=\"468\" y=\"-22.8\" font-family=\"Helvetica,sans-Serif\" font-size=\"14.00\">value = [2, 3, 0]</text>\n<text text-anchor=\"middle\" x=\"468\" y=\"-7.8\" font-family=\"Helvetica,sans-Serif\" font-size=\"14.00\">class = 0</text>\n</g>\n<!-- 5&#45;&gt;7 -->\n<g id=\"edge7\" class=\"edge\">\n<title>5&#45;&gt;7</title>\n<path fill=\"none\" stroke=\"black\" d=\"M389.55,-103.73C400.27,-94.33 411.67,-84.35 422.35,-74.99\"/>\n<polygon fill=\"black\" stroke=\"black\" points=\"424.77,-77.52 429.99,-68.3 420.16,-72.26 424.77,-77.52\"/>\n</g>\n<!-- 9 -->\n<g id=\"node10\" class=\"node\">\n<title>9</title>\n<path fill=\"#d5bdf6\" stroke=\"black\" d=\"M560,-179.5C560,-179.5 474,-179.5 474,-179.5 468,-179.5 462,-173.5 462,-167.5 462,-167.5 462,-123.5 462,-123.5 462,-117.5 468,-111.5 474,-111.5 474,-111.5 560,-111.5 560,-111.5 566,-111.5 572,-117.5 572,-123.5 572,-123.5 572,-167.5 572,-167.5 572,-173.5 566,-179.5 560,-179.5\"/>\n<text text-anchor=\"middle\" x=\"517\" y=\"-164.3\" font-family=\"Helvetica,sans-Serif\" font-size=\"14.00\">gini = 0.48</text>\n<text text-anchor=\"middle\" x=\"517\" y=\"-149.3\" font-family=\"Helvetica,sans-Serif\" font-size=\"14.00\">samples = 5</text>\n<text text-anchor=\"middle\" x=\"517\" y=\"-134.3\" font-family=\"Helvetica,sans-Serif\" font-size=\"14.00\">value = [0, 2, 3]</text>\n<text text-anchor=\"middle\" x=\"517\" y=\"-119.3\" font-family=\"Helvetica,sans-Serif\" font-size=\"14.00\">class = 2</text>\n</g>\n<!-- 8&#45;&gt;9 -->\n<g id=\"edge9\" class=\"edge\">\n<title>8&#45;&gt;9</title>\n<path fill=\"none\" stroke=\"black\" d=\"M530.71,-222.91C528.79,-212.2 526.71,-200.62 524.77,-189.78\"/>\n<polygon fill=\"black\" stroke=\"black\" points=\"528.16,-188.89 522.95,-179.67 521.27,-190.13 528.16,-188.89\"/>\n</g>\n<!-- 10 -->\n<g id=\"node11\" class=\"node\">\n<title>10</title>\n<path fill=\"#e6843e\" stroke=\"black\" d=\"M752,-187C752,-187 602,-187 602,-187 596,-187 590,-181 590,-175 590,-175 590,-116 590,-116 590,-110 596,-104 602,-104 602,-104 752,-104 752,-104 758,-104 764,-110 764,-116 764,-116 764,-175 764,-175 764,-181 758,-187 752,-187\"/>\n<text text-anchor=\"middle\" x=\"677\" y=\"-171.8\" font-family=\"Helvetica,sans-Serif\" font-size=\"14.00\">alcalinity_of_ash &lt;= 20.25</text>\n<text text-anchor=\"middle\" x=\"677\" y=\"-156.8\" font-family=\"Helvetica,sans-Serif\" font-size=\"14.00\">gini = 0.044</text>\n<text text-anchor=\"middle\" x=\"677\" y=\"-141.8\" font-family=\"Helvetica,sans-Serif\" font-size=\"14.00\">samples = 44</text>\n<text text-anchor=\"middle\" x=\"677\" y=\"-126.8\" font-family=\"Helvetica,sans-Serif\" font-size=\"14.00\">value = [43, 1, 0]</text>\n<text text-anchor=\"middle\" x=\"677\" y=\"-111.8\" font-family=\"Helvetica,sans-Serif\" font-size=\"14.00\">class = 1</text>\n</g>\n<!-- 8&#45;&gt;10 -->\n<g id=\"edge10\" class=\"edge\">\n<title>8&#45;&gt;10</title>\n<path fill=\"none\" stroke=\"black\" d=\"M586.23,-222.91C597.44,-213.47 609.47,-203.34 620.99,-193.65\"/>\n<polygon fill=\"black\" stroke=\"black\" points=\"623.46,-196.14 628.86,-187.02 618.96,-190.78 623.46,-196.14\"/>\n</g>\n<!-- 11 -->\n<g id=\"node12\" class=\"node\">\n<title>11</title>\n<path fill=\"#e58139\" stroke=\"black\" d=\"M685.5,-68C685.5,-68 592.5,-68 592.5,-68 586.5,-68 580.5,-62 580.5,-56 580.5,-56 580.5,-12 580.5,-12 580.5,-6 586.5,0 592.5,0 592.5,0 685.5,0 685.5,0 691.5,0 697.5,-6 697.5,-12 697.5,-12 697.5,-56 697.5,-56 697.5,-62 691.5,-68 685.5,-68\"/>\n<text text-anchor=\"middle\" x=\"639\" y=\"-52.8\" font-family=\"Helvetica,sans-Serif\" font-size=\"14.00\">gini = 0.0</text>\n<text text-anchor=\"middle\" x=\"639\" y=\"-37.8\" font-family=\"Helvetica,sans-Serif\" font-size=\"14.00\">samples = 39</text>\n<text text-anchor=\"middle\" x=\"639\" y=\"-22.8\" font-family=\"Helvetica,sans-Serif\" font-size=\"14.00\">value = [39, 0, 0]</text>\n<text text-anchor=\"middle\" x=\"639\" y=\"-7.8\" font-family=\"Helvetica,sans-Serif\" font-size=\"14.00\">class = 1</text>\n</g>\n<!-- 10&#45;&gt;11 -->\n<g id=\"edge11\" class=\"edge\">\n<title>10&#45;&gt;11</title>\n<path fill=\"none\" stroke=\"black\" d=\"M662.85,-103.73C659.94,-95.34 656.86,-86.47 653.92,-78.01\"/>\n<polygon fill=\"black\" stroke=\"black\" points=\"657.14,-76.6 650.56,-68.3 650.53,-78.89 657.14,-76.6\"/>\n</g>\n<!-- 12 -->\n<g id=\"node13\" class=\"node\">\n<title>12</title>\n<path fill=\"#eca06a\" stroke=\"black\" d=\"M814,-68C814,-68 728,-68 728,-68 722,-68 716,-62 716,-56 716,-56 716,-12 716,-12 716,-6 722,0 728,0 728,0 814,0 814,0 820,0 826,-6 826,-12 826,-12 826,-56 826,-56 826,-62 820,-68 814,-68\"/>\n<text text-anchor=\"middle\" x=\"771\" y=\"-52.8\" font-family=\"Helvetica,sans-Serif\" font-size=\"14.00\">gini = 0.32</text>\n<text text-anchor=\"middle\" x=\"771\" y=\"-37.8\" font-family=\"Helvetica,sans-Serif\" font-size=\"14.00\">samples = 5</text>\n<text text-anchor=\"middle\" x=\"771\" y=\"-22.8\" font-family=\"Helvetica,sans-Serif\" font-size=\"14.00\">value = [4, 1, 0]</text>\n<text text-anchor=\"middle\" x=\"771\" y=\"-7.8\" font-family=\"Helvetica,sans-Serif\" font-size=\"14.00\">class = 1</text>\n</g>\n<!-- 10&#45;&gt;12 -->\n<g id=\"edge12\" class=\"edge\">\n<title>10&#45;&gt;12</title>\n<path fill=\"none\" stroke=\"black\" d=\"M712,-103.73C719.75,-94.7 727.97,-85.12 735.73,-76.08\"/>\n<polygon fill=\"black\" stroke=\"black\" points=\"738.56,-78.17 742.41,-68.3 733.24,-73.61 738.56,-78.17\"/>\n</g>\n</g>\n</svg>\n",
      "text/plain": [
       "<graphviz.sources.Source at 0x171162aae50>"
      ]
     },
     "execution_count": 12,
     "metadata": {},
     "output_type": "execute_result"
    }
   ],
   "source": [
    "# 可视化当前决策树模型\n",
    "dot_data = export_graphviz(\n",
    "  clf,\n",
    "  out_file=None,\n",
    "  feature_names=dataset.feature_names,\n",
    "  class_names=[str(i[0]) for i in list(pd.DataFrame(y).value_counts().index)],\n",
    "  filled = True,\n",
    "  rounded = True\n",
    ")\n",
    "\n",
    "# 可视化呈现\n",
    "graph = graphviz.Source(dot_data)\n",
    "graph\n"
   ]
  },
  {
   "cell_type": "code",
   "execution_count": 13,
   "metadata": {},
   "outputs": [
    {
     "data": {
      "text/plain": [
       "[('alcohol', 0.019829458737244496),\n",
       " ('malic_acid', 0.0),\n",
       " ('ash', 0.0),\n",
       " ('alcalinity_of_ash', 0.00515260587560915),\n",
       " ('magnesium', 0.0),\n",
       " ('total_phenols', 0.0),\n",
       " ('flavanoids', 0.09509537238454163),\n",
       " ('nonflavanoid_phenols', 0.0),\n",
       " ('proanthocyanins', 0.04185501388187127),\n",
       " ('color_intensity', 0.0),\n",
       " ('hue', 0.0),\n",
       " ('od280/od315_of_diluted_wines', 0.3423972663391968),\n",
       " ('proline', 0.4956702827815365)]"
      ]
     },
     "execution_count": 13,
     "metadata": {},
     "output_type": "execute_result"
    }
   ],
   "source": [
    "# 决策树对象相关的重要属性\n",
    "\n",
    "# 1.显示各个特征的重要性\n",
    "# clf.feature_importances_\n",
    "[*zip(dataset.feature_names, clf.feature_importances_)]"
   ]
  },
  {
   "cell_type": "code",
   "execution_count": 14,
   "metadata": {},
   "outputs": [
    {
     "data": {
      "text/plain": [
       "array([11,  7,  6,  6, 11, 12,  7, 11,  6, 11, 12, 11,  4, 11,  6, 11,  3,\n",
       "        4, 11, 11, 11,  4,  6,  9,  3,  4, 11, 11,  6,  6,  6,  4,  4, 11,\n",
       "        9,  3,  6,  4,  6, 11, 11,  6, 11,  6,  6,  6,  6, 11, 11, 11,  6,\n",
       "        6, 11, 11,  4, 11,  4, 11, 12,  4,  6,  4,  7, 11,  7, 11,  4,  6,\n",
       "        6, 11, 11,  6, 11,  6,  4,  9, 11, 11, 11,  6,  6,  6,  3,  4,  6,\n",
       "       11,  6,  6,  6,  6,  6,  6,  6,  6,  4,  4,  4,  9, 11,  6, 11, 12,\n",
       "       11,  3,  4,  6,  4,  4,  6, 11, 12, 11,  9,  6,  6, 11,  6,  6,  6,\n",
       "       11,  6,  7,  6,  6], dtype=int64)"
      ]
     },
     "execution_count": 14,
     "metadata": {},
     "output_type": "execute_result"
    }
   ],
   "source": [
    "# 返回经过决策树模型的训练，每一个训练样本决策树将其分到了哪一个叶子节点\n",
    "clf.apply(Xtrain)"
   ]
  },
  {
   "cell_type": "code",
   "execution_count": 15,
   "metadata": {},
   "outputs": [
    {
     "data": {
      "text/plain": [
       "13"
      ]
     },
     "execution_count": 15,
     "metadata": {},
     "output_type": "execute_result"
    }
   ],
   "source": [
    "# 返回树节点的个数\n",
    "clf.tree_.node_count"
   ]
  },
  {
   "cell_type": "code",
   "execution_count": 16,
   "metadata": {},
   "outputs": [
    {
     "data": {
      "text/plain": [
       "array([12, 11,  8, -2, -2,  0, -2, -2,  6, -2,  3, -2, -2], dtype=int64)"
      ]
     },
     "execution_count": 16,
     "metadata": {},
     "output_type": "execute_result"
    }
   ],
   "source": [
    "# 返回每个节点对应的特征索引值\n",
    "clf.tree_.feature"
   ]
  },
  {
   "cell_type": "code",
   "execution_count": 17,
   "metadata": {},
   "outputs": [
    {
     "data": {
      "text/plain": [
       "0.9354838709677419"
      ]
     },
     "execution_count": 17,
     "metadata": {},
     "output_type": "execute_result"
    },
    {
     "data": {
      "text/plain": [
       "0.9074074074074074"
      ]
     },
     "execution_count": 17,
     "metadata": {},
     "output_type": "execute_result"
    }
   ],
   "source": [
    "# 查看当前决策树模型在训练集上的表现如何\n",
    "clf.score(Xtrain, Ytrain)\n",
    "clf.score(Xtest, Ytest)"
   ]
  },
  {
   "cell_type": "code",
   "execution_count": 34,
   "metadata": {},
   "outputs": [
    {
     "data": {
      "text/plain": [
       "[<matplotlib.lines.Line2D at 0x171181c5b50>]"
      ]
     },
     "execution_count": 34,
     "metadata": {},
     "output_type": "execute_result"
    },
    {
     "name": "stdout",
     "output_type": "stream",
     "text": [
      "经过上述超参数学习曲线对剪枝超参数max_depth的调优，结论：当max_depth参数取值为3时，模型对应获得了最高的准确率：0.9814814814814815\n"
     ]
    },
    {
     "data": {
      "image/png": "[encoded data removed]",
      "text/plain": [
       "<Figure size 640x480 with 1 Axes>"
      ]
     },
     "metadata": {},
     "output_type": "display_data"
    }
   ],
   "source": [
    "# 以max_depth为例，对该剪枝超参数进行调优，确定该参数的最优取值\n",
    "# 准备一个scores数组，准备保存评分数组\n",
    "scores = []\n",
    "\n",
    "for i in range(3, 10):\n",
    "  \n",
    "  # 构建分类树模型\n",
    "  clf = DecisionTreeClassifier(\n",
    "    criterion = 'gini',\n",
    "    max_depth = i\n",
    "  )\n",
    "  \n",
    "  # 训练模型\n",
    "  clf = clf.fit(Xtrain, Ytrain)\n",
    "  \n",
    "  # 评估模型预测准确率\n",
    "  scores.append(clf.score(Xtest, Ytest))\n",
    "  \n",
    "plt.plot(range(3, 10), scores, color = 'red', label = '学习曲线')\n",
    "\n",
    "print('经过上述超参数学习曲线对剪枝超参数max_depth的调优，结论：当max_depth参数取值为{}时，模型对应获得了最高的准确率：{}'.format(scores.index(max(scores)) +3, max(scores)))\n",
    "  "
   ]
  },
  {
   "cell_type": "code",
   "execution_count": 41,
   "metadata": {},
   "outputs": [
    {
     "data": {
      "text/plain": [
       "0.8888888888888888"
      ]
     },
     "execution_count": 41,
     "metadata": {},
     "output_type": "execute_result"
    }
   ],
   "source": [
    "# 构建分类树模型\n",
    "clf = DecisionTreeClassifier(\n",
    "  criterion = 'gini',\n",
    "  max_depth = 2,\n",
    "  ccp_alpha = 0.01572\n",
    ")\n",
    "  \n",
    "# 训练模型\n",
    "clf = clf.fit(Xtrain, Ytrain)\n",
    "  \n",
    "# 评估模型预测准确率\n",
    "accuracy_score(y_pred, Ytest)"
   ]
  },
  {
   "cell_type": "code",
   "execution_count": 42,
   "metadata": {},
   "outputs": [
    {
     "name": "stdout",
     "output_type": "stream",
     "text": [
      "ccp_alphas:[0.         0.05276947 0.19       0.27505288]\n",
      "impurities:[0.12382698 0.17659645 0.36659645 0.64164932]\n"
     ]
    }
   ],
   "source": [
    "# CCP路径计算API\n",
    "ccp_path = clf.cost_complexity_pruning_path(Xtrain, Ytrain)\n",
    "print('ccp_alphas:{}'.format(ccp_path.ccp_alphas))\n",
    "print('impurities:{}'.format(ccp_path.impurities))"
   ]
  },
  {
   "cell_type": "code",
   "execution_count": 43,
   "metadata": {},
   "outputs": [
    {
     "data": {
      "image/svg+xml": "<?xml version=\"1.0\" encoding=\"UTF-8\" standalone=\"no\"?>\n<!DOCTYPE svg PUBLIC \"-//W3C//DTD SVG 1.1//EN\"\n \"http://www.w3.org/Graphics/SVG/1.1/DTD/svg11.dtd\">\n<!-- Generated by graphviz version 2.50.0 (0)\n -->\n<!-- Title: Tree Pages: 1 -->\n<svg width=\"566pt\" height=\"314pt\"\n viewBox=\"0.00 0.00 566.00 314.00\" xmlns=\"http://www.w3.org/2000/svg\" xmlns:xlink=\"http://www.w3.org/1999/xlink\">\n<g id=\"graph0\" class=\"graph\" transform=\"scale(1 1) rotate(0) translate(4 310)\">\n<title>Tree</title>\n<polygon fill=\"white\" stroke=\"transparent\" points=\"-4,4 -4,-310 562,-310 562,4 -4,4\"/>\n<!-- 0 -->\n<g id=\"node1\" class=\"node\">\n<title>0</title>\n<path fill=\"#ebfcf2\" stroke=\"black\" d=\"M334.5,-306C334.5,-306 226.5,-306 226.5,-306 220.5,-306 214.5,-300 214.5,-294 214.5,-294 214.5,-235 214.5,-235 214.5,-229 220.5,-223 226.5,-223 226.5,-223 334.5,-223 334.5,-223 340.5,-223 346.5,-229 346.5,-235 346.5,-235 346.5,-294 346.5,-294 346.5,-300 340.5,-306 334.5,-306\"/>\n<text text-anchor=\"middle\" x=\"280.5\" y=\"-290.8\" font-family=\"Helvetica,sans-Serif\" font-size=\"14.00\">proline &lt;= 755.0</text>\n<text text-anchor=\"middle\" x=\"280.5\" y=\"-275.8\" font-family=\"Helvetica,sans-Serif\" font-size=\"14.00\">gini = 0.642</text>\n<text text-anchor=\"middle\" x=\"280.5\" y=\"-260.8\" font-family=\"Helvetica,sans-Serif\" font-size=\"14.00\">samples = 124</text>\n<text text-anchor=\"middle\" x=\"280.5\" y=\"-245.8\" font-family=\"Helvetica,sans-Serif\" font-size=\"14.00\">value = [45, 53, 26]</text>\n<text text-anchor=\"middle\" x=\"280.5\" y=\"-230.8\" font-family=\"Helvetica,sans-Serif\" font-size=\"14.00\">class = 0</text>\n</g>\n<!-- 1 -->\n<g id=\"node2\" class=\"node\">\n<title>1</title>\n<path fill=\"#98f2be\" stroke=\"black\" d=\"M291,-187C291,-187 54,-187 54,-187 48,-187 42,-181 42,-175 42,-175 42,-116 42,-116 42,-110 48,-104 54,-104 54,-104 291,-104 291,-104 297,-104 303,-110 303,-116 303,-116 303,-175 303,-175 303,-181 297,-187 291,-187\"/>\n<text text-anchor=\"middle\" x=\"172.5\" y=\"-171.8\" font-family=\"Helvetica,sans-Serif\" font-size=\"14.00\">od280/od315_of_diluted_wines &lt;= 1.985</text>\n<text text-anchor=\"middle\" x=\"172.5\" y=\"-156.8\" font-family=\"Helvetica,sans-Serif\" font-size=\"14.00\">gini = 0.461</text>\n<text text-anchor=\"middle\" x=\"172.5\" y=\"-141.8\" font-family=\"Helvetica,sans-Serif\" font-size=\"14.00\">samples = 75</text>\n<text text-anchor=\"middle\" x=\"172.5\" y=\"-126.8\" font-family=\"Helvetica,sans-Serif\" font-size=\"14.00\">value = [2, 50, 23]</text>\n<text text-anchor=\"middle\" x=\"172.5\" y=\"-111.8\" font-family=\"Helvetica,sans-Serif\" font-size=\"14.00\">class = 0</text>\n</g>\n<!-- 0&#45;&gt;1 -->\n<g id=\"edge1\" class=\"edge\">\n<title>0&#45;&gt;1</title>\n<path fill=\"none\" stroke=\"black\" d=\"M243.03,-222.91C234.57,-213.74 225.51,-203.93 216.8,-194.49\"/>\n<polygon fill=\"black\" stroke=\"black\" points=\"219.26,-191.99 209.9,-187.02 214.11,-196.74 219.26,-191.99\"/>\n<text text-anchor=\"middle\" x=\"208.9\" y=\"-208.3\" font-family=\"Helvetica,sans-Serif\" font-size=\"14.00\">True</text>\n</g>\n<!-- 4 -->\n<g id=\"node5\" class=\"node\">\n<title>4</title>\n<path fill=\"#e89153\" stroke=\"black\" d=\"M444,-187C444,-187 333,-187 333,-187 327,-187 321,-181 321,-175 321,-175 321,-116 321,-116 321,-110 327,-104 333,-104 333,-104 444,-104 444,-104 450,-104 456,-110 456,-116 456,-116 456,-175 456,-175 456,-181 450,-187 444,-187\"/>\n<text text-anchor=\"middle\" x=\"388.5\" y=\"-171.8\" font-family=\"Helvetica,sans-Serif\" font-size=\"14.00\">flavanoids &lt;= 2.165</text>\n<text text-anchor=\"middle\" x=\"388.5\" y=\"-156.8\" font-family=\"Helvetica,sans-Serif\" font-size=\"14.00\">gini = 0.222</text>\n<text text-anchor=\"middle\" x=\"388.5\" y=\"-141.8\" font-family=\"Helvetica,sans-Serif\" font-size=\"14.00\">samples = 49</text>\n<text text-anchor=\"middle\" x=\"388.5\" y=\"-126.8\" font-family=\"Helvetica,sans-Serif\" font-size=\"14.00\">value = [43, 3, 3]</text>\n<text text-anchor=\"middle\" x=\"388.5\" y=\"-111.8\" font-family=\"Helvetica,sans-Serif\" font-size=\"14.00\">class = 1</text>\n</g>\n<!-- 0&#45;&gt;4 -->\n<g id=\"edge4\" class=\"edge\">\n<title>0&#45;&gt;4</title>\n<path fill=\"none\" stroke=\"black\" d=\"M317.97,-222.91C326.43,-213.74 335.49,-203.93 344.2,-194.49\"/>\n<polygon fill=\"black\" stroke=\"black\" points=\"346.89,-196.74 351.1,-187.02 341.74,-191.99 346.89,-196.74\"/>\n<text text-anchor=\"middle\" x=\"352.1\" y=\"-208.3\" font-family=\"Helvetica,sans-Serif\" font-size=\"14.00\">False</text>\n</g>\n<!-- 2 -->\n<g id=\"node3\" class=\"node\">\n<title>2</title>\n<path fill=\"#9254e9\" stroke=\"black\" d=\"M105,-68C105,-68 12,-68 12,-68 6,-68 0,-62 0,-56 0,-56 0,-12 0,-12 0,-6 6,0 12,0 12,0 105,0 105,0 111,0 117,-6 117,-12 117,-12 117,-56 117,-56 117,-62 111,-68 105,-68\"/>\n<text text-anchor=\"middle\" x=\"58.5\" y=\"-52.8\" font-family=\"Helvetica,sans-Serif\" font-size=\"14.00\">gini = 0.211</text>\n<text text-anchor=\"middle\" x=\"58.5\" y=\"-37.8\" font-family=\"Helvetica,sans-Serif\" font-size=\"14.00\">samples = 25</text>\n<text text-anchor=\"middle\" x=\"58.5\" y=\"-22.8\" font-family=\"Helvetica,sans-Serif\" font-size=\"14.00\">value = [0, 3, 22]</text>\n<text text-anchor=\"middle\" x=\"58.5\" y=\"-7.8\" font-family=\"Helvetica,sans-Serif\" font-size=\"14.00\">class = 2</text>\n</g>\n<!-- 1&#45;&gt;2 -->\n<g id=\"edge2\" class=\"edge\">\n<title>1&#45;&gt;2</title>\n<path fill=\"none\" stroke=\"black\" d=\"M130.05,-103.73C120.37,-94.42 110.08,-84.54 100.42,-75.26\"/>\n<polygon fill=\"black\" stroke=\"black\" points=\"102.8,-72.7 93.17,-68.3 97.96,-77.75 102.8,-72.7\"/>\n</g>\n<!-- 3 -->\n<g id=\"node4\" class=\"node\">\n<title>3</title>\n<path fill=\"#45e789\" stroke=\"black\" d=\"M240,-68C240,-68 147,-68 147,-68 141,-68 135,-62 135,-56 135,-56 135,-12 135,-12 135,-6 141,0 147,0 147,0 240,0 240,0 246,0 252,-6 252,-12 252,-12 252,-56 252,-56 252,-62 246,-68 240,-68\"/>\n<text text-anchor=\"middle\" x=\"193.5\" y=\"-52.8\" font-family=\"Helvetica,sans-Serif\" font-size=\"14.00\">gini = 0.114</text>\n<text text-anchor=\"middle\" x=\"193.5\" y=\"-37.8\" font-family=\"Helvetica,sans-Serif\" font-size=\"14.00\">samples = 50</text>\n<text text-anchor=\"middle\" x=\"193.5\" y=\"-22.8\" font-family=\"Helvetica,sans-Serif\" font-size=\"14.00\">value = [2, 47, 1]</text>\n<text text-anchor=\"middle\" x=\"193.5\" y=\"-7.8\" font-family=\"Helvetica,sans-Serif\" font-size=\"14.00\">class = 0</text>\n</g>\n<!-- 1&#45;&gt;3 -->\n<g id=\"edge3\" class=\"edge\">\n<title>1&#45;&gt;3</title>\n<path fill=\"none\" stroke=\"black\" d=\"M180.32,-103.73C181.91,-95.43 183.59,-86.67 185.2,-78.28\"/>\n<polygon fill=\"black\" stroke=\"black\" points=\"188.67,-78.78 187.11,-68.3 181.79,-77.46 188.67,-78.78\"/>\n</g>\n<!-- 5 -->\n<g id=\"node6\" class=\"node\">\n<title>5</title>\n<path fill=\"#d5bdf6\" stroke=\"black\" d=\"M410.5,-68C410.5,-68 324.5,-68 324.5,-68 318.5,-68 312.5,-62 312.5,-56 312.5,-56 312.5,-12 312.5,-12 312.5,-6 318.5,0 324.5,0 324.5,0 410.5,0 410.5,0 416.5,0 422.5,-6 422.5,-12 422.5,-12 422.5,-56 422.5,-56 422.5,-62 416.5,-68 410.5,-68\"/>\n<text text-anchor=\"middle\" x=\"367.5\" y=\"-52.8\" font-family=\"Helvetica,sans-Serif\" font-size=\"14.00\">gini = 0.48</text>\n<text text-anchor=\"middle\" x=\"367.5\" y=\"-37.8\" font-family=\"Helvetica,sans-Serif\" font-size=\"14.00\">samples = 5</text>\n<text text-anchor=\"middle\" x=\"367.5\" y=\"-22.8\" font-family=\"Helvetica,sans-Serif\" font-size=\"14.00\">value = [0, 2, 3]</text>\n<text text-anchor=\"middle\" x=\"367.5\" y=\"-7.8\" font-family=\"Helvetica,sans-Serif\" font-size=\"14.00\">class = 2</text>\n</g>\n<!-- 4&#45;&gt;5 -->\n<g id=\"edge5\" class=\"edge\">\n<title>4&#45;&gt;5</title>\n<path fill=\"none\" stroke=\"black\" d=\"M380.68,-103.73C379.09,-95.43 377.41,-86.67 375.8,-78.28\"/>\n<polygon fill=\"black\" stroke=\"black\" points=\"379.21,-77.46 373.89,-68.3 372.33,-78.78 379.21,-77.46\"/>\n</g>\n<!-- 6 -->\n<g id=\"node7\" class=\"node\">\n<title>6</title>\n<path fill=\"#e6843e\" stroke=\"black\" d=\"M546,-68C546,-68 453,-68 453,-68 447,-68 441,-62 441,-56 441,-56 441,-12 441,-12 441,-6 447,0 453,0 453,0 546,0 546,0 552,0 558,-6 558,-12 558,-12 558,-56 558,-56 558,-62 552,-68 546,-68\"/>\n<text text-anchor=\"middle\" x=\"499.5\" y=\"-52.8\" font-family=\"Helvetica,sans-Serif\" font-size=\"14.00\">gini = 0.044</text>\n<text text-anchor=\"middle\" x=\"499.5\" y=\"-37.8\" font-family=\"Helvetica,sans-Serif\" font-size=\"14.00\">samples = 44</text>\n<text text-anchor=\"middle\" x=\"499.5\" y=\"-22.8\" font-family=\"Helvetica,sans-Serif\" font-size=\"14.00\">value = [43, 1, 0]</text>\n<text text-anchor=\"middle\" x=\"499.5\" y=\"-7.8\" font-family=\"Helvetica,sans-Serif\" font-size=\"14.00\">class = 1</text>\n</g>\n<!-- 4&#45;&gt;6 -->\n<g id=\"edge6\" class=\"edge\">\n<title>4&#45;&gt;6</title>\n<path fill=\"none\" stroke=\"black\" d=\"M429.83,-103.73C439.17,-94.51 449.08,-84.74 458.41,-75.53\"/>\n<polygon fill=\"black\" stroke=\"black\" points=\"461.08,-77.81 465.74,-68.3 456.17,-72.83 461.08,-77.81\"/>\n</g>\n</g>\n</svg>\n",
      "text/plain": [
       "<graphviz.sources.Source at 0x171181980a0>"
      ]
     },
     "execution_count": 43,
     "metadata": {},
     "output_type": "execute_result"
    }
   ],
   "source": [
    "# 可视化当前决策树模型\n",
    "dot_data = export_graphviz(\n",
    "  clf,\n",
    "  out_file=None,\n",
    "  feature_names=dataset.feature_names,\n",
    "  class_names=[str(i[0]) for i in list(pd.DataFrame(y).value_counts().index)],\n",
    "  filled = True,\n",
    "  rounded = True\n",
    ")\n",
    "\n",
    "# 可视化呈现\n",
    "graph = graphviz.Source(dot_data)\n",
    "graph\n"
   ]
  },
  {
   "cell_type": "code",
   "execution_count": null,
   "metadata": {},
   "outputs": [],
   "source": []
  },
  {
   "cell_type": "code",
   "execution_count": null,
   "metadata": {},
   "outputs": [],
   "source": []
  },
  {
   "cell_type": "code",
   "execution_count": null,
   "metadata": {},
   "outputs": [],
   "source": []
  },
  {
   "cell_type": "code",
   "execution_count": null,
   "metadata": {},
   "outputs": [],
   "source": []
  }
 ],
 "metadata": {
  "kernelspec": {
   "display_name": "BigDataMiningVenvsForPython38",
   "language": "python",
   "name": "python3"
  },
  "language_info": {
   "codemirror_mode": {
    "name": "ipython",
    "version": 3
   },
   "file_extension": ".py",
   "mimetype": "text/x-python",
   "name": "python",
   "nbconvert_exporter": "python",
   "pygments_lexer": "ipython3",
   "version": "3.8.13"
  },
  "orig_nbformat": 4
 },
 "nbformat": 4,
 "nbformat_minor": 2
}
