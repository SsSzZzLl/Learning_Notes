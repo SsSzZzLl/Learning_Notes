{
 "cells": [
  {
   "cell_type": "code",
   "execution_count": 47,
   "metadata": {},
   "outputs": [],
   "source": [
    "# 导包\n",
    "import numpy as np\n",
    "import pandas as pd\n",
    "import matplotlib.pyplot as plt\n",
    "\n",
    "# 导入CART分类树模型对象\n",
    "from sklearn.tree import DecisionTreeClassifier, export_graphviz\n",
    "\n",
    "# 导入红酒数据集\n",
    "from sklearn.datasets import load_wine\n",
    "\n",
    "# 导入数据集划分对象\n",
    "from sklearn.model_selection import train_test_split\n",
    "\n",
    "# 导入分类模型的评估指标accuracy_score\n",
    "from sklearn.metrics import accuracy_score\n",
    "\n",
    "# 导入graphviz工具依赖项\n",
    "import graphviz\n",
    "\n",
    "from IPython.core.interactiveshell import InteractiveShell # 这个对象设置所有行全部输出\n",
    "  \n",
    "# 设置该对象ast_node_interactivity的属性值为all，表示notebook下每一行有输出的代码全部输出运算结果\n",
    "InteractiveShell.ast_node_interactivity = \"all\"\n",
    "\n",
    "# 解决坐标轴刻度负号乱码\n",
    "plt.rcParams['axes.unicode_minus'] = False\n",
    "\n",
    "# 解决中文乱码问题\n",
    "plt.rcParams['font.sans-serif'] = ['Simhei']\n",
    "plt.style.use('ggplot')\n",
    "\n"
   ]
  },
  {
   "cell_type": "code",
   "execution_count": 59,
   "metadata": {},
   "outputs": [
    {
     "data": {
      "text/html": [
       "<div>\n",
       "<style scoped>\n",
       "    .dataframe tbody tr th:only-of-type {\n",
       "        vertical-align: middle;\n",
       "    }\n",
       "\n",
       "    .dataframe tbody tr th {\n",
       "        vertical-align: top;\n",
       "    }\n",
       "\n",
       "    .dataframe thead th {\n",
       "        text-align: right;\n",
       "    }\n",
       "</style>\n",
       "<table border=\"1\" class=\"dataframe\">\n",
       "  <thead>\n",
       "    <tr style=\"text-align: right;\">\n",
       "      <th></th>\n",
       "      <th>alcohol</th>\n",
       "      <th>malic_acid</th>\n",
       "      <th>ash</th>\n",
       "      <th>alcalinity_of_ash</th>\n",
       "      <th>magnesium</th>\n",
       "      <th>total_phenols</th>\n",
       "      <th>flavanoids</th>\n",
       "      <th>nonflavanoid_phenols</th>\n",
       "      <th>proanthocyanins</th>\n",
       "      <th>color_intensity</th>\n",
       "      <th>hue</th>\n",
       "      <th>od280/od315_of_diluted_wines</th>\n",
       "      <th>proline</th>\n",
       "    </tr>\n",
       "  </thead>\n",
       "  <tbody>\n",
       "    <tr>\n",
       "      <th>0</th>\n",
       "      <td>14.23</td>\n",
       "      <td>1.71</td>\n",
       "      <td>2.43</td>\n",
       "      <td>15.6</td>\n",
       "      <td>127.0</td>\n",
       "      <td>2.80</td>\n",
       "      <td>3.06</td>\n",
       "      <td>0.28</td>\n",
       "      <td>2.29</td>\n",
       "      <td>5.64</td>\n",
       "      <td>1.04</td>\n",
       "      <td>3.92</td>\n",
       "      <td>1065.0</td>\n",
       "    </tr>\n",
       "    <tr>\n",
       "      <th>1</th>\n",
       "      <td>13.20</td>\n",
       "      <td>1.78</td>\n",
       "      <td>2.14</td>\n",
       "      <td>11.2</td>\n",
       "      <td>100.0</td>\n",
       "      <td>2.65</td>\n",
       "      <td>2.76</td>\n",
       "      <td>0.26</td>\n",
       "      <td>1.28</td>\n",
       "      <td>4.38</td>\n",
       "      <td>1.05</td>\n",
       "      <td>3.40</td>\n",
       "      <td>1050.0</td>\n",
       "    </tr>\n",
       "    <tr>\n",
       "      <th>2</th>\n",
       "      <td>13.16</td>\n",
       "      <td>2.36</td>\n",
       "      <td>2.67</td>\n",
       "      <td>18.6</td>\n",
       "      <td>101.0</td>\n",
       "      <td>2.80</td>\n",
       "      <td>3.24</td>\n",
       "      <td>0.30</td>\n",
       "      <td>2.81</td>\n",
       "      <td>5.68</td>\n",
       "      <td>1.03</td>\n",
       "      <td>3.17</td>\n",
       "      <td>1185.0</td>\n",
       "    </tr>\n",
       "    <tr>\n",
       "      <th>3</th>\n",
       "      <td>14.37</td>\n",
       "      <td>1.95</td>\n",
       "      <td>2.50</td>\n",
       "      <td>16.8</td>\n",
       "      <td>113.0</td>\n",
       "      <td>3.85</td>\n",
       "      <td>3.49</td>\n",
       "      <td>0.24</td>\n",
       "      <td>2.18</td>\n",
       "      <td>7.80</td>\n",
       "      <td>0.86</td>\n",
       "      <td>3.45</td>\n",
       "      <td>1480.0</td>\n",
       "    </tr>\n",
       "    <tr>\n",
       "      <th>4</th>\n",
       "      <td>13.24</td>\n",
       "      <td>2.59</td>\n",
       "      <td>2.87</td>\n",
       "      <td>21.0</td>\n",
       "      <td>118.0</td>\n",
       "      <td>2.80</td>\n",
       "      <td>2.69</td>\n",
       "      <td>0.39</td>\n",
       "      <td>1.82</td>\n",
       "      <td>4.32</td>\n",
       "      <td>1.04</td>\n",
       "      <td>2.93</td>\n",
       "      <td>735.0</td>\n",
       "    </tr>\n",
       "    <tr>\n",
       "      <th>...</th>\n",
       "      <td>...</td>\n",
       "      <td>...</td>\n",
       "      <td>...</td>\n",
       "      <td>...</td>\n",
       "      <td>...</td>\n",
       "      <td>...</td>\n",
       "      <td>...</td>\n",
       "      <td>...</td>\n",
       "      <td>...</td>\n",
       "      <td>...</td>\n",
       "      <td>...</td>\n",
       "      <td>...</td>\n",
       "      <td>...</td>\n",
       "    </tr>\n",
       "    <tr>\n",
       "      <th>173</th>\n",
       "      <td>13.71</td>\n",
       "      <td>5.65</td>\n",
       "      <td>2.45</td>\n",
       "      <td>20.5</td>\n",
       "      <td>95.0</td>\n",
       "      <td>1.68</td>\n",
       "      <td>0.61</td>\n",
       "      <td>0.52</td>\n",
       "      <td>1.06</td>\n",
       "      <td>7.70</td>\n",
       "      <td>0.64</td>\n",
       "      <td>1.74</td>\n",
       "      <td>740.0</td>\n",
       "    </tr>\n",
       "    <tr>\n",
       "      <th>174</th>\n",
       "      <td>13.40</td>\n",
       "      <td>3.91</td>\n",
       "      <td>2.48</td>\n",
       "      <td>23.0</td>\n",
       "      <td>102.0</td>\n",
       "      <td>1.80</td>\n",
       "      <td>0.75</td>\n",
       "      <td>0.43</td>\n",
       "      <td>1.41</td>\n",
       "      <td>7.30</td>\n",
       "      <td>0.70</td>\n",
       "      <td>1.56</td>\n",
       "      <td>750.0</td>\n",
       "    </tr>\n",
       "    <tr>\n",
       "      <th>175</th>\n",
       "      <td>13.27</td>\n",
       "      <td>4.28</td>\n",
       "      <td>2.26</td>\n",
       "      <td>20.0</td>\n",
       "      <td>120.0</td>\n",
       "      <td>1.59</td>\n",
       "      <td>0.69</td>\n",
       "      <td>0.43</td>\n",
       "      <td>1.35</td>\n",
       "      <td>10.20</td>\n",
       "      <td>0.59</td>\n",
       "      <td>1.56</td>\n",
       "      <td>835.0</td>\n",
       "    </tr>\n",
       "    <tr>\n",
       "      <th>176</th>\n",
       "      <td>13.17</td>\n",
       "      <td>2.59</td>\n",
       "      <td>2.37</td>\n",
       "      <td>20.0</td>\n",
       "      <td>120.0</td>\n",
       "      <td>1.65</td>\n",
       "      <td>0.68</td>\n",
       "      <td>0.53</td>\n",
       "      <td>1.46</td>\n",
       "      <td>9.30</td>\n",
       "      <td>0.60</td>\n",
       "      <td>1.62</td>\n",
       "      <td>840.0</td>\n",
       "    </tr>\n",
       "    <tr>\n",
       "      <th>177</th>\n",
       "      <td>14.13</td>\n",
       "      <td>4.10</td>\n",
       "      <td>2.74</td>\n",
       "      <td>24.5</td>\n",
       "      <td>96.0</td>\n",
       "      <td>2.05</td>\n",
       "      <td>0.76</td>\n",
       "      <td>0.56</td>\n",
       "      <td>1.35</td>\n",
       "      <td>9.20</td>\n",
       "      <td>0.61</td>\n",
       "      <td>1.60</td>\n",
       "      <td>560.0</td>\n",
       "    </tr>\n",
       "  </tbody>\n",
       "</table>\n",
       "<p>178 rows × 13 columns</p>\n",
       "</div>"
      ],
      "text/plain": [
       "     alcohol  malic_acid   ash  alcalinity_of_ash  magnesium  total_phenols  \\\n",
       "0      14.23        1.71  2.43               15.6      127.0           2.80   \n",
       "1      13.20        1.78  2.14               11.2      100.0           2.65   \n",
       "2      13.16        2.36  2.67               18.6      101.0           2.80   \n",
       "3      14.37        1.95  2.50               16.8      113.0           3.85   \n",
       "4      13.24        2.59  2.87               21.0      118.0           2.80   \n",
       "..       ...         ...   ...                ...        ...            ...   \n",
       "173    13.71        5.65  2.45               20.5       95.0           1.68   \n",
       "174    13.40        3.91  2.48               23.0      102.0           1.80   \n",
       "175    13.27        4.28  2.26               20.0      120.0           1.59   \n",
       "176    13.17        2.59  2.37               20.0      120.0           1.65   \n",
       "177    14.13        4.10  2.74               24.5       96.0           2.05   \n",
       "\n",
       "     flavanoids  nonflavanoid_phenols  proanthocyanins  color_intensity   hue  \\\n",
       "0          3.06                  0.28             2.29             5.64  1.04   \n",
       "1          2.76                  0.26             1.28             4.38  1.05   \n",
       "2          3.24                  0.30             2.81             5.68  1.03   \n",
       "3          3.49                  0.24             2.18             7.80  0.86   \n",
       "4          2.69                  0.39             1.82             4.32  1.04   \n",
       "..          ...                   ...              ...              ...   ...   \n",
       "173        0.61                  0.52             1.06             7.70  0.64   \n",
       "174        0.75                  0.43             1.41             7.30  0.70   \n",
       "175        0.69                  0.43             1.35            10.20  0.59   \n",
       "176        0.68                  0.53             1.46             9.30  0.60   \n",
       "177        0.76                  0.56             1.35             9.20  0.61   \n",
       "\n",
       "     od280/od315_of_diluted_wines  proline  \n",
       "0                            3.92   1065.0  \n",
       "1                            3.40   1050.0  \n",
       "2                            3.17   1185.0  \n",
       "3                            3.45   1480.0  \n",
       "4                            2.93    735.0  \n",
       "..                            ...      ...  \n",
       "173                          1.74    740.0  \n",
       "174                          1.56    750.0  \n",
       "175                          1.56    835.0  \n",
       "176                          1.62    840.0  \n",
       "177                          1.60    560.0  \n",
       "\n",
       "[178 rows x 13 columns]"
      ]
     },
     "execution_count": 59,
     "metadata": {},
     "output_type": "execute_result"
    },
    {
     "data": {
      "text/plain": [
       "1    71\n",
       "0    59\n",
       "2    48\n",
       "Name: count, dtype: int64"
      ]
     },
     "execution_count": 59,
     "metadata": {},
     "output_type": "execute_result"
    },
    {
     "data": {
      "text/plain": [
       "(178, 13)"
      ]
     },
     "execution_count": 59,
     "metadata": {},
     "output_type": "execute_result"
    }
   ],
   "source": [
    "# 加载数据\n",
    "dataset = load_wine()\n",
    "x = dataset.data\n",
    "y = dataset.target\n",
    "\n",
    "pd.DataFrame(x, columns = dataset.feature_names)\n",
    "\n",
    "pd.DataFrame(y).value_counts()\n",
    "\n",
    "x.shape"
   ]
  },
  {
   "cell_type": "code",
   "execution_count": 49,
   "metadata": {},
   "outputs": [],
   "source": [
    "# 划分数据集\n",
    "Xtrain, Xtest, Ytrain, Ytest = train_test_split(x, y, test_size=0.3, random_state=123)"
   ]
  },
  {
   "cell_type": "code",
   "execution_count": 91,
   "metadata": {},
   "outputs": [
    {
     "data": {
      "text/plain": [
       "0.9444444444444444"
      ]
     },
     "execution_count": 91,
     "metadata": {},
     "output_type": "execute_result"
    }
   ],
   "source": [
    "# 构建CART分类器模型对象\n",
    "clf = DecisionTreeClassifier(\n",
    "  criterion = 'gini',\n",
    "  random_state = 123,\n",
    "  # splitter = 'beat'\n",
    ")\n",
    "\n",
    "# 完成模型训练\n",
    "clf = clf.fit(Xtrain, Ytrain)\n",
    "\n",
    "# 测试集预测结果\n",
    "y_pred = clf.predict(Xtest)\n",
    "\n",
    "# 使用accuracy_score评估预测的准确率\n",
    "accuracy_score(y_pred, Ytest)\n"
   ]
  },
  {
   "cell_type": "code",
   "execution_count": 67,
   "metadata": {},
   "outputs": [
    {
     "data": {
      "image/svg+xml": "<?xml version=\"1.0\" encoding=\"UTF-8\" standalone=\"no\"?>\n<!DOCTYPE svg PUBLIC \"-//W3C//DTD SVG 1.1//EN\"\n \"http://www.w3.org/Graphics/SVG/1.1/DTD/svg11.dtd\">\n<!-- Generated by graphviz version 2.50.0 (0)\n -->\n<!-- Title: Tree Pages: 1 -->\n<svg width=\"1046pt\" height=\"671pt\"\n viewBox=\"0.00 0.00 1046.00 671.00\" xmlns=\"http://www.w3.org/2000/svg\" xmlns:xlink=\"http://www.w3.org/1999/xlink\">\n<g id=\"graph0\" class=\"graph\" transform=\"scale(1 1) rotate(0) translate(4 667)\">\n<title>Tree</title>\n<polygon fill=\"white\" stroke=\"transparent\" points=\"-4,4 -4,-667 1042,-667 1042,4 -4,4\"/>\n<!-- 0 -->\n<g id=\"node1\" class=\"node\">\n<title>0</title>\n<path fill=\"#ebfcf2\" stroke=\"black\" d=\"M536,-663C536,-663 428,-663 428,-663 422,-663 416,-657 416,-651 416,-651 416,-592 416,-592 416,-586 422,-580 428,-580 428,-580 536,-580 536,-580 542,-580 548,-586 548,-592 548,-592 548,-651 548,-651 548,-657 542,-663 536,-663\"/>\n<text text-anchor=\"middle\" x=\"482\" y=\"-647.8\" font-family=\"Helvetica,sans-Serif\" font-size=\"14.00\">proline &lt;= 755.0</text>\n<text text-anchor=\"middle\" x=\"482\" y=\"-632.8\" font-family=\"Helvetica,sans-Serif\" font-size=\"14.00\">gini = 0.642</text>\n<text text-anchor=\"middle\" x=\"482\" y=\"-617.8\" font-family=\"Helvetica,sans-Serif\" font-size=\"14.00\">samples = 124</text>\n<text text-anchor=\"middle\" x=\"482\" y=\"-602.8\" font-family=\"Helvetica,sans-Serif\" font-size=\"14.00\">value = [45, 53, 26]</text>\n<text text-anchor=\"middle\" x=\"482\" y=\"-587.8\" font-family=\"Helvetica,sans-Serif\" font-size=\"14.00\">class = 0</text>\n</g>\n<!-- 1 -->\n<g id=\"node2\" class=\"node\">\n<title>1</title>\n<path fill=\"#98f2be\" stroke=\"black\" d=\"M483.5,-544C483.5,-544 246.5,-544 246.5,-544 240.5,-544 234.5,-538 234.5,-532 234.5,-532 234.5,-473 234.5,-473 234.5,-467 240.5,-461 246.5,-461 246.5,-461 483.5,-461 483.5,-461 489.5,-461 495.5,-467 495.5,-473 495.5,-473 495.5,-532 495.5,-532 495.5,-538 489.5,-544 483.5,-544\"/>\n<text text-anchor=\"middle\" x=\"365\" y=\"-528.8\" font-family=\"Helvetica,sans-Serif\" font-size=\"14.00\">od280/od315_of_diluted_wines &lt;= 1.985</text>\n<text text-anchor=\"middle\" x=\"365\" y=\"-513.8\" font-family=\"Helvetica,sans-Serif\" font-size=\"14.00\">gini = 0.461</text>\n<text text-anchor=\"middle\" x=\"365\" y=\"-498.8\" font-family=\"Helvetica,sans-Serif\" font-size=\"14.00\">samples = 75</text>\n<text text-anchor=\"middle\" x=\"365\" y=\"-483.8\" font-family=\"Helvetica,sans-Serif\" font-size=\"14.00\">value = [2, 50, 23]</text>\n<text text-anchor=\"middle\" x=\"365\" y=\"-468.8\" font-family=\"Helvetica,sans-Serif\" font-size=\"14.00\">class = 0</text>\n</g>\n<!-- 0&#45;&gt;1 -->\n<g id=\"edge1\" class=\"edge\">\n<title>0&#45;&gt;1</title>\n<path fill=\"none\" stroke=\"black\" d=\"M441.41,-579.91C432.15,-570.65 422.23,-560.73 412.71,-551.21\"/>\n<polygon fill=\"black\" stroke=\"black\" points=\"415.07,-548.62 405.52,-544.02 410.12,-553.57 415.07,-548.62\"/>\n<text text-anchor=\"middle\" x=\"405.52\" y=\"-565.32\" font-family=\"Helvetica,sans-Serif\" font-size=\"14.00\">True</text>\n</g>\n<!-- 12 -->\n<g id=\"node13\" class=\"node\">\n<title>12</title>\n<path fill=\"#e89153\" stroke=\"black\" d=\"M706.5,-544C706.5,-544 595.5,-544 595.5,-544 589.5,-544 583.5,-538 583.5,-532 583.5,-532 583.5,-473 583.5,-473 583.5,-467 589.5,-461 595.5,-461 595.5,-461 706.5,-461 706.5,-461 712.5,-461 718.5,-467 718.5,-473 718.5,-473 718.5,-532 718.5,-532 718.5,-538 712.5,-544 706.5,-544\"/>\n<text text-anchor=\"middle\" x=\"651\" y=\"-528.8\" font-family=\"Helvetica,sans-Serif\" font-size=\"14.00\">flavanoids &lt;= 2.165</text>\n<text text-anchor=\"middle\" x=\"651\" y=\"-513.8\" font-family=\"Helvetica,sans-Serif\" font-size=\"14.00\">gini = 0.222</text>\n<text text-anchor=\"middle\" x=\"651\" y=\"-498.8\" font-family=\"Helvetica,sans-Serif\" font-size=\"14.00\">samples = 49</text>\n<text text-anchor=\"middle\" x=\"651\" y=\"-483.8\" font-family=\"Helvetica,sans-Serif\" font-size=\"14.00\">value = [43, 3, 3]</text>\n<text text-anchor=\"middle\" x=\"651\" y=\"-468.8\" font-family=\"Helvetica,sans-Serif\" font-size=\"14.00\">class = 1</text>\n</g>\n<!-- 0&#45;&gt;12 -->\n<g id=\"edge12\" class=\"edge\">\n<title>0&#45;&gt;12</title>\n<path fill=\"none\" stroke=\"black\" d=\"M540.63,-579.91C554.66,-570.2 569.74,-559.76 584.11,-549.81\"/>\n<polygon fill=\"black\" stroke=\"black\" points=\"586.24,-552.59 592.47,-544.02 582.26,-546.84 586.24,-552.59\"/>\n<text text-anchor=\"middle\" x=\"588\" y=\"-564.92\" font-family=\"Helvetica,sans-Serif\" font-size=\"14.00\">False</text>\n</g>\n<!-- 2 -->\n<g id=\"node3\" class=\"node\">\n<title>2</title>\n<path fill=\"#9254e9\" stroke=\"black\" d=\"M258,-425C258,-425 116,-425 116,-425 110,-425 104,-419 104,-413 104,-413 104,-354 104,-354 104,-348 110,-342 116,-342 116,-342 258,-342 258,-342 264,-342 270,-348 270,-354 270,-354 270,-413 270,-413 270,-419 264,-425 258,-425\"/>\n<text text-anchor=\"middle\" x=\"187\" y=\"-409.8\" font-family=\"Helvetica,sans-Serif\" font-size=\"14.00\">proanthocyanins &lt;= 0.63</text>\n<text text-anchor=\"middle\" x=\"187\" y=\"-394.8\" font-family=\"Helvetica,sans-Serif\" font-size=\"14.00\">gini = 0.211</text>\n<text text-anchor=\"middle\" x=\"187\" y=\"-379.8\" font-family=\"Helvetica,sans-Serif\" font-size=\"14.00\">samples = 25</text>\n<text text-anchor=\"middle\" x=\"187\" y=\"-364.8\" font-family=\"Helvetica,sans-Serif\" font-size=\"14.00\">value = [0, 3, 22]</text>\n<text text-anchor=\"middle\" x=\"187\" y=\"-349.8\" font-family=\"Helvetica,sans-Serif\" font-size=\"14.00\">class = 2</text>\n</g>\n<!-- 1&#45;&gt;2 -->\n<g id=\"edge2\" class=\"edge\">\n<title>1&#45;&gt;2</title>\n<path fill=\"none\" stroke=\"black\" d=\"M303.24,-460.91C288.33,-451.11 272.29,-440.56 257.03,-430.53\"/>\n<polygon fill=\"black\" stroke=\"black\" points=\"258.93,-427.59 248.65,-425.02 255.08,-433.44 258.93,-427.59\"/>\n</g>\n<!-- 5 -->\n<g id=\"node6\" class=\"node\">\n<title>5</title>\n<path fill=\"#45e789\" stroke=\"black\" d=\"M420.5,-425C420.5,-425 309.5,-425 309.5,-425 303.5,-425 297.5,-419 297.5,-413 297.5,-413 297.5,-354 297.5,-354 297.5,-348 303.5,-342 309.5,-342 309.5,-342 420.5,-342 420.5,-342 426.5,-342 432.5,-348 432.5,-354 432.5,-354 432.5,-413 432.5,-413 432.5,-419 426.5,-425 420.5,-425\"/>\n<text text-anchor=\"middle\" x=\"365\" y=\"-409.8\" font-family=\"Helvetica,sans-Serif\" font-size=\"14.00\">flavanoids &lt;= 0.745</text>\n<text text-anchor=\"middle\" x=\"365\" y=\"-394.8\" font-family=\"Helvetica,sans-Serif\" font-size=\"14.00\">gini = 0.114</text>\n<text text-anchor=\"middle\" x=\"365\" y=\"-379.8\" font-family=\"Helvetica,sans-Serif\" font-size=\"14.00\">samples = 50</text>\n<text text-anchor=\"middle\" x=\"365\" y=\"-364.8\" font-family=\"Helvetica,sans-Serif\" font-size=\"14.00\">value = [2, 47, 1]</text>\n<text text-anchor=\"middle\" x=\"365\" y=\"-349.8\" font-family=\"Helvetica,sans-Serif\" font-size=\"14.00\">class = 0</text>\n</g>\n<!-- 1&#45;&gt;5 -->\n<g id=\"edge5\" class=\"edge\">\n<title>1&#45;&gt;5</title>\n<path fill=\"none\" stroke=\"black\" d=\"M365,-460.91C365,-452.65 365,-443.86 365,-435.3\"/>\n<polygon fill=\"black\" stroke=\"black\" points=\"368.5,-435.02 365,-425.02 361.5,-435.02 368.5,-435.02\"/>\n</g>\n<!-- 3 -->\n<g id=\"node4\" class=\"node\">\n<title>3</title>\n<path fill=\"#39e581\" stroke=\"black\" d=\"M98,-298.5C98,-298.5 12,-298.5 12,-298.5 6,-298.5 0,-292.5 0,-286.5 0,-286.5 0,-242.5 0,-242.5 0,-236.5 6,-230.5 12,-230.5 12,-230.5 98,-230.5 98,-230.5 104,-230.5 110,-236.5 110,-242.5 110,-242.5 110,-286.5 110,-286.5 110,-292.5 104,-298.5 98,-298.5\"/>\n<text text-anchor=\"middle\" x=\"55\" y=\"-283.3\" font-family=\"Helvetica,sans-Serif\" font-size=\"14.00\">gini = 0.0</text>\n<text text-anchor=\"middle\" x=\"55\" y=\"-268.3\" font-family=\"Helvetica,sans-Serif\" font-size=\"14.00\">samples = 3</text>\n<text text-anchor=\"middle\" x=\"55\" y=\"-253.3\" font-family=\"Helvetica,sans-Serif\" font-size=\"14.00\">value = [0, 3, 0]</text>\n<text text-anchor=\"middle\" x=\"55\" y=\"-238.3\" font-family=\"Helvetica,sans-Serif\" font-size=\"14.00\">class = 0</text>\n</g>\n<!-- 2&#45;&gt;3 -->\n<g id=\"edge3\" class=\"edge\">\n<title>2&#45;&gt;3</title>\n<path fill=\"none\" stroke=\"black\" d=\"M141.2,-341.91C127.88,-330.1 113.35,-317.22 100.07,-305.45\"/>\n<polygon fill=\"black\" stroke=\"black\" points=\"102.22,-302.68 92.42,-298.67 97.58,-307.92 102.22,-302.68\"/>\n</g>\n<!-- 4 -->\n<g id=\"node5\" class=\"node\">\n<title>4</title>\n<path fill=\"#8139e5\" stroke=\"black\" d=\"M233.5,-298.5C233.5,-298.5 140.5,-298.5 140.5,-298.5 134.5,-298.5 128.5,-292.5 128.5,-286.5 128.5,-286.5 128.5,-242.5 128.5,-242.5 128.5,-236.5 134.5,-230.5 140.5,-230.5 140.5,-230.5 233.5,-230.5 233.5,-230.5 239.5,-230.5 245.5,-236.5 245.5,-242.5 245.5,-242.5 245.5,-286.5 245.5,-286.5 245.5,-292.5 239.5,-298.5 233.5,-298.5\"/>\n<text text-anchor=\"middle\" x=\"187\" y=\"-283.3\" font-family=\"Helvetica,sans-Serif\" font-size=\"14.00\">gini = 0.0</text>\n<text text-anchor=\"middle\" x=\"187\" y=\"-268.3\" font-family=\"Helvetica,sans-Serif\" font-size=\"14.00\">samples = 22</text>\n<text text-anchor=\"middle\" x=\"187\" y=\"-253.3\" font-family=\"Helvetica,sans-Serif\" font-size=\"14.00\">value = [0, 0, 22]</text>\n<text text-anchor=\"middle\" x=\"187\" y=\"-238.3\" font-family=\"Helvetica,sans-Serif\" font-size=\"14.00\">class = 2</text>\n</g>\n<!-- 2&#45;&gt;4 -->\n<g id=\"edge4\" class=\"edge\">\n<title>2&#45;&gt;4</title>\n<path fill=\"none\" stroke=\"black\" d=\"M187,-341.91C187,-331.2 187,-319.62 187,-308.78\"/>\n<polygon fill=\"black\" stroke=\"black\" points=\"190.5,-308.67 187,-298.67 183.5,-308.67 190.5,-308.67\"/>\n</g>\n<!-- 6 -->\n<g id=\"node7\" class=\"node\">\n<title>6</title>\n<path fill=\"#8139e5\" stroke=\"black\" d=\"M362,-298.5C362,-298.5 276,-298.5 276,-298.5 270,-298.5 264,-292.5 264,-286.5 264,-286.5 264,-242.5 264,-242.5 264,-236.5 270,-230.5 276,-230.5 276,-230.5 362,-230.5 362,-230.5 368,-230.5 374,-236.5 374,-242.5 374,-242.5 374,-286.5 374,-286.5 374,-292.5 368,-298.5 362,-298.5\"/>\n<text text-anchor=\"middle\" x=\"319\" y=\"-283.3\" font-family=\"Helvetica,sans-Serif\" font-size=\"14.00\">gini = 0.0</text>\n<text text-anchor=\"middle\" x=\"319\" y=\"-268.3\" font-family=\"Helvetica,sans-Serif\" font-size=\"14.00\">samples = 1</text>\n<text text-anchor=\"middle\" x=\"319\" y=\"-253.3\" font-family=\"Helvetica,sans-Serif\" font-size=\"14.00\">value = [0, 0, 1]</text>\n<text text-anchor=\"middle\" x=\"319\" y=\"-238.3\" font-family=\"Helvetica,sans-Serif\" font-size=\"14.00\">class = 2</text>\n</g>\n<!-- 5&#45;&gt;6 -->\n<g id=\"edge6\" class=\"edge\">\n<title>5&#45;&gt;6</title>\n<path fill=\"none\" stroke=\"black\" d=\"M349.04,-341.91C344.75,-330.98 340.09,-319.14 335.75,-308.11\"/>\n<polygon fill=\"black\" stroke=\"black\" points=\"338.96,-306.69 332.04,-298.67 332.44,-309.25 338.96,-306.69\"/>\n</g>\n<!-- 7 -->\n<g id=\"node8\" class=\"node\">\n<title>7</title>\n<path fill=\"#41e686\" stroke=\"black\" d=\"M505.5,-306C505.5,-306 404.5,-306 404.5,-306 398.5,-306 392.5,-300 392.5,-294 392.5,-294 392.5,-235 392.5,-235 392.5,-229 398.5,-223 404.5,-223 404.5,-223 505.5,-223 505.5,-223 511.5,-223 517.5,-229 517.5,-235 517.5,-235 517.5,-294 517.5,-294 517.5,-300 511.5,-306 505.5,-306\"/>\n<text text-anchor=\"middle\" x=\"455\" y=\"-290.8\" font-family=\"Helvetica,sans-Serif\" font-size=\"14.00\">alcohol &lt;= 13.175</text>\n<text text-anchor=\"middle\" x=\"455\" y=\"-275.8\" font-family=\"Helvetica,sans-Serif\" font-size=\"14.00\">gini = 0.078</text>\n<text text-anchor=\"middle\" x=\"455\" y=\"-260.8\" font-family=\"Helvetica,sans-Serif\" font-size=\"14.00\">samples = 49</text>\n<text text-anchor=\"middle\" x=\"455\" y=\"-245.8\" font-family=\"Helvetica,sans-Serif\" font-size=\"14.00\">value = [2, 47, 0]</text>\n<text text-anchor=\"middle\" x=\"455\" y=\"-230.8\" font-family=\"Helvetica,sans-Serif\" font-size=\"14.00\">class = 0</text>\n</g>\n<!-- 5&#45;&gt;7 -->\n<g id=\"edge7\" class=\"edge\">\n<title>5&#45;&gt;7</title>\n<path fill=\"none\" stroke=\"black\" d=\"M396.23,-341.91C403.14,-332.92 410.53,-323.32 417.65,-314.05\"/>\n<polygon fill=\"black\" stroke=\"black\" points=\"420.51,-316.08 423.83,-306.02 414.96,-311.81 420.51,-316.08\"/>\n</g>\n<!-- 8 -->\n<g id=\"node9\" class=\"node\">\n<title>8</title>\n<path fill=\"#39e581\" stroke=\"black\" d=\"M434.5,-179.5C434.5,-179.5 341.5,-179.5 341.5,-179.5 335.5,-179.5 329.5,-173.5 329.5,-167.5 329.5,-167.5 329.5,-123.5 329.5,-123.5 329.5,-117.5 335.5,-111.5 341.5,-111.5 341.5,-111.5 434.5,-111.5 434.5,-111.5 440.5,-111.5 446.5,-117.5 446.5,-123.5 446.5,-123.5 446.5,-167.5 446.5,-167.5 446.5,-173.5 440.5,-179.5 434.5,-179.5\"/>\n<text text-anchor=\"middle\" x=\"388\" y=\"-164.3\" font-family=\"Helvetica,sans-Serif\" font-size=\"14.00\">gini = 0.0</text>\n<text text-anchor=\"middle\" x=\"388\" y=\"-149.3\" font-family=\"Helvetica,sans-Serif\" font-size=\"14.00\">samples = 45</text>\n<text text-anchor=\"middle\" x=\"388\" y=\"-134.3\" font-family=\"Helvetica,sans-Serif\" font-size=\"14.00\">value = [0, 45, 0]</text>\n<text text-anchor=\"middle\" x=\"388\" y=\"-119.3\" font-family=\"Helvetica,sans-Serif\" font-size=\"14.00\">class = 0</text>\n</g>\n<!-- 7&#45;&gt;8 -->\n<g id=\"edge8\" class=\"edge\">\n<title>7&#45;&gt;8</title>\n<path fill=\"none\" stroke=\"black\" d=\"M431.75,-222.91C425.37,-211.76 418.44,-199.66 412.02,-188.44\"/>\n<polygon fill=\"black\" stroke=\"black\" points=\"415,-186.61 406.99,-179.67 408.93,-190.08 415,-186.61\"/>\n</g>\n<!-- 9 -->\n<g id=\"node10\" class=\"node\">\n<title>9</title>\n<path fill=\"#ffffff\" stroke=\"black\" d=\"M567.5,-187C567.5,-187 476.5,-187 476.5,-187 470.5,-187 464.5,-181 464.5,-175 464.5,-175 464.5,-116 464.5,-116 464.5,-110 470.5,-104 476.5,-104 476.5,-104 567.5,-104 567.5,-104 573.5,-104 579.5,-110 579.5,-116 579.5,-116 579.5,-175 579.5,-175 579.5,-181 573.5,-187 567.5,-187\"/>\n<text text-anchor=\"middle\" x=\"522\" y=\"-171.8\" font-family=\"Helvetica,sans-Serif\" font-size=\"14.00\">proline &lt;= 655.0</text>\n<text text-anchor=\"middle\" x=\"522\" y=\"-156.8\" font-family=\"Helvetica,sans-Serif\" font-size=\"14.00\">gini = 0.5</text>\n<text text-anchor=\"middle\" x=\"522\" y=\"-141.8\" font-family=\"Helvetica,sans-Serif\" font-size=\"14.00\">samples = 4</text>\n<text text-anchor=\"middle\" x=\"522\" y=\"-126.8\" font-family=\"Helvetica,sans-Serif\" font-size=\"14.00\">value = [2, 2, 0]</text>\n<text text-anchor=\"middle\" x=\"522\" y=\"-111.8\" font-family=\"Helvetica,sans-Serif\" font-size=\"14.00\">class = 1</text>\n</g>\n<!-- 7&#45;&gt;9 -->\n<g id=\"edge9\" class=\"edge\">\n<title>7&#45;&gt;9</title>\n<path fill=\"none\" stroke=\"black\" d=\"M478.25,-222.91C483.23,-214.2 488.56,-204.9 493.71,-195.89\"/>\n<polygon fill=\"black\" stroke=\"black\" points=\"496.86,-197.44 498.8,-187.02 490.79,-193.96 496.86,-197.44\"/>\n</g>\n<!-- 10 -->\n<g id=\"node11\" class=\"node\">\n<title>10</title>\n<path fill=\"#39e581\" stroke=\"black\" d=\"M501,-68C501,-68 415,-68 415,-68 409,-68 403,-62 403,-56 403,-56 403,-12 403,-12 403,-6 409,0 415,0 415,0 501,0 501,0 507,0 513,-6 513,-12 513,-12 513,-56 513,-56 513,-62 507,-68 501,-68\"/>\n<text text-anchor=\"middle\" x=\"458\" y=\"-52.8\" font-family=\"Helvetica,sans-Serif\" font-size=\"14.00\">gini = 0.0</text>\n<text text-anchor=\"middle\" x=\"458\" y=\"-37.8\" font-family=\"Helvetica,sans-Serif\" font-size=\"14.00\">samples = 2</text>\n<text text-anchor=\"middle\" x=\"458\" y=\"-22.8\" font-family=\"Helvetica,sans-Serif\" font-size=\"14.00\">value = [0, 2, 0]</text>\n<text text-anchor=\"middle\" x=\"458\" y=\"-7.8\" font-family=\"Helvetica,sans-Serif\" font-size=\"14.00\">class = 0</text>\n</g>\n<!-- 9&#45;&gt;10 -->\n<g id=\"edge10\" class=\"edge\">\n<title>9&#45;&gt;10</title>\n<path fill=\"none\" stroke=\"black\" d=\"M498.17,-103.73C493.1,-95.06 487.75,-85.9 482.65,-77.18\"/>\n<polygon fill=\"black\" stroke=\"black\" points=\"485.53,-75.17 477.46,-68.3 479.49,-78.7 485.53,-75.17\"/>\n</g>\n<!-- 11 -->\n<g id=\"node12\" class=\"node\">\n<title>11</title>\n<path fill=\"#e58139\" stroke=\"black\" d=\"M629,-68C629,-68 543,-68 543,-68 537,-68 531,-62 531,-56 531,-56 531,-12 531,-12 531,-6 537,0 543,0 543,0 629,0 629,0 635,0 641,-6 641,-12 641,-12 641,-56 641,-56 641,-62 635,-68 629,-68\"/>\n<text text-anchor=\"middle\" x=\"586\" y=\"-52.8\" font-family=\"Helvetica,sans-Serif\" font-size=\"14.00\">gini = 0.0</text>\n<text text-anchor=\"middle\" x=\"586\" y=\"-37.8\" font-family=\"Helvetica,sans-Serif\" font-size=\"14.00\">samples = 2</text>\n<text text-anchor=\"middle\" x=\"586\" y=\"-22.8\" font-family=\"Helvetica,sans-Serif\" font-size=\"14.00\">value = [2, 0, 0]</text>\n<text text-anchor=\"middle\" x=\"586\" y=\"-7.8\" font-family=\"Helvetica,sans-Serif\" font-size=\"14.00\">class = 1</text>\n</g>\n<!-- 9&#45;&gt;11 -->\n<g id=\"edge11\" class=\"edge\">\n<title>9&#45;&gt;11</title>\n<path fill=\"none\" stroke=\"black\" d=\"M545.83,-103.73C550.9,-95.06 556.25,-85.9 561.35,-77.18\"/>\n<polygon fill=\"black\" stroke=\"black\" points=\"564.51,-78.7 566.54,-68.3 558.47,-75.17 564.51,-78.7\"/>\n</g>\n<!-- 13 -->\n<g id=\"node14\" class=\"node\">\n<title>13</title>\n<path fill=\"#d5bdf6\" stroke=\"black\" d=\"M701.5,-425C701.5,-425 600.5,-425 600.5,-425 594.5,-425 588.5,-419 588.5,-413 588.5,-413 588.5,-354 588.5,-354 588.5,-348 594.5,-342 600.5,-342 600.5,-342 701.5,-342 701.5,-342 707.5,-342 713.5,-348 713.5,-354 713.5,-354 713.5,-413 713.5,-413 713.5,-419 707.5,-425 701.5,-425\"/>\n<text text-anchor=\"middle\" x=\"651\" y=\"-409.8\" font-family=\"Helvetica,sans-Serif\" font-size=\"14.00\">alcohol &lt;= 12.725</text>\n<text text-anchor=\"middle\" x=\"651\" y=\"-394.8\" font-family=\"Helvetica,sans-Serif\" font-size=\"14.00\">gini = 0.48</text>\n<text text-anchor=\"middle\" x=\"651\" y=\"-379.8\" font-family=\"Helvetica,sans-Serif\" font-size=\"14.00\">samples = 5</text>\n<text text-anchor=\"middle\" x=\"651\" y=\"-364.8\" font-family=\"Helvetica,sans-Serif\" font-size=\"14.00\">value = [0, 2, 3]</text>\n<text text-anchor=\"middle\" x=\"651\" y=\"-349.8\" font-family=\"Helvetica,sans-Serif\" font-size=\"14.00\">class = 2</text>\n</g>\n<!-- 12&#45;&gt;13 -->\n<g id=\"edge13\" class=\"edge\">\n<title>12&#45;&gt;13</title>\n<path fill=\"none\" stroke=\"black\" d=\"M651,-460.91C651,-452.65 651,-443.86 651,-435.3\"/>\n<polygon fill=\"black\" stroke=\"black\" points=\"654.5,-435.02 651,-425.02 647.5,-435.02 654.5,-435.02\"/>\n</g>\n<!-- 16 -->\n<g id=\"node17\" class=\"node\">\n<title>16</title>\n<path fill=\"#e6843e\" stroke=\"black\" d=\"M897.5,-425C897.5,-425 804.5,-425 804.5,-425 798.5,-425 792.5,-419 792.5,-413 792.5,-413 792.5,-354 792.5,-354 792.5,-348 798.5,-342 804.5,-342 804.5,-342 897.5,-342 897.5,-342 903.5,-342 909.5,-348 909.5,-354 909.5,-354 909.5,-413 909.5,-413 909.5,-419 903.5,-425 897.5,-425\"/>\n<text text-anchor=\"middle\" x=\"851\" y=\"-409.8\" font-family=\"Helvetica,sans-Serif\" font-size=\"14.00\">hue &lt;= 1.295</text>\n<text text-anchor=\"middle\" x=\"851\" y=\"-394.8\" font-family=\"Helvetica,sans-Serif\" font-size=\"14.00\">gini = 0.044</text>\n<text text-anchor=\"middle\" x=\"851\" y=\"-379.8\" font-family=\"Helvetica,sans-Serif\" font-size=\"14.00\">samples = 44</text>\n<text text-anchor=\"middle\" x=\"851\" y=\"-364.8\" font-family=\"Helvetica,sans-Serif\" font-size=\"14.00\">value = [43, 1, 0]</text>\n<text text-anchor=\"middle\" x=\"851\" y=\"-349.8\" font-family=\"Helvetica,sans-Serif\" font-size=\"14.00\">class = 1</text>\n</g>\n<!-- 12&#45;&gt;16 -->\n<g id=\"edge16\" class=\"edge\">\n<title>12&#45;&gt;16</title>\n<path fill=\"none\" stroke=\"black\" d=\"M718.71,-461.89C739.63,-449.65 762.67,-436.17 783.57,-423.95\"/>\n<polygon fill=\"black\" stroke=\"black\" points=\"785.52,-426.86 792.39,-418.79 781.99,-420.82 785.52,-426.86\"/>\n</g>\n<!-- 14 -->\n<g id=\"node15\" class=\"node\">\n<title>14</title>\n<path fill=\"#39e581\" stroke=\"black\" d=\"M634,-298.5C634,-298.5 548,-298.5 548,-298.5 542,-298.5 536,-292.5 536,-286.5 536,-286.5 536,-242.5 536,-242.5 536,-236.5 542,-230.5 548,-230.5 548,-230.5 634,-230.5 634,-230.5 640,-230.5 646,-236.5 646,-242.5 646,-242.5 646,-286.5 646,-286.5 646,-292.5 640,-298.5 634,-298.5\"/>\n<text text-anchor=\"middle\" x=\"591\" y=\"-283.3\" font-family=\"Helvetica,sans-Serif\" font-size=\"14.00\">gini = 0.0</text>\n<text text-anchor=\"middle\" x=\"591\" y=\"-268.3\" font-family=\"Helvetica,sans-Serif\" font-size=\"14.00\">samples = 2</text>\n<text text-anchor=\"middle\" x=\"591\" y=\"-253.3\" font-family=\"Helvetica,sans-Serif\" font-size=\"14.00\">value = [0, 2, 0]</text>\n<text text-anchor=\"middle\" x=\"591\" y=\"-238.3\" font-family=\"Helvetica,sans-Serif\" font-size=\"14.00\">class = 0</text>\n</g>\n<!-- 13&#45;&gt;14 -->\n<g id=\"edge14\" class=\"edge\">\n<title>13&#45;&gt;14</title>\n<path fill=\"none\" stroke=\"black\" d=\"M630.18,-341.91C624.52,-330.87 618.38,-318.9 612.68,-307.77\"/>\n<polygon fill=\"black\" stroke=\"black\" points=\"615.69,-305.97 608.01,-298.67 609.46,-309.16 615.69,-305.97\"/>\n</g>\n<!-- 15 -->\n<g id=\"node16\" class=\"node\">\n<title>15</title>\n<path fill=\"#8139e5\" stroke=\"black\" d=\"M762,-298.5C762,-298.5 676,-298.5 676,-298.5 670,-298.5 664,-292.5 664,-286.5 664,-286.5 664,-242.5 664,-242.5 664,-236.5 670,-230.5 676,-230.5 676,-230.5 762,-230.5 762,-230.5 768,-230.5 774,-236.5 774,-242.5 774,-242.5 774,-286.5 774,-286.5 774,-292.5 768,-298.5 762,-298.5\"/>\n<text text-anchor=\"middle\" x=\"719\" y=\"-283.3\" font-family=\"Helvetica,sans-Serif\" font-size=\"14.00\">gini = 0.0</text>\n<text text-anchor=\"middle\" x=\"719\" y=\"-268.3\" font-family=\"Helvetica,sans-Serif\" font-size=\"14.00\">samples = 3</text>\n<text text-anchor=\"middle\" x=\"719\" y=\"-253.3\" font-family=\"Helvetica,sans-Serif\" font-size=\"14.00\">value = [0, 0, 3]</text>\n<text text-anchor=\"middle\" x=\"719\" y=\"-238.3\" font-family=\"Helvetica,sans-Serif\" font-size=\"14.00\">class = 2</text>\n</g>\n<!-- 13&#45;&gt;15 -->\n<g id=\"edge15\" class=\"edge\">\n<title>13&#45;&gt;15</title>\n<path fill=\"none\" stroke=\"black\" d=\"M674.59,-341.91C681.07,-330.76 688.1,-318.66 694.63,-307.44\"/>\n<polygon fill=\"black\" stroke=\"black\" points=\"697.72,-309.07 699.72,-298.67 691.67,-305.55 697.72,-309.07\"/>\n</g>\n<!-- 17 -->\n<g id=\"node18\" class=\"node\">\n<title>17</title>\n<path fill=\"#e58139\" stroke=\"black\" d=\"M897.5,-298.5C897.5,-298.5 804.5,-298.5 804.5,-298.5 798.5,-298.5 792.5,-292.5 792.5,-286.5 792.5,-286.5 792.5,-242.5 792.5,-242.5 792.5,-236.5 798.5,-230.5 804.5,-230.5 804.5,-230.5 897.5,-230.5 897.5,-230.5 903.5,-230.5 909.5,-236.5 909.5,-242.5 909.5,-242.5 909.5,-286.5 909.5,-286.5 909.5,-292.5 903.5,-298.5 897.5,-298.5\"/>\n<text text-anchor=\"middle\" x=\"851\" y=\"-283.3\" font-family=\"Helvetica,sans-Serif\" font-size=\"14.00\">gini = 0.0</text>\n<text text-anchor=\"middle\" x=\"851\" y=\"-268.3\" font-family=\"Helvetica,sans-Serif\" font-size=\"14.00\">samples = 43</text>\n<text text-anchor=\"middle\" x=\"851\" y=\"-253.3\" font-family=\"Helvetica,sans-Serif\" font-size=\"14.00\">value = [43, 0, 0]</text>\n<text text-anchor=\"middle\" x=\"851\" y=\"-238.3\" font-family=\"Helvetica,sans-Serif\" font-size=\"14.00\">class = 1</text>\n</g>\n<!-- 16&#45;&gt;17 -->\n<g id=\"edge17\" class=\"edge\">\n<title>16&#45;&gt;17</title>\n<path fill=\"none\" stroke=\"black\" d=\"M851,-341.91C851,-331.2 851,-319.62 851,-308.78\"/>\n<polygon fill=\"black\" stroke=\"black\" points=\"854.5,-308.67 851,-298.67 847.5,-308.67 854.5,-308.67\"/>\n</g>\n<!-- 18 -->\n<g id=\"node19\" class=\"node\">\n<title>18</title>\n<path fill=\"#39e581\" stroke=\"black\" d=\"M1026,-298.5C1026,-298.5 940,-298.5 940,-298.5 934,-298.5 928,-292.5 928,-286.5 928,-286.5 928,-242.5 928,-242.5 928,-236.5 934,-230.5 940,-230.5 940,-230.5 1026,-230.5 1026,-230.5 1032,-230.5 1038,-236.5 1038,-242.5 1038,-242.5 1038,-286.5 1038,-286.5 1038,-292.5 1032,-298.5 1026,-298.5\"/>\n<text text-anchor=\"middle\" x=\"983\" y=\"-283.3\" font-family=\"Helvetica,sans-Serif\" font-size=\"14.00\">gini = 0.0</text>\n<text text-anchor=\"middle\" x=\"983\" y=\"-268.3\" font-family=\"Helvetica,sans-Serif\" font-size=\"14.00\">samples = 1</text>\n<text text-anchor=\"middle\" x=\"983\" y=\"-253.3\" font-family=\"Helvetica,sans-Serif\" font-size=\"14.00\">value = [0, 1, 0]</text>\n<text text-anchor=\"middle\" x=\"983\" y=\"-238.3\" font-family=\"Helvetica,sans-Serif\" font-size=\"14.00\">class = 0</text>\n</g>\n<!-- 16&#45;&gt;18 -->\n<g id=\"edge18\" class=\"edge\">\n<title>16&#45;&gt;18</title>\n<path fill=\"none\" stroke=\"black\" d=\"M896.8,-341.91C910.12,-330.1 924.65,-317.22 937.93,-305.45\"/>\n<polygon fill=\"black\" stroke=\"black\" points=\"940.42,-307.92 945.58,-298.67 935.78,-302.68 940.42,-307.92\"/>\n</g>\n</g>\n</svg>\n",
      "text/plain": [
       "<graphviz.sources.Source at 0x1910700be50>"
      ]
     },
     "execution_count": 67,
     "metadata": {},
     "output_type": "execute_result"
    }
   ],
   "source": [
    "# 可视化当前决策树模型\n",
    "dot_data = export_graphviz(\n",
    "  clf,\n",
    "  out_file=None,\n",
    "  feature_names=dataset.feature_names,\n",
    "  class_names=[str(i[0]) for i in list(pd.DataFrame(y).value_counts().index)],\n",
    "  filled = True,\n",
    "  rounded = True\n",
    ")\n",
    "\n",
    "# 可视化呈现\n",
    "graph = graphviz.Source(dot_data)\n",
    "graph\n"
   ]
  },
  {
   "cell_type": "code",
   "execution_count": 69,
   "metadata": {},
   "outputs": [
    {
     "data": {
      "text/plain": [
       "[('alcohol', 0.023084847155971637),\n",
       " ('malic_acid', 0.03016420028380296),\n",
       " ('ash', 0.0),\n",
       " ('alcalinity_of_ash', 0.0),\n",
       " ('magnesium', 0.0),\n",
       " ('total_phenols', 0.0),\n",
       " ('flavanoids', 0.10591001422775764),\n",
       " ('nonflavanoid_phenols', 0.0),\n",
       " ('proanthocyanins', 0.06636124062436652),\n",
       " ('color_intensity', 0.025136833569835797),\n",
       " ('hue', 0.024565541897794068),\n",
       " ('od280/od315_of_diluted_wines', 0.29611189945266575),\n",
       " ('proline', 0.4286654227878057)]"
      ]
     },
     "execution_count": 69,
     "metadata": {},
     "output_type": "execute_result"
    }
   ],
   "source": [
    "# 决策树对象相关的重要属性\n",
    "\n",
    "# 1.显示各个特征的重要性\n",
    "# clf.feature_importances_\n",
    "[*zip(dataset.feature_names, clf.feature_importances_)]"
   ]
  },
  {
   "cell_type": "code",
   "execution_count": 73,
   "metadata": {},
   "outputs": [
    {
     "data": {
      "text/plain": [
       "array([17, 10,  8,  8, 17, 17, 11, 17,  8, 17, 17, 17,  4, 17,  8, 17,  3,\n",
       "        4, 17, 17, 17,  4,  8, 14,  3,  4, 17, 17,  8,  8,  8,  4,  4, 17,\n",
       "       15,  4,  6,  4,  8, 17, 17,  8, 17,  8,  8,  8,  8, 17, 17, 17,  8,\n",
       "        8, 17, 17,  4, 17,  4, 17, 17,  4,  8,  4, 11, 17, 10, 17,  4,  8,\n",
       "        8, 17, 17,  8, 17,  8,  4, 14, 17, 17, 17,  8,  8,  8,  4,  4,  8,\n",
       "       17,  8,  8,  8,  8,  8,  8,  8,  8,  4,  4,  4, 15, 17,  8, 17, 17,\n",
       "       17,  3,  4,  8,  4,  4,  8, 17, 18, 17, 15,  8,  8, 17,  8,  8,  8,\n",
       "       17,  8,  8,  8,  8], dtype=int64)"
      ]
     },
     "execution_count": 73,
     "metadata": {},
     "output_type": "execute_result"
    }
   ],
   "source": [
    "# 返回经过决策树模型的训练，每一个训练样本决策树将其分到了哪一个叶子节点\n",
    "clf.apply(Xtrain)"
   ]
  },
  {
   "cell_type": "code",
   "execution_count": 77,
   "metadata": {},
   "outputs": [
    {
     "data": {
      "text/plain": [
       "19"
      ]
     },
     "execution_count": 77,
     "metadata": {},
     "output_type": "execute_result"
    }
   ],
   "source": [
    "# 返回树节点的个数\n",
    "clf.tree_.node_count"
   ]
  },
  {
   "cell_type": "code",
   "execution_count": 78,
   "metadata": {},
   "outputs": [
    {
     "data": {
      "text/plain": [
       "array([12, 11,  8, -2, -2,  6, -2,  0, -2,  9, -2, -2,  6,  1, -2, -2, 10,\n",
       "       -2, -2], dtype=int64)"
      ]
     },
     "execution_count": 78,
     "metadata": {},
     "output_type": "execute_result"
    }
   ],
   "source": [
    "# 返回每个节点对应的特征索引值\n",
    "clf.tree_.feature"
   ]
  },
  {
   "cell_type": "code",
   "execution_count": 82,
   "metadata": {},
   "outputs": [
    {
     "data": {
      "text/plain": [
       "1.0"
      ]
     },
     "execution_count": 82,
     "metadata": {},
     "output_type": "execute_result"
    },
    {
     "data": {
      "text/plain": [
       "0.9629629629629629"
      ]
     },
     "execution_count": 82,
     "metadata": {},
     "output_type": "execute_result"
    }
   ],
   "source": [
    "# 查看当前决策树模型在训练集上的表现如何\n",
    "clf.score(Xtrain, Ytrain)\n",
    "clf.score(Xtest, Ytest)"
   ]
  },
  {
   "cell_type": "code",
   "execution_count": null,
   "metadata": {},
   "outputs": [],
   "source": []
  },
  {
   "cell_type": "code",
   "execution_count": null,
   "metadata": {},
   "outputs": [],
   "source": []
  },
  {
   "cell_type": "code",
   "execution_count": null,
   "metadata": {},
   "outputs": [],
   "source": []
  },
  {
   "cell_type": "code",
   "execution_count": null,
   "metadata": {},
   "outputs": [],
   "source": []
  },
  {
   "cell_type": "code",
   "execution_count": null,
   "metadata": {},
   "outputs": [],
   "source": []
  },
  {
   "cell_type": "code",
   "execution_count": null,
   "metadata": {},
   "outputs": [],
   "source": []
  },
  {
   "cell_type": "code",
   "execution_count": null,
   "metadata": {},
   "outputs": [],
   "source": []
  },
  {
   "cell_type": "code",
   "execution_count": null,
   "metadata": {},
   "outputs": [],
   "source": []
  }
 ],
 "metadata": {
  "kernelspec": {
   "display_name": "BigDataMiningVenvsForPython38",
   "language": "python",
   "name": "python3"
  },
  "language_info": {
   "codemirror_mode": {
    "name": "ipython",
    "version": 3
   },
   "file_extension": ".py",
   "mimetype": "text/x-python",
   "name": "python",
   "nbconvert_exporter": "python",
   "pygments_lexer": "ipython3",
   "version": "3.8.13"
  },
  "orig_nbformat": 4
 },
 "nbformat": 4,
 "nbformat_minor": 2
}
