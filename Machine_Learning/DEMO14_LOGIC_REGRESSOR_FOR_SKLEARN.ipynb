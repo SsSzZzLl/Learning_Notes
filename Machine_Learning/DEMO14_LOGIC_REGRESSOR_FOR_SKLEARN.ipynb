{
 "cells": [
  {
   "cell_type": "code",
   "execution_count": 1,
   "metadata": {},
   "outputs": [],
   "source": [
    "# 导包\n",
    "import numpy as np\n",
    "import pandas as pd\n",
    "import matplotlib.pyplot as plt\n",
    "\n",
    "from IPython.core.interactiveshell import InteractiveShell # 这个对象设置所有行全部输出\n",
    "\n",
    "# 导入鸢尾花数据集\n",
    "from sklearn.datasets import load_iris\n",
    "\n",
    "# 导入数据集划分工具\n",
    "from sklearn.model_selection import train_test_split\n",
    "\n",
    "# 导入逻辑回归模型\n",
    "from sklearn.linear_model import LogisticRegression\n",
    "\n",
    "# 导入分类模型评估指标accuracy_score\n",
    "from sklearn.metrics import accuracy_score\n",
    "\n",
    "# 设置该对象ast_node_interactivity属性的值为all，表示在notebook下每一行有输出的代码全部输出运算结果\n",
    "InteractiveShell.ast_node_interactivity = \"all\"\n",
    "\n",
    "# 解决坐标轴刻度负号乱码\n",
    "plt.rcParams['axes.unicode_minus'] = False\n",
    "\n",
    "# 解决中文乱码问题\n",
    "plt.rcParams['font.sans-serif'] = ['Simhei']\n",
    "plt.style.use('ggplot')"
   ]
  },
  {
   "cell_type": "code",
   "execution_count": 3,
   "metadata": {},
   "outputs": [],
   "source": [
    "dataset  = load_iris()\n",
    "x = dataset.data\n",
    "y = dataset.target"
   ]
  },
  {
   "cell_type": "code",
   "execution_count": 4,
   "metadata": {},
   "outputs": [],
   "source": [
    "# 数据集划分\n",
    "Xtrain, Xtest, Ytrain, Ytest = train_test_split(x, y, test_size=0.3, random_state=123)"
   ]
  },
  {
   "cell_type": "code",
   "execution_count": 5,
   "metadata": {},
   "outputs": [
    {
     "data": {
      "text/plain": [
       "array([1, 2, 2, 1, 0, 1, 1, 0, 0, 1, 2, 0, 1, 2, 2, 2, 0, 0, 1, 0, 0, 1,\n",
       "       0, 2, 0, 0, 0, 2, 2, 0, 2, 1, 0, 0, 1, 1, 2, 0, 0, 1, 1, 0, 2, 2,\n",
       "       2])"
      ]
     },
     "execution_count": 5,
     "metadata": {},
     "output_type": "execute_result"
    }
   ],
   "source": [
    "# 构建逻辑回归模型\n",
    "clf = LogisticRegression()\n",
    "\n",
    "# 训练模型\n",
    "clf = clf.fit(Xtrain, Ytrain)\n",
    "\n",
    "# 模型前向计算（预测）\n",
    "y_pred = clf.predict(Xtest)\n",
    "y_pred"
   ]
  },
  {
   "cell_type": "code",
   "execution_count": 7,
   "metadata": {},
   "outputs": [
    {
     "data": {
      "text/plain": [
       "0.9333333333333333"
      ]
     },
     "execution_count": 7,
     "metadata": {},
     "output_type": "execute_result"
    }
   ],
   "source": [
    "# 评估模型准确率\n",
    "accuracy_score(y_pred, Ytest)"
   ]
  },
  {
   "cell_type": "code",
   "execution_count": 8,
   "metadata": {},
   "outputs": [
    {
     "data": {
      "text/plain": [
       "array([[1.19011338e-03, 6.34446769e-01, 3.64363117e-01],\n",
       "       [5.10454735e-05, 1.03746097e-01, 8.96202858e-01],\n",
       "       [2.24501654e-05, 4.80883518e-02, 9.51889198e-01],\n",
       "       [3.25714656e-02, 9.22526829e-01, 4.49017055e-02],\n",
       "       [9.80280348e-01, 1.97196168e-02, 3.48110036e-08],\n",
       "       [2.55351465e-03, 5.13729444e-01, 4.83717042e-01],\n",
       "       [4.14142209e-03, 9.08865071e-01, 8.69935065e-02],\n",
       "       [9.84721529e-01, 1.52784299e-02, 4.11371092e-08],\n",
       "       [9.74398931e-01, 2.56009681e-02, 1.00932996e-07],\n",
       "       [1.23157103e-02, 8.95233371e-01, 9.24509190e-02],\n",
       "       [2.03136213e-04, 1.81192395e-01, 8.18604469e-01],\n",
       "       [9.80872460e-01, 1.91275146e-02, 2.49971225e-08],\n",
       "       [5.14757725e-02, 9.01931458e-01, 4.65927696e-02],\n",
       "       [1.22005053e-04, 1.76172450e-01, 8.23705545e-01],\n",
       "       [1.23331076e-06, 2.21671608e-02, 9.77831606e-01],\n",
       "       [1.11147861e-05, 3.25319546e-02, 9.67456931e-01],\n",
       "       [9.68220109e-01, 3.17798495e-02, 4.12454448e-08],\n",
       "       [9.88962740e-01, 1.10372447e-02, 1.52404195e-08],\n",
       "       [4.29359475e-03, 7.97301896e-01, 1.98404509e-01],\n",
       "       [9.65773723e-01, 3.42261423e-02, 1.34774975e-07],\n",
       "       [9.67372582e-01, 3.26273503e-02, 6.80825310e-08],\n",
       "       [8.92787688e-04, 5.31699447e-01, 4.67407766e-01],\n",
       "       [9.37827000e-01, 6.21723768e-02, 6.23370503e-07],\n",
       "       [1.68244889e-03, 4.61121534e-01, 5.37196017e-01],\n",
       "       [9.70115465e-01, 2.98844376e-02, 9.72534442e-08],\n",
       "       [9.28146227e-01, 7.18534726e-02, 3.00372353e-07],\n",
       "       [9.50218132e-01, 4.97816630e-02, 2.04688954e-07],\n",
       "       [1.21828511e-03, 2.62812918e-01, 7.35968797e-01],\n",
       "       [2.86664889e-07, 7.84040142e-03, 9.92159312e-01],\n",
       "       [9.77952882e-01, 2.20470705e-02, 4.77568658e-08],\n",
       "       [3.10263515e-06, 4.80170264e-02, 9.51979871e-01],\n",
       "       [7.41491729e-04, 5.00841910e-01, 4.98416598e-01],\n",
       "       [9.62252448e-01, 3.77473594e-02, 1.92496558e-07],\n",
       "       [9.73165222e-01, 2.68347205e-02, 5.70514232e-08],\n",
       "       [1.30964474e-02, 9.69133759e-01, 1.77697937e-02],\n",
       "       [1.48088470e-01, 8.47918532e-01, 3.99299796e-03],\n",
       "       [1.90618262e-06, 3.23034569e-02, 9.67694637e-01],\n",
       "       [9.54684931e-01, 4.53148046e-02, 2.64626133e-07],\n",
       "       [9.80115969e-01, 1.98839911e-02, 3.95864485e-08],\n",
       "       [3.13506590e-02, 9.47892807e-01, 2.07565336e-02],\n",
       "       [7.63372033e-02, 9.15402113e-01, 8.26068408e-03],\n",
       "       [9.78082722e-01, 2.19172462e-02, 3.21989609e-08],\n",
       "       [6.16929982e-06, 2.46274164e-02, 9.75366414e-01],\n",
       "       [1.25882973e-04, 1.27092180e-01, 8.72781937e-01],\n",
       "       [5.16460601e-04, 2.25674537e-01, 7.73809003e-01]])"
      ]
     },
     "execution_count": 8,
     "metadata": {},
     "output_type": "execute_result"
    }
   ],
   "source": [
    "# 获取预测结果的概率分布\n",
    "clf.predict_proba(Xtest)"
   ]
  },
  {
   "cell_type": "code",
   "execution_count": 10,
   "metadata": {},
   "outputs": [
    {
     "data": {
      "text/plain": [
       "array([  9.63553225,   1.77023668, -11.40576893])"
      ]
     },
     "execution_count": 10,
     "metadata": {},
     "output_type": "execute_result"
    },
    {
     "data": {
      "text/plain": [
       "array([[-0.45745385,  0.82308704, -2.3134409 , -0.98424397],\n",
       "       [ 0.50937705, -0.22432676, -0.18841994, -0.81164561],\n",
       "       [-0.05192321, -0.59876028,  2.50186084,  1.79588959]])"
      ]
     },
     "execution_count": 10,
     "metadata": {},
     "output_type": "execute_result"
    }
   ],
   "source": [
    "# 查看截距\n",
    "clf.intercept_\n",
    "\n",
    "clf.coef_"
   ]
  },
  {
   "cell_type": "code",
   "execution_count": null,
   "metadata": {},
   "outputs": [],
   "source": []
  },
  {
   "cell_type": "code",
   "execution_count": null,
   "metadata": {},
   "outputs": [],
   "source": []
  },
  {
   "cell_type": "code",
   "execution_count": null,
   "metadata": {},
   "outputs": [],
   "source": []
  },
  {
   "cell_type": "code",
   "execution_count": null,
   "metadata": {},
   "outputs": [],
   "source": []
  },
  {
   "cell_type": "code",
   "execution_count": null,
   "metadata": {},
   "outputs": [],
   "source": []
  },
  {
   "cell_type": "code",
   "execution_count": null,
   "metadata": {},
   "outputs": [],
   "source": []
  },
  {
   "cell_type": "code",
   "execution_count": null,
   "metadata": {},
   "outputs": [],
   "source": []
  },
  {
   "cell_type": "code",
   "execution_count": null,
   "metadata": {},
   "outputs": [],
   "source": []
  },
  {
   "cell_type": "code",
   "execution_count": null,
   "metadata": {},
   "outputs": [],
   "source": []
  },
  {
   "cell_type": "code",
   "execution_count": null,
   "metadata": {},
   "outputs": [],
   "source": []
  },
  {
   "cell_type": "code",
   "execution_count": null,
   "metadata": {},
   "outputs": [],
   "source": []
  },
  {
   "cell_type": "code",
   "execution_count": null,
   "metadata": {},
   "outputs": [],
   "source": []
  },
  {
   "cell_type": "code",
   "execution_count": null,
   "metadata": {},
   "outputs": [],
   "source": []
  },
  {
   "cell_type": "code",
   "execution_count": null,
   "metadata": {},
   "outputs": [],
   "source": []
  }
 ],
 "metadata": {
  "kernelspec": {
   "display_name": "BigDataMiningVenvsForPython38",
   "language": "python",
   "name": "python3"
  },
  "language_info": {
   "codemirror_mode": {
    "name": "ipython",
    "version": 3
   },
   "file_extension": ".py",
   "mimetype": "text/x-python",
   "name": "python",
   "nbconvert_exporter": "python",
   "pygments_lexer": "ipython3",
   "version": "3.8.13"
  },
  "orig_nbformat": 4
 },
 "nbformat": 4,
 "nbformat_minor": 2
}
